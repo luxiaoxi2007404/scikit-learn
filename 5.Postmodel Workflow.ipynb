{
 "cells": [
  {
   "cell_type": "markdown",
   "metadata": {},
   "source": [
    "## 目录  \n",
    "- K折交叉验证    \n",
    "    - 示例  \n",
    "- 自动交叉验证   \n",
    "- 随机拆分交叉验证    \n",
    "- 分层随机抽样    \n",
    "- 穷人的网格搜索    \n",
    "- 暴力网格搜索    \n",
    "    - 网格搜索  \n",
    "    - 随机搜索  \n",
    "- 运用虚拟变量比较模型    \n",
    "- 评估回归模型    \n",
    "- 特征选择  \n",
    "- 运用L1进行特征选择  \n",
    "- 运用joblib保存模型  \n",
    " "
   ]
  },
  {
   "cell_type": "code",
   "execution_count": 1,
   "metadata": {
    "collapsed": true
   },
   "outputs": [],
   "source": [
    "import numpy as np\n",
    "import pandas as pd \n",
    "from pandas import Series,DataFrame\n",
    "import matplotlib.pyplot as plt\n",
    "import seaborn as sns \n",
    "import sklearn"
   ]
  },
  {
   "cell_type": "code",
   "execution_count": 2,
   "metadata": {
    "collapsed": true
   },
   "outputs": [],
   "source": [
    "%matplotlib inline"
   ]
  },
  {
   "cell_type": "markdown",
   "metadata": {},
   "source": [
    "# K折交叉验证\n",
    "- 仅仅展示了K折是什么，没有具体运用到模型中去"
   ]
  },
  {
   "cell_type": "code",
   "execution_count": 3,
   "metadata": {
    "collapsed": false
   },
   "outputs": [],
   "source": [
    "from sklearn.model_selection import KFold"
   ]
  },
  {
   "cell_type": "code",
   "execution_count": 4,
   "metadata": {
    "collapsed": true
   },
   "outputs": [],
   "source": [
    "from sklearn.datasets import make_regression\n",
    "X, y = make_regression(1000, shuffle=True)"
   ]
  },
  {
   "cell_type": "code",
   "execution_count": 5,
   "metadata": {
    "collapsed": true
   },
   "outputs": [],
   "source": [
    "# 分离训练集和测试集\n",
    "N = 1000\n",
    "holdout = 200\n",
    "\n",
    "X_h, y_h = X[:holdout], y[:holdout]\n",
    "X_t, y_t = X[holdout:], y[holdout:]"
   ]
  },
  {
   "cell_type": "code",
   "execution_count": 6,
   "metadata": {
    "collapsed": false
   },
   "outputs": [],
   "source": [
    "# 生成KFold对象，4折交叉验证\n",
    "kfold = KFold(n_splits=4)"
   ]
  },
  {
   "cell_type": "code",
   "execution_count": 7,
   "metadata": {
    "collapsed": false
   },
   "outputs": [
    {
     "name": "stdout",
     "output_type": "stream",
     "text": [
      "Fold: 0, N_train: 600, N_test: 200\n",
      "Fold: 1, N_train: 600, N_test: 200\n",
      "Fold: 2, N_train: 600, N_test: 200\n",
      "Fold: 3, N_train: 600, N_test: 200\n"
     ]
    }
   ],
   "source": [
    "# split方法生成将数据集切分为训练集、验证集的索引\n",
    "output_string = \"Fold: {}, N_train: {}, N_test: {}\"\n",
    "\n",
    "for i, (train, test) in enumerate(kfold.split(X_t)):\n",
    "    print output_string.format(i, len(y_t[train]), len(y_t[test]))"
   ]
  },
  {
   "cell_type": "code",
   "execution_count": 8,
   "metadata": {
    "collapsed": false
   },
   "outputs": [
    {
     "data": {
      "text/plain": [
       "generator"
      ]
     },
     "execution_count": 8,
     "metadata": {},
     "output_type": "execute_result"
    }
   ],
   "source": [
    "# KFold对象是一个generator对象（生成器），用for循环来调用\n",
    "type(kfold.split(X_t))"
   ]
  },
  {
   "cell_type": "markdown",
   "metadata": {},
   "source": [
    "####  示例\n",
    "长格式的数据集：每个样本占了8行，切分训练集和验证集时需要进行层次切分，即按照病人ID进行切分"
   ]
  },
  {
   "cell_type": "code",
   "execution_count": 9,
   "metadata": {
    "collapsed": false
   },
   "outputs": [
    {
     "data": {
      "text/html": [
       "<div>\n",
       "<table border=\"1\" class=\"dataframe\">\n",
       "  <thead>\n",
       "    <tr style=\"text-align: right;\">\n",
       "      <th></th>\n",
       "      <th>patient_id</th>\n",
       "      <th>ys</th>\n",
       "    </tr>\n",
       "  </thead>\n",
       "  <tbody>\n",
       "    <tr>\n",
       "      <th>0</th>\n",
       "      <td>0</td>\n",
       "      <td>0.802354</td>\n",
       "    </tr>\n",
       "    <tr>\n",
       "      <th>1</th>\n",
       "      <td>0</td>\n",
       "      <td>0.480506</td>\n",
       "    </tr>\n",
       "    <tr>\n",
       "      <th>2</th>\n",
       "      <td>0</td>\n",
       "      <td>-1.362567</td>\n",
       "    </tr>\n",
       "    <tr>\n",
       "      <th>3</th>\n",
       "      <td>0</td>\n",
       "      <td>0.800797</td>\n",
       "    </tr>\n",
       "    <tr>\n",
       "      <th>4</th>\n",
       "      <td>0</td>\n",
       "      <td>1.269338</td>\n",
       "    </tr>\n",
       "  </tbody>\n",
       "</table>\n",
       "</div>"
      ],
      "text/plain": [
       "   patient_id        ys\n",
       "0           0  0.802354\n",
       "1           0  0.480506\n",
       "2           0 -1.362567\n",
       "3           0  0.800797\n",
       "4           0  1.269338"
      ]
     },
     "execution_count": 9,
     "metadata": {},
     "output_type": "execute_result"
    }
   ],
   "source": [
    "# 准备数据集\n",
    "patients = np.repeat(np.arange(0, 100, dtype=np.int8), 8)\n",
    "measurements = pd.DataFrame({'patient_id': patients,'ys': np.random.normal(0, 1, 800)})\n",
    "\n",
    "measurements.head()"
   ]
  },
  {
   "cell_type": "code",
   "execution_count": 10,
   "metadata": {
    "collapsed": false
   },
   "outputs": [
    {
     "name": "stdout",
     "output_type": "stream",
     "text": [
      "Fold: 0, N_train: 600, N_test: 200\n",
      "Fold: 1, N_train: 600, N_test: 200\n",
      "Fold: 2, N_train: 600, N_test: 200\n",
      "Fold: 3, N_train: 600, N_test: 200\n"
     ]
    }
   ],
   "source": [
    "custids = np.unique(measurements.patient_id)  # 病人(按ID考虑的)\n",
    "\n",
    "customer_kfold = KFold(n_splits=4)\n",
    "output_string = \"Fold: {}, N_train: {}, N_test: {}\"\n",
    "for i, (train, test) in enumerate(customer_kfold.split(custids)):\n",
    "    train_cust_ids = custids[train]\n",
    "    # 在measurements数据集上切分成训练集\n",
    "    training = measurements[measurements.patient_id.isin(train_cust_ids)]\n",
    "    # 在measurements数据集上切分成验证集\n",
    "    testing = measurements[~measurements.patient_id.isin(train_cust_ids)]\n",
    "    print output_string.format(i, len(training), len(testing))"
   ]
  },
  {
   "cell_type": "markdown",
   "metadata": {},
   "source": [
    "以上两个例子的区别：  \n",
    "第一个将样本分为训练集和测试集，又进一步将训练集分为训练集和验证集，为6:2:2  \n",
    "第二个将样本只分为训练集和验证集，没有测试集  "
   ]
  },
  {
   "cell_type": "markdown",
   "metadata": {},
   "source": [
    "# 自动交叉验证"
   ]
  },
  {
   "cell_type": "code",
   "execution_count": 11,
   "metadata": {
    "collapsed": true
   },
   "outputs": [],
   "source": [
    "from sklearn import model_selection"
   ]
  },
  {
   "cell_type": "code",
   "execution_count": 12,
   "metadata": {
    "collapsed": true
   },
   "outputs": [],
   "source": [
    "# 创建数据集\n",
    "from sklearn import datasets\n",
    "X, y = datasets.make_regression(10000, 10)"
   ]
  },
  {
   "cell_type": "code",
   "execution_count": 13,
   "metadata": {
    "collapsed": true
   },
   "outputs": [],
   "source": [
    "# 以随机森林模型作为一个模型应用的示例\n",
    "from sklearn import ensemble\n",
    "rf = ensemble.RandomForestRegressor(max_features='auto')"
   ]
  },
  {
   "cell_type": "code",
   "execution_count": 14,
   "metadata": {
    "collapsed": false
   },
   "outputs": [],
   "source": [
    "# 默认进行3折交叉验证，为模型评分\n",
    "scores = model_selection.cross_val_score(rf, X, y)"
   ]
  },
  {
   "cell_type": "code",
   "execution_count": 15,
   "metadata": {
    "collapsed": false
   },
   "outputs": [
    {
     "name": "stdout",
     "output_type": "stream",
     "text": [
      "[ 0.94297974  0.94073309  0.93987971]\n"
     ]
    }
   ],
   "source": [
    "print scores"
   ]
  },
  {
   "cell_type": "code",
   "execution_count": 16,
   "metadata": {
    "collapsed": false
   },
   "outputs": [
    {
     "name": "stdout",
     "output_type": "stream",
     "text": [
      "[CV]  ................................................................\n",
      "[CV] ....................................... , score=0.946720 -   0.0s\n",
      "[CV]  ................................................................\n"
     ]
    },
    {
     "name": "stderr",
     "output_type": "stream",
     "text": [
      "[Parallel(n_jobs=1)]: Done   1 out of   1 | elapsed:    0.5s remaining:    0.0s\n"
     ]
    },
    {
     "name": "stdout",
     "output_type": "stream",
     "text": [
      "[CV] ....................................... , score=0.941371 -   0.0s\n",
      "[CV]  ................................................................\n"
     ]
    },
    {
     "name": "stderr",
     "output_type": "stream",
     "text": [
      "[Parallel(n_jobs=1)]: Done   2 out of   2 | elapsed:    1.1s remaining:    0.0s\n"
     ]
    },
    {
     "name": "stdout",
     "output_type": "stream",
     "text": [
      "[CV] ....................................... , score=0.943155 -   0.0s\n",
      "[CV]  ................................................................\n",
      "[CV] ....................................... , score=0.941873 -   0.0s\n"
     ]
    },
    {
     "name": "stderr",
     "output_type": "stream",
     "text": [
      "[Parallel(n_jobs=1)]: Done   4 out of   4 | elapsed:    2.2s finished\n"
     ]
    }
   ],
   "source": [
    "# 设置4折交叉验证，设置verbose显示交叉验证详细过程（每一轮的评分、用时等）\n",
    "scores = model_selection.cross_val_score(rf, X, y, verbose=3,cv=4)"
   ]
  },
  {
   "cell_type": "markdown",
   "metadata": {},
   "source": [
    "# 随机拆分交叉验证"
   ]
  },
  {
   "cell_type": "code",
   "execution_count": 17,
   "metadata": {
    "collapsed": true
   },
   "outputs": [],
   "source": [
    "from sklearn import model_selection"
   ]
  },
  {
   "cell_type": "code",
   "execution_count": 18,
   "metadata": {
    "collapsed": true
   },
   "outputs": [],
   "source": [
    "# 生成正态分布数据集，N(1000, 10)\n",
    "true_loc = 1000\n",
    "true_scale = 10\n",
    "N = 1000\n",
    "\n",
    "dataset = np.random.normal(true_loc, true_scale, N)"
   ]
  },
  {
   "cell_type": "code",
   "execution_count": 19,
   "metadata": {
    "collapsed": false
   },
   "outputs": [
    {
     "data": {
      "image/png": "[encoded data removed]",
      "text/plain": [
       "<matplotlib.figure.Figure at 0xa0910b8>"
      ]
     },
     "metadata": {},
     "output_type": "display_data"
    }
   ],
   "source": [
    "import matplotlib.pyplot as plt\n",
    "\n",
    "f, ax = plt.subplots(figsize=(7, 5))\n",
    "ax.hist(dataset, color='k', alpha=.65, histtype='stepfilled');\n",
    "\n",
    "ax.set_title(\"Histogram of dataset\");"
   ]
  },
  {
   "cell_type": "markdown",
   "metadata": {},
   "source": [
    "#### 直接取一半数据估计均值"
   ]
  },
  {
   "cell_type": "code",
   "execution_count": 20,
   "metadata": {
    "collapsed": true
   },
   "outputs": [],
   "source": [
    "# 取数据集中一半样本估计其均值\n",
    "holdout_set = dataset[:500]\n",
    "fitting_set = dataset[500:]"
   ]
  },
  {
   "cell_type": "code",
   "execution_count": 21,
   "metadata": {
    "collapsed": true
   },
   "outputs": [],
   "source": [
    "estimate = fitting_set[:N/2].mean()"
   ]
  },
  {
   "cell_type": "code",
   "execution_count": 22,
   "metadata": {
    "collapsed": false
   },
   "outputs": [
    {
     "data": {
      "text/plain": [
       "<matplotlib.legend.Legend at 0xb4d4be0>"
      ]
     },
     "execution_count": 22,
     "metadata": {},
     "output_type": "execute_result"
    },
    {
     "data": {
      "image/png": "[encoded data removed]",
      "text/plain": [
       "<matplotlib.figure.Figure at 0xa9daeb8>"
      ]
     },
     "metadata": {},
     "output_type": "display_data"
    }
   ],
   "source": [
    "import matplotlib.pyplot as plt\n",
    "\n",
    "f, ax = plt.subplots(figsize=(7, 5))\n",
    "\n",
    "ax.vlines(true_loc, 0, 1, color='r', linestyles='-', lw=5,alpha=.65, label='true mean')\n",
    "ax.vlines(estimate, 0, 1, color='g', linestyles='-', lw=5,alpha=.65, label='regular estimate')\n",
    "\n",
    "ax.set_xlim(999, 1001)\n",
    "ax.set_title(\"True Mean vs Regular Estimate\")\n",
    "ax.legend()"
   ]
  },
  {
   "cell_type": "markdown",
   "metadata": {},
   "source": [
    "#### 运用随机拆分"
   ]
  },
  {
   "cell_type": "code",
   "execution_count": 23,
   "metadata": {
    "collapsed": false
   },
   "outputs": [
    {
     "name": "stderr",
     "output_type": "stream",
     "text": [
      "C:\\Anaconda2\\lib\\site-packages\\sklearn\\cross_validation.py:44: DeprecationWarning: This module was deprecated in version 0.18 in favor of the model_selection module into which all the refactored classes and functions are moved. Also note that the interface of the new CV iterators are different from that of this module. This module will be removed in 0.20.\n",
      "  \"This module will be removed in 0.20.\", DeprecationWarning)\n"
     ]
    }
   ],
   "source": [
    "from sklearn.cross_validation import ShuffleSplit"
   ]
  },
  {
   "cell_type": "code",
   "execution_count": 24,
   "metadata": {
    "collapsed": true
   },
   "outputs": [],
   "source": [
    "# 生成ShuffleSplit对象，默认10折（随机选取10%的样本作为验证集，剩下样本作为训练集，如此循环10次）\n",
    "# 不同于普通交叉验证每一折都是严格区分不重复，随机交叉验证，每一次循环中验证集都是随机选取的，因此有可能重复\n",
    "shuffle_split = ShuffleSplit(len(fitting_set))"
   ]
  },
  {
   "cell_type": "code",
   "execution_count": 25,
   "metadata": {
    "collapsed": true
   },
   "outputs": [],
   "source": [
    "mean_p = []\n",
    "\n",
    "for train, _ in shuffle_split:\n",
    "    mean_p.append(fitting_set[train].mean())\n",
    "    shuf_estimate = np.mean(mean_p)"
   ]
  },
  {
   "cell_type": "code",
   "execution_count": 26,
   "metadata": {
    "collapsed": false
   },
   "outputs": [
    {
     "data": {
      "text/plain": [
       "<matplotlib.legend.Legend at 0xae44208>"
      ]
     },
     "execution_count": 26,
     "metadata": {},
     "output_type": "execute_result"
    },
    {
     "data": {
      "image/png": "[encoded data removed]",
      "text/plain": [
       "<matplotlib.figure.Figure at 0xb030828>"
      ]
     },
     "metadata": {},
     "output_type": "display_data"
    }
   ],
   "source": [
    "import matplotlib.pyplot as plt\n",
    "\n",
    "f, ax = plt.subplots(figsize=(7, 5))\n",
    "\n",
    "ax.vlines(true_loc, 0, 1, color='r', linestyles='-', lw=5,alpha=.65, label='true mean')\n",
    "ax.vlines(estimate, 0, 1, color='g', linestyles='-', lw=5,alpha=.65, label='regular estimate')\n",
    "ax.vlines(shuf_estimate, 0, 1, color='b', linestyles='-', lw=5,alpha=.65, label='shufflesplit estimate')\n",
    "\n",
    "ax.set_title(\"All Estimates\")\n",
    "ax.set_xlim(999, 1001)\n",
    "ax.legend(loc=3)"
   ]
  },
  {
   "cell_type": "markdown",
   "metadata": {},
   "source": [
    "# 分层随机抽样"
   ]
  },
  {
   "cell_type": "code",
   "execution_count": 27,
   "metadata": {
    "collapsed": true
   },
   "outputs": [],
   "source": [
    "from sklearn import model_selection"
   ]
  },
  {
   "cell_type": "code",
   "execution_count": 28,
   "metadata": {
    "collapsed": true
   },
   "outputs": [],
   "source": [
    "# 载入分类数据集，类别不平衡\n",
    "from sklearn import datasets\n",
    "X, y = datasets.make_classification(n_samples=int(1e3),weights=[1./11])   # 负例：正例 = 1:11"
   ]
  },
  {
   "cell_type": "code",
   "execution_count": 29,
   "metadata": {
    "collapsed": false
   },
   "outputs": [
    {
     "data": {
      "text/plain": [
       "0.90700000000000003"
      ]
     },
     "execution_count": 29,
     "metadata": {},
     "output_type": "execute_result"
    }
   ],
   "source": [
    "y.mean()"
   ]
  },
  {
   "cell_type": "code",
   "execution_count": 30,
   "metadata": {
    "collapsed": false
   },
   "outputs": [],
   "source": [
    "n_splits = 50\n",
    "strat_kfold = model_selection.StratifiedKFold(n_splits = n_splits)    # 分层随机交叉验证\n",
    "shuff_split = model_selection.ShuffleSplit(n_splits=n_splits)  # 随机交叉验证"
   ]
  },
  {
   "cell_type": "code",
   "execution_count": 31,
   "metadata": {
    "collapsed": true
   },
   "outputs": [],
   "source": [
    "kfold_y_props = []\n",
    "shuff_y_props = []\n",
    "\n",
    "for (k_train, k_test), (s_train, s_test) in zip(strat_kfold.split(X, y), shuff_split.split(X)):\n",
    "    # 分层10折交叉验证\n",
    "    kfold_y_props.append(y[k_train].mean())\n",
    "    # 随机10折交叉验证\n",
    "    shuff_y_props.append(y[s_train].mean())"
   ]
  },
  {
   "cell_type": "code",
   "execution_count": 32,
   "metadata": {
    "collapsed": false
   },
   "outputs": [
    {
     "data": {
      "text/plain": [
       "<matplotlib.legend.Legend at 0xac429e8>"
      ]
     },
     "execution_count": 32,
     "metadata": {},
     "output_type": "execute_result"
    },
    {
     "data": {
      "image/png": "[encoded data removed]",
      "text/plain": [
       "<matplotlib.figure.Figure at 0xb22cf28>"
      ]
     },
     "metadata": {},
     "output_type": "display_data"
    }
   ],
   "source": [
    "# 随机交叉验证，每一折训练集正例上下波动；分层交叉验证，每一折训练集正例不变\n",
    "import matplotlib.pyplot as plt\n",
    "\n",
    "f, ax = plt.subplots(figsize=(7, 5))\n",
    "\n",
    "ax.plot(range(n_splits), shuff_y_props, label=\"ShuffleSplit\",color='k')\n",
    "ax.plot(range(n_splits), kfold_y_props, label=\"Stratified\",color='k', ls='--')\n",
    "\n",
    "ax.set_title(\"Comparing class proportions.\")\n",
    "ax.legend(loc='best')"
   ]
  },
  {
   "cell_type": "code",
   "execution_count": 33,
   "metadata": {
    "collapsed": true
   },
   "outputs": [],
   "source": [
    "import numpy as np\n",
    "three_classes_X = np.arange(1000)\n",
    "three_classes_y = np.random.choice([1,2,3], p=[.1, .4, .5],size=1000)"
   ]
  },
  {
   "cell_type": "code",
   "execution_count": 34,
   "metadata": {
    "collapsed": false
   },
   "outputs": [
    {
     "name": "stdout",
     "output_type": "stream",
     "text": [
      "[  0  70 328 401]\n",
      "[  0  70 328 401]\n",
      "[  0  70 328 402]\n",
      "[  0  71 328 402]\n",
      "[  0  71 328 402]\n"
     ]
    }
   ],
   "source": [
    "strat_test = model_selection.StratifiedKFold(5)\n",
    "\n",
    "# np.bincount求出每一次选出的训练集中1、2、3类的样本数，可以看出，每一个训练集的样本类别比例基本保持不变\n",
    "for train, test in strat_test.split(three_classes_X, three_classes_y):\n",
    "    print np.bincount(three_classes_y[train])"
   ]
  },
  {
   "cell_type": "markdown",
   "metadata": {},
   "source": [
    "# 穷人的网格搜索"
   ]
  },
  {
   "cell_type": "code",
   "execution_count": 35,
   "metadata": {
    "collapsed": true
   },
   "outputs": [],
   "source": [
    "# 准备分类数据集\n",
    "from sklearn import datasets\n",
    "X, y = datasets.make_classification(n_samples=2000, n_features=10)"
   ]
  },
  {
   "cell_type": "code",
   "execution_count": 36,
   "metadata": {
    "collapsed": true
   },
   "outputs": [],
   "source": [
    "# 构造参数空间\n",
    "criteria = {'gini', 'entropy'}\n",
    "max_features = {'auto', 'log2', None}\n",
    "\n",
    "import itertools as it\n",
    "parameter_space = it.product(criteria, max_features)"
   ]
  },
  {
   "cell_type": "code",
   "execution_count": 37,
   "metadata": {
    "collapsed": true
   },
   "outputs": [],
   "source": [
    "# 分离测试集和训练集\n",
    "import numpy as np\n",
    "train_set = np.random.choice([True, False], size=len(y))"
   ]
  },
  {
   "cell_type": "code",
   "execution_count": 38,
   "metadata": {
    "collapsed": true
   },
   "outputs": [],
   "source": [
    "# 对每一组参数运行决策树模型，并返回预测准确度\n",
    "from sklearn.tree import DecisionTreeClassifier\n",
    "\n",
    "accuracies = {}\n",
    "\n",
    "for criterion, max_feature in parameter_space:\n",
    "    dt = DecisionTreeClassifier(criterion=criterion,max_features=max_feature)\n",
    "    dt.fit(X[train_set], y[train_set])\n",
    "    accuracies[(criterion, max_feature)] = (dt.predict(X[~train_set])== y[~train_set]).mean()\n",
    "    accuracies"
   ]
  },
  {
   "cell_type": "code",
   "execution_count": 39,
   "metadata": {
    "collapsed": false
   },
   "outputs": [
    {
     "data": {
      "text/plain": [
       "{('entropy', None): 0.86852589641434264,\n",
       " ('entropy', 'auto'): 0.85458167330677293,\n",
       " ('entropy', 'log2'): 0.87549800796812749,\n",
       " ('gini', None): 0.85458167330677293,\n",
       " ('gini', 'auto'): 0.85557768924302791,\n",
       " ('gini', 'log2'): 0.84362549800796816}"
      ]
     },
     "execution_count": 39,
     "metadata": {},
     "output_type": "execute_result"
    }
   ],
   "source": [
    "accuracies"
   ]
  },
  {
   "cell_type": "code",
   "execution_count": 40,
   "metadata": {
    "collapsed": false
   },
   "outputs": [
    {
     "data": {
      "text/plain": [
       "<matplotlib.colorbar.Colorbar at 0xb5c6d68>"
      ]
     },
     "execution_count": 40,
     "metadata": {},
     "output_type": "execute_result"
    },
    {
     "data": {
      "image/png": "[encoded data removed]",
      "text/plain": [
       "<matplotlib.figure.Figure at 0xb0306a0>"
      ]
     },
     "metadata": {},
     "output_type": "display_data"
    }
   ],
   "source": [
    "# 通过比较损失函数的大小，在参数空间中选择最优的参数\n",
    "from matplotlib import pyplot as plt\n",
    "from matplotlib import cm\n",
    "\n",
    "cmap = cm.RdBu_r\n",
    "f, ax = plt.subplots(figsize=(7, 4))\n",
    "ax.set_xticklabels([''] + list(criteria))\n",
    "ax.set_yticklabels([''] + list(max_features))\n",
    "\n",
    "plot_array = []\n",
    "for max_feature in max_features:\n",
    "    m = []\n",
    "    for criterion in criteria:\n",
    "        m.append(accuracies[(criterion, max_feature)])\n",
    "    plot_array.append(m)\n",
    "colors = ax.matshow(plot_array, vmin=np.min(accuracies.values()) -0.001, vmax=np.max(accuracies.values()) + 0.001, cmap=cmap)\n",
    "f.colorbar(colors)"
   ]
  },
  {
   "cell_type": "markdown",
   "metadata": {},
   "source": [
    "# 暴力网格搜索"
   ]
  },
  {
   "cell_type": "code",
   "execution_count": 41,
   "metadata": {
    "collapsed": true
   },
   "outputs": [],
   "source": [
    "# 准备分类数据\n",
    "from sklearn.datasets import make_classification\n",
    "X, y = make_classification(1000, n_features=5)"
   ]
  },
  {
   "cell_type": "code",
   "execution_count": 42,
   "metadata": {
    "collapsed": false
   },
   "outputs": [
    {
     "data": {
      "text/plain": [
       "LogisticRegression(C=1.0, class_weight='balanced', dual=False,\n",
       "          fit_intercept=True, intercept_scaling=1, max_iter=100,\n",
       "          multi_class='ovr', n_jobs=1, penalty='l2', random_state=None,\n",
       "          solver='liblinear', tol=0.0001, verbose=0, warm_start=False)"
      ]
     },
     "execution_count": 42,
     "metadata": {},
     "output_type": "execute_result"
    }
   ],
   "source": [
    "# 以逻辑回归模型来说明\n",
    "from sklearn.linear_model import LogisticRegression\n",
    "lr = LogisticRegression(class_weight='balanced')\n",
    "lr.fit(X, y)"
   ]
  },
  {
   "cell_type": "markdown",
   "metadata": {},
   "source": [
    "#### 网格搜索"
   ]
  },
  {
   "cell_type": "code",
   "execution_count": 43,
   "metadata": {
    "collapsed": false
   },
   "outputs": [],
   "source": [
    "from sklearn.model_selection import GridSearchCV"
   ]
  },
  {
   "cell_type": "code",
   "execution_count": 44,
   "metadata": {
    "collapsed": true
   },
   "outputs": [],
   "source": [
    "# 设置网格搜索的参数\n",
    "grid_search_params = {'penalty': ['l1', 'l2'],'C': [1, 2, 3, 4]}"
   ]
  },
  {
   "cell_type": "code",
   "execution_count": 45,
   "metadata": {
    "collapsed": false
   },
   "outputs": [
    {
     "data": {
      "text/plain": [
       "GridSearchCV(cv=None, error_score='raise',\n",
       "       estimator=LogisticRegression(C=1.0, class_weight='balanced', dual=False,\n",
       "          fit_intercept=True, intercept_scaling=1, max_iter=100,\n",
       "          multi_class='ovr', n_jobs=1, penalty='l2', random_state=None,\n",
       "          solver='liblinear', tol=0.0001, verbose=0, warm_start=False),\n",
       "       fit_params={}, iid=True, n_jobs=1,\n",
       "       param_grid={'penalty': ['l1', 'l2'], 'C': [1, 2, 3, 4]},\n",
       "       pre_dispatch='2*n_jobs', refit=True, return_train_score=True,\n",
       "       scoring=None, verbose=0)"
      ]
     },
     "execution_count": 45,
     "metadata": {},
     "output_type": "execute_result"
    }
   ],
   "source": [
    "gs = GridSearchCV(lr, grid_search_params)\n",
    "gs.fit(X, y)"
   ]
  },
  {
   "cell_type": "code",
   "execution_count": 46,
   "metadata": {
    "collapsed": false
   },
   "outputs": [
    {
     "data": {
      "text/plain": [
       "{'mean_fit_time': array([ 0.00199993,  0.00266671,  0.00366672,  0.0013334 ,  0.00333333,\n",
       "         0.00100009,  0.        ,  0.        ]),\n",
       " 'mean_score_time': array([ 0.00033339,  0.        ,  0.00033331,  0.00033339,  0.        ,\n",
       "         0.        ,  0.        ,  0.        ]),\n",
       " 'mean_test_score': array([ 0.93 ,  0.929,  0.929,  0.93 ,  0.928,  0.93 ,  0.928,  0.93 ]),\n",
       " 'mean_train_score': array([ 0.93000422,  0.92950447,  0.92900547,  0.92950447,  0.92900547,\n",
       "         0.92950447,  0.92900547,  0.92900472]),\n",
       " 'param_C': masked_array(data = [1 1 2 2 3 3 4 4],\n",
       "              mask = [False False False False False False False False],\n",
       "        fill_value = ?),\n",
       " 'param_penalty': masked_array(data = ['l1' 'l2' 'l1' 'l2' 'l1' 'l2' 'l1' 'l2'],\n",
       "              mask = [False False False False False False False False],\n",
       "        fill_value = ?),\n",
       " 'params': ({'C': 1, 'penalty': 'l1'},\n",
       "  {'C': 1, 'penalty': 'l2'},\n",
       "  {'C': 2, 'penalty': 'l1'},\n",
       "  {'C': 2, 'penalty': 'l2'},\n",
       "  {'C': 3, 'penalty': 'l1'},\n",
       "  {'C': 3, 'penalty': 'l2'},\n",
       "  {'C': 4, 'penalty': 'l1'},\n",
       "  {'C': 4, 'penalty': 'l2'}),\n",
       " 'rank_test_score': array([1, 5, 5, 1, 7, 1, 7, 1]),\n",
       " 'split0_test_score': array([ 0.91017964,  0.90718563,  0.91017964,  0.91017964,  0.91017964,\n",
       "         0.91017964,  0.91017964,  0.91017964]),\n",
       " 'split0_train_score': array([ 0.93843844,  0.93843844,  0.93993994,  0.93843844,  0.93993994,\n",
       "         0.93843844,  0.93993994,  0.93843844]),\n",
       " 'split1_test_score': array([ 0.93093093,  0.93093093,  0.93093093,  0.93093093,  0.92792793,\n",
       "         0.93093093,  0.92792793,  0.93093093]),\n",
       " 'split1_train_score': array([ 0.93103448,  0.92953523,  0.92803598,  0.92803598,  0.92803598,\n",
       "         0.92803598,  0.92803598,  0.92803598]),\n",
       " 'split2_test_score': array([ 0.94894895,  0.94894895,  0.94594595,  0.94894895,  0.94594595,\n",
       "         0.94894895,  0.94594595,  0.94894895]),\n",
       " 'split2_train_score': array([ 0.92053973,  0.92053973,  0.91904048,  0.92203898,  0.91904048,\n",
       "         0.92203898,  0.91904048,  0.92053973]),\n",
       " 'std_fit_time': array([  1.12391596e-07,   1.24712873e-03,   1.24714998e-03,\n",
       "          4.71426560e-04,   4.71370354e-04,   1.12391596e-07,\n",
       "          0.00000000e+00,   0.00000000e+00]),\n",
       " 'std_score_time': array([ 0.00047148,  0.        ,  0.00047137,  0.00047148,  0.        ,\n",
       "         0.        ,  0.        ,  0.        ]),\n",
       " 'std_test_score': array([ 0.0158451 ,  0.01710853,  0.01466875,  0.0158451 ,  0.01460526,\n",
       "         0.0158451 ,  0.01460526,  0.0158451 ]),\n",
       " 'std_train_score': array([ 0.00734334,  0.00730715,  0.00855966,  0.0067751 ,  0.00855966,\n",
       "         0.0067751 ,  0.00855966,  0.00733915])}"
      ]
     },
     "execution_count": 46,
     "metadata": {},
     "output_type": "execute_result"
    }
   ],
   "source": [
    "gs.cv_results_"
   ]
  },
  {
   "cell_type": "code",
   "execution_count": 47,
   "metadata": {
    "collapsed": false
   },
   "outputs": [
    {
     "data": {
      "text/html": [
       "<div>\n",
       "<table border=\"1\" class=\"dataframe\">\n",
       "  <thead>\n",
       "    <tr style=\"text-align: right;\">\n",
       "      <th></th>\n",
       "      <th>mean_fit_time</th>\n",
       "      <th>mean_score_time</th>\n",
       "      <th>mean_test_score</th>\n",
       "      <th>mean_train_score</th>\n",
       "      <th>param_C</th>\n",
       "      <th>param_penalty</th>\n",
       "      <th>params</th>\n",
       "      <th>rank_test_score</th>\n",
       "      <th>split0_test_score</th>\n",
       "      <th>split0_train_score</th>\n",
       "      <th>split1_test_score</th>\n",
       "      <th>split1_train_score</th>\n",
       "      <th>split2_test_score</th>\n",
       "      <th>split2_train_score</th>\n",
       "      <th>std_fit_time</th>\n",
       "      <th>std_score_time</th>\n",
       "      <th>std_test_score</th>\n",
       "      <th>std_train_score</th>\n",
       "    </tr>\n",
       "  </thead>\n",
       "  <tbody>\n",
       "    <tr>\n",
       "      <th>0</th>\n",
       "      <td>0.002000</td>\n",
       "      <td>0.000333</td>\n",
       "      <td>0.930</td>\n",
       "      <td>0.930004</td>\n",
       "      <td>1</td>\n",
       "      <td>l1</td>\n",
       "      <td>{u'penalty': u'l1', u'C': 1}</td>\n",
       "      <td>1</td>\n",
       "      <td>0.910180</td>\n",
       "      <td>0.938438</td>\n",
       "      <td>0.930931</td>\n",
       "      <td>0.931034</td>\n",
       "      <td>0.948949</td>\n",
       "      <td>0.920540</td>\n",
       "      <td>1.123916e-07</td>\n",
       "      <td>0.000471</td>\n",
       "      <td>0.015845</td>\n",
       "      <td>0.007343</td>\n",
       "    </tr>\n",
       "    <tr>\n",
       "      <th>1</th>\n",
       "      <td>0.002667</td>\n",
       "      <td>0.000000</td>\n",
       "      <td>0.929</td>\n",
       "      <td>0.929504</td>\n",
       "      <td>1</td>\n",
       "      <td>l2</td>\n",
       "      <td>{u'penalty': u'l2', u'C': 1}</td>\n",
       "      <td>5</td>\n",
       "      <td>0.907186</td>\n",
       "      <td>0.938438</td>\n",
       "      <td>0.930931</td>\n",
       "      <td>0.929535</td>\n",
       "      <td>0.948949</td>\n",
       "      <td>0.920540</td>\n",
       "      <td>1.247129e-03</td>\n",
       "      <td>0.000000</td>\n",
       "      <td>0.017109</td>\n",
       "      <td>0.007307</td>\n",
       "    </tr>\n",
       "    <tr>\n",
       "      <th>2</th>\n",
       "      <td>0.003667</td>\n",
       "      <td>0.000333</td>\n",
       "      <td>0.929</td>\n",
       "      <td>0.929005</td>\n",
       "      <td>2</td>\n",
       "      <td>l1</td>\n",
       "      <td>{u'penalty': u'l1', u'C': 2}</td>\n",
       "      <td>5</td>\n",
       "      <td>0.910180</td>\n",
       "      <td>0.939940</td>\n",
       "      <td>0.930931</td>\n",
       "      <td>0.928036</td>\n",
       "      <td>0.945946</td>\n",
       "      <td>0.919040</td>\n",
       "      <td>1.247150e-03</td>\n",
       "      <td>0.000471</td>\n",
       "      <td>0.014669</td>\n",
       "      <td>0.008560</td>\n",
       "    </tr>\n",
       "    <tr>\n",
       "      <th>3</th>\n",
       "      <td>0.001333</td>\n",
       "      <td>0.000333</td>\n",
       "      <td>0.930</td>\n",
       "      <td>0.929504</td>\n",
       "      <td>2</td>\n",
       "      <td>l2</td>\n",
       "      <td>{u'penalty': u'l2', u'C': 2}</td>\n",
       "      <td>1</td>\n",
       "      <td>0.910180</td>\n",
       "      <td>0.938438</td>\n",
       "      <td>0.930931</td>\n",
       "      <td>0.928036</td>\n",
       "      <td>0.948949</td>\n",
       "      <td>0.922039</td>\n",
       "      <td>4.714266e-04</td>\n",
       "      <td>0.000471</td>\n",
       "      <td>0.015845</td>\n",
       "      <td>0.006775</td>\n",
       "    </tr>\n",
       "    <tr>\n",
       "      <th>4</th>\n",
       "      <td>0.003333</td>\n",
       "      <td>0.000000</td>\n",
       "      <td>0.928</td>\n",
       "      <td>0.929005</td>\n",
       "      <td>3</td>\n",
       "      <td>l1</td>\n",
       "      <td>{u'penalty': u'l1', u'C': 3}</td>\n",
       "      <td>7</td>\n",
       "      <td>0.910180</td>\n",
       "      <td>0.939940</td>\n",
       "      <td>0.927928</td>\n",
       "      <td>0.928036</td>\n",
       "      <td>0.945946</td>\n",
       "      <td>0.919040</td>\n",
       "      <td>4.713704e-04</td>\n",
       "      <td>0.000000</td>\n",
       "      <td>0.014605</td>\n",
       "      <td>0.008560</td>\n",
       "    </tr>\n",
       "    <tr>\n",
       "      <th>5</th>\n",
       "      <td>0.001000</td>\n",
       "      <td>0.000000</td>\n",
       "      <td>0.930</td>\n",
       "      <td>0.929504</td>\n",
       "      <td>3</td>\n",
       "      <td>l2</td>\n",
       "      <td>{u'penalty': u'l2', u'C': 3}</td>\n",
       "      <td>1</td>\n",
       "      <td>0.910180</td>\n",
       "      <td>0.938438</td>\n",
       "      <td>0.930931</td>\n",
       "      <td>0.928036</td>\n",
       "      <td>0.948949</td>\n",
       "      <td>0.922039</td>\n",
       "      <td>1.123916e-07</td>\n",
       "      <td>0.000000</td>\n",
       "      <td>0.015845</td>\n",
       "      <td>0.006775</td>\n",
       "    </tr>\n",
       "    <tr>\n",
       "      <th>6</th>\n",
       "      <td>0.000000</td>\n",
       "      <td>0.000000</td>\n",
       "      <td>0.928</td>\n",
       "      <td>0.929005</td>\n",
       "      <td>4</td>\n",
       "      <td>l1</td>\n",
       "      <td>{u'penalty': u'l1', u'C': 4}</td>\n",
       "      <td>7</td>\n",
       "      <td>0.910180</td>\n",
       "      <td>0.939940</td>\n",
       "      <td>0.927928</td>\n",
       "      <td>0.928036</td>\n",
       "      <td>0.945946</td>\n",
       "      <td>0.919040</td>\n",
       "      <td>0.000000e+00</td>\n",
       "      <td>0.000000</td>\n",
       "      <td>0.014605</td>\n",
       "      <td>0.008560</td>\n",
       "    </tr>\n",
       "    <tr>\n",
       "      <th>7</th>\n",
       "      <td>0.000000</td>\n",
       "      <td>0.000000</td>\n",
       "      <td>0.930</td>\n",
       "      <td>0.929005</td>\n",
       "      <td>4</td>\n",
       "      <td>l2</td>\n",
       "      <td>{u'penalty': u'l2', u'C': 4}</td>\n",
       "      <td>1</td>\n",
       "      <td>0.910180</td>\n",
       "      <td>0.938438</td>\n",
       "      <td>0.930931</td>\n",
       "      <td>0.928036</td>\n",
       "      <td>0.948949</td>\n",
       "      <td>0.920540</td>\n",
       "      <td>0.000000e+00</td>\n",
       "      <td>0.000000</td>\n",
       "      <td>0.015845</td>\n",
       "      <td>0.007339</td>\n",
       "    </tr>\n",
       "  </tbody>\n",
       "</table>\n",
       "</div>"
      ],
      "text/plain": [
       "   mean_fit_time  mean_score_time  mean_test_score  mean_train_score param_C  \\\n",
       "0       0.002000         0.000333            0.930          0.930004       1   \n",
       "1       0.002667         0.000000            0.929          0.929504       1   \n",
       "2       0.003667         0.000333            0.929          0.929005       2   \n",
       "3       0.001333         0.000333            0.930          0.929504       2   \n",
       "4       0.003333         0.000000            0.928          0.929005       3   \n",
       "5       0.001000         0.000000            0.930          0.929504       3   \n",
       "6       0.000000         0.000000            0.928          0.929005       4   \n",
       "7       0.000000         0.000000            0.930          0.929005       4   \n",
       "\n",
       "  param_penalty                        params  rank_test_score  \\\n",
       "0            l1  {u'penalty': u'l1', u'C': 1}                1   \n",
       "1            l2  {u'penalty': u'l2', u'C': 1}                5   \n",
       "2            l1  {u'penalty': u'l1', u'C': 2}                5   \n",
       "3            l2  {u'penalty': u'l2', u'C': 2}                1   \n",
       "4            l1  {u'penalty': u'l1', u'C': 3}                7   \n",
       "5            l2  {u'penalty': u'l2', u'C': 3}                1   \n",
       "6            l1  {u'penalty': u'l1', u'C': 4}                7   \n",
       "7            l2  {u'penalty': u'l2', u'C': 4}                1   \n",
       "\n",
       "   split0_test_score  split0_train_score  split1_test_score  \\\n",
       "0           0.910180            0.938438           0.930931   \n",
       "1           0.907186            0.938438           0.930931   \n",
       "2           0.910180            0.939940           0.930931   \n",
       "3           0.910180            0.938438           0.930931   \n",
       "4           0.910180            0.939940           0.927928   \n",
       "5           0.910180            0.938438           0.930931   \n",
       "6           0.910180            0.939940           0.927928   \n",
       "7           0.910180            0.938438           0.930931   \n",
       "\n",
       "   split1_train_score  split2_test_score  split2_train_score  std_fit_time  \\\n",
       "0            0.931034           0.948949            0.920540  1.123916e-07   \n",
       "1            0.929535           0.948949            0.920540  1.247129e-03   \n",
       "2            0.928036           0.945946            0.919040  1.247150e-03   \n",
       "3            0.928036           0.948949            0.922039  4.714266e-04   \n",
       "4            0.928036           0.945946            0.919040  4.713704e-04   \n",
       "5            0.928036           0.948949            0.922039  1.123916e-07   \n",
       "6            0.928036           0.945946            0.919040  0.000000e+00   \n",
       "7            0.928036           0.948949            0.920540  0.000000e+00   \n",
       "\n",
       "   std_score_time  std_test_score  std_train_score  \n",
       "0        0.000471        0.015845         0.007343  \n",
       "1        0.000000        0.017109         0.007307  \n",
       "2        0.000471        0.014669         0.008560  \n",
       "3        0.000471        0.015845         0.006775  \n",
       "4        0.000000        0.014605         0.008560  \n",
       "5        0.000000        0.015845         0.006775  \n",
       "6        0.000000        0.014605         0.008560  \n",
       "7        0.000000        0.015845         0.007339  "
      ]
     },
     "execution_count": 47,
     "metadata": {},
     "output_type": "execute_result"
    }
   ],
   "source": [
    "# 用数据框展示\n",
    "pd.DataFrame(gs.cv_results_)"
   ]
  },
  {
   "cell_type": "code",
   "execution_count": 48,
   "metadata": {
    "collapsed": false
   },
   "outputs": [
    {
     "data": {
      "text/plain": [
       "LogisticRegression(C=1, class_weight='balanced', dual=False,\n",
       "          fit_intercept=True, intercept_scaling=1, max_iter=100,\n",
       "          multi_class='ovr', n_jobs=1, penalty='l1', random_state=None,\n",
       "          solver='liblinear', tol=0.0001, verbose=0, warm_start=False)"
      ]
     },
     "execution_count": 48,
     "metadata": {},
     "output_type": "execute_result"
    }
   ],
   "source": [
    "# 返回最优的模型\n",
    "gs.best_estimator_"
   ]
  },
  {
   "cell_type": "markdown",
   "metadata": {},
   "source": [
    "#### 随机搜索"
   ]
  },
  {
   "cell_type": "code",
   "execution_count": 49,
   "metadata": {
    "collapsed": true
   },
   "outputs": [],
   "source": [
    "from sklearn.model_selection import RandomizedSearchCV"
   ]
  },
  {
   "cell_type": "code",
   "execution_count": 50,
   "metadata": {
    "collapsed": true
   },
   "outputs": [],
   "source": [
    "# 设置随机搜索的参数\n",
    "import scipy.stats as st\n",
    "import numpy as np\n",
    "\n",
    "# 参数是数值时，可以用分布而不是制定具体数值\n",
    "random_search_params = {'penalty': ['l1', 'l2'],'C': st.randint(1, 4)}"
   ]
  },
  {
   "cell_type": "code",
   "execution_count": 51,
   "metadata": {
    "collapsed": false
   },
   "outputs": [
    {
     "data": {
      "text/plain": [
       "RandomizedSearchCV(cv=None, error_score='raise',\n",
       "          estimator=LogisticRegression(C=1.0, class_weight='balanced', dual=False,\n",
       "          fit_intercept=True, intercept_scaling=1, max_iter=100,\n",
       "          multi_class='ovr', n_jobs=1, penalty='l2', random_state=None,\n",
       "          solver='liblinear', tol=0.0001, verbose=0, warm_start=False),\n",
       "          fit_params={}, iid=True, n_iter=10, n_jobs=1,\n",
       "          param_distributions={'penalty': ['l1', 'l2'], 'C': <scipy.stats._distn_infrastructure.rv_frozen object at 0x000000000B7A26A0>},\n",
       "          pre_dispatch='2*n_jobs', random_state=None, refit=True,\n",
       "          return_train_score=True, scoring=None, verbose=0)"
      ]
     },
     "execution_count": 51,
     "metadata": {},
     "output_type": "execute_result"
    }
   ],
   "source": [
    "rs = RandomizedSearchCV(lr,random_search_params)\n",
    "rs.fit(X, y)"
   ]
  },
  {
   "cell_type": "code",
   "execution_count": 52,
   "metadata": {
    "collapsed": false
   },
   "outputs": [
    {
     "data": {
      "text/plain": [
       "{'mean_fit_time': array([ 0.00333325,  0.00233332,  0.00333325,  0.00133332,  0.00300002,\n",
       "         0.00066662,  0.        ,  0.        ,  0.        ,  0.        ]),\n",
       " 'mean_score_time': array([ 0.00100009,  0.00033331,  0.00066678,  0.        ,  0.00033331,\n",
       "         0.00033339,  0.        ,  0.        ,  0.        ,  0.00533326]),\n",
       " 'mean_test_score': array([ 0.93 ,  0.928,  0.929,  0.929,  0.929,  0.929,  0.93 ,  0.929,\n",
       "         0.93 ,  0.928]),\n",
       " 'mean_train_score': array([ 0.93000422,  0.92900547,  0.92900547,  0.92950447,  0.92900547,\n",
       "         0.92950447,  0.92950447,  0.92900547,  0.92950447,  0.92900547]),\n",
       " 'param_C': masked_array(data = [1 3 2 1 2 1 3 2 3 3],\n",
       "              mask = [False False False False False False False False False False],\n",
       "        fill_value = ?),\n",
       " 'param_penalty': masked_array(data = ['l1' 'l1' 'l1' 'l2' 'l1' 'l2' 'l2' 'l1' 'l2' 'l1'],\n",
       "              mask = [False False False False False False False False False False],\n",
       "        fill_value = ?),\n",
       " 'params': ({'C': 1, 'penalty': 'l1'},\n",
       "  {'C': 3, 'penalty': 'l1'},\n",
       "  {'C': 2, 'penalty': 'l1'},\n",
       "  {'C': 1, 'penalty': 'l2'},\n",
       "  {'C': 2, 'penalty': 'l1'},\n",
       "  {'C': 1, 'penalty': 'l2'},\n",
       "  {'C': 3, 'penalty': 'l2'},\n",
       "  {'C': 2, 'penalty': 'l1'},\n",
       "  {'C': 3, 'penalty': 'l2'},\n",
       "  {'C': 3, 'penalty': 'l1'}),\n",
       " 'rank_test_score': array([1, 9, 4, 4, 4, 4, 1, 4, 1, 9]),\n",
       " 'split0_test_score': array([ 0.91017964,  0.91017964,  0.91017964,  0.90718563,  0.91017964,\n",
       "         0.90718563,  0.91017964,  0.91017964,  0.91017964,  0.91017964]),\n",
       " 'split0_train_score': array([ 0.93843844,  0.93993994,  0.93993994,  0.93843844,  0.93993994,\n",
       "         0.93843844,  0.93843844,  0.93993994,  0.93843844,  0.93993994]),\n",
       " 'split1_test_score': array([ 0.93093093,  0.92792793,  0.93093093,  0.93093093,  0.93093093,\n",
       "         0.93093093,  0.93093093,  0.93093093,  0.93093093,  0.92792793]),\n",
       " 'split1_train_score': array([ 0.93103448,  0.92803598,  0.92803598,  0.92953523,  0.92803598,\n",
       "         0.92953523,  0.92803598,  0.92803598,  0.92803598,  0.92803598]),\n",
       " 'split2_test_score': array([ 0.94894895,  0.94594595,  0.94594595,  0.94894895,  0.94594595,\n",
       "         0.94894895,  0.94894895,  0.94594595,  0.94894895,  0.94594595]),\n",
       " 'split2_train_score': array([ 0.92053973,  0.91904048,  0.91904048,  0.92053973,  0.91904048,\n",
       "         0.92053973,  0.92203898,  0.91904048,  0.92203898,  0.91904048]),\n",
       " 'std_fit_time': array([ 0.00124721,  0.00047143,  0.00047143,  0.00047148,  0.        ,\n",
       "         0.00047137,  0.        ,  0.        ,  0.        ,  0.        ]),\n",
       " 'std_score_time': array([ 0.00081653,  0.00047137,  0.00047148,  0.        ,  0.00047137,\n",
       "         0.00047148,  0.        ,  0.        ,  0.        ,  0.00754238]),\n",
       " 'std_test_score': array([ 0.0158451 ,  0.01460526,  0.01466875,  0.01710853,  0.01466875,\n",
       "         0.01710853,  0.0158451 ,  0.01466875,  0.0158451 ,  0.01460526]),\n",
       " 'std_train_score': array([ 0.00734334,  0.00855966,  0.00855966,  0.00730715,  0.00855966,\n",
       "         0.00730715,  0.0067751 ,  0.00855966,  0.0067751 ,  0.00855966])}"
      ]
     },
     "execution_count": 52,
     "metadata": {},
     "output_type": "execute_result"
    }
   ],
   "source": [
    "rs.cv_results_"
   ]
  },
  {
   "cell_type": "code",
   "execution_count": 53,
   "metadata": {
    "collapsed": false
   },
   "outputs": [
    {
     "data": {
      "text/html": [
       "<div>\n",
       "<table border=\"1\" class=\"dataframe\">\n",
       "  <thead>\n",
       "    <tr style=\"text-align: right;\">\n",
       "      <th></th>\n",
       "      <th>mean_fit_time</th>\n",
       "      <th>mean_score_time</th>\n",
       "      <th>mean_test_score</th>\n",
       "      <th>mean_train_score</th>\n",
       "      <th>param_C</th>\n",
       "      <th>param_penalty</th>\n",
       "      <th>params</th>\n",
       "      <th>rank_test_score</th>\n",
       "      <th>split0_test_score</th>\n",
       "      <th>split0_train_score</th>\n",
       "      <th>split1_test_score</th>\n",
       "      <th>split1_train_score</th>\n",
       "      <th>split2_test_score</th>\n",
       "      <th>split2_train_score</th>\n",
       "      <th>std_fit_time</th>\n",
       "      <th>std_score_time</th>\n",
       "      <th>std_test_score</th>\n",
       "      <th>std_train_score</th>\n",
       "    </tr>\n",
       "  </thead>\n",
       "  <tbody>\n",
       "    <tr>\n",
       "      <th>0</th>\n",
       "      <td>0.003333</td>\n",
       "      <td>0.001000</td>\n",
       "      <td>0.930</td>\n",
       "      <td>0.930004</td>\n",
       "      <td>1</td>\n",
       "      <td>l1</td>\n",
       "      <td>{u'penalty': u'l1', u'C': 1}</td>\n",
       "      <td>1</td>\n",
       "      <td>0.910180</td>\n",
       "      <td>0.938438</td>\n",
       "      <td>0.930931</td>\n",
       "      <td>0.931034</td>\n",
       "      <td>0.948949</td>\n",
       "      <td>0.920540</td>\n",
       "      <td>0.001247</td>\n",
       "      <td>0.000817</td>\n",
       "      <td>0.015845</td>\n",
       "      <td>0.007343</td>\n",
       "    </tr>\n",
       "    <tr>\n",
       "      <th>1</th>\n",
       "      <td>0.002333</td>\n",
       "      <td>0.000333</td>\n",
       "      <td>0.928</td>\n",
       "      <td>0.929005</td>\n",
       "      <td>3</td>\n",
       "      <td>l1</td>\n",
       "      <td>{u'penalty': u'l1', u'C': 3}</td>\n",
       "      <td>9</td>\n",
       "      <td>0.910180</td>\n",
       "      <td>0.939940</td>\n",
       "      <td>0.927928</td>\n",
       "      <td>0.928036</td>\n",
       "      <td>0.945946</td>\n",
       "      <td>0.919040</td>\n",
       "      <td>0.000471</td>\n",
       "      <td>0.000471</td>\n",
       "      <td>0.014605</td>\n",
       "      <td>0.008560</td>\n",
       "    </tr>\n",
       "    <tr>\n",
       "      <th>2</th>\n",
       "      <td>0.003333</td>\n",
       "      <td>0.000667</td>\n",
       "      <td>0.929</td>\n",
       "      <td>0.929005</td>\n",
       "      <td>2</td>\n",
       "      <td>l1</td>\n",
       "      <td>{u'penalty': u'l1', u'C': 2}</td>\n",
       "      <td>4</td>\n",
       "      <td>0.910180</td>\n",
       "      <td>0.939940</td>\n",
       "      <td>0.930931</td>\n",
       "      <td>0.928036</td>\n",
       "      <td>0.945946</td>\n",
       "      <td>0.919040</td>\n",
       "      <td>0.000471</td>\n",
       "      <td>0.000471</td>\n",
       "      <td>0.014669</td>\n",
       "      <td>0.008560</td>\n",
       "    </tr>\n",
       "    <tr>\n",
       "      <th>3</th>\n",
       "      <td>0.001333</td>\n",
       "      <td>0.000000</td>\n",
       "      <td>0.929</td>\n",
       "      <td>0.929504</td>\n",
       "      <td>1</td>\n",
       "      <td>l2</td>\n",
       "      <td>{u'penalty': u'l2', u'C': 1}</td>\n",
       "      <td>4</td>\n",
       "      <td>0.907186</td>\n",
       "      <td>0.938438</td>\n",
       "      <td>0.930931</td>\n",
       "      <td>0.929535</td>\n",
       "      <td>0.948949</td>\n",
       "      <td>0.920540</td>\n",
       "      <td>0.000471</td>\n",
       "      <td>0.000000</td>\n",
       "      <td>0.017109</td>\n",
       "      <td>0.007307</td>\n",
       "    </tr>\n",
       "    <tr>\n",
       "      <th>4</th>\n",
       "      <td>0.003000</td>\n",
       "      <td>0.000333</td>\n",
       "      <td>0.929</td>\n",
       "      <td>0.929005</td>\n",
       "      <td>2</td>\n",
       "      <td>l1</td>\n",
       "      <td>{u'penalty': u'l1', u'C': 2}</td>\n",
       "      <td>4</td>\n",
       "      <td>0.910180</td>\n",
       "      <td>0.939940</td>\n",
       "      <td>0.930931</td>\n",
       "      <td>0.928036</td>\n",
       "      <td>0.945946</td>\n",
       "      <td>0.919040</td>\n",
       "      <td>0.000000</td>\n",
       "      <td>0.000471</td>\n",
       "      <td>0.014669</td>\n",
       "      <td>0.008560</td>\n",
       "    </tr>\n",
       "    <tr>\n",
       "      <th>5</th>\n",
       "      <td>0.000667</td>\n",
       "      <td>0.000333</td>\n",
       "      <td>0.929</td>\n",
       "      <td>0.929504</td>\n",
       "      <td>1</td>\n",
       "      <td>l2</td>\n",
       "      <td>{u'penalty': u'l2', u'C': 1}</td>\n",
       "      <td>4</td>\n",
       "      <td>0.907186</td>\n",
       "      <td>0.938438</td>\n",
       "      <td>0.930931</td>\n",
       "      <td>0.929535</td>\n",
       "      <td>0.948949</td>\n",
       "      <td>0.920540</td>\n",
       "      <td>0.000471</td>\n",
       "      <td>0.000471</td>\n",
       "      <td>0.017109</td>\n",
       "      <td>0.007307</td>\n",
       "    </tr>\n",
       "    <tr>\n",
       "      <th>6</th>\n",
       "      <td>0.000000</td>\n",
       "      <td>0.000000</td>\n",
       "      <td>0.930</td>\n",
       "      <td>0.929504</td>\n",
       "      <td>3</td>\n",
       "      <td>l2</td>\n",
       "      <td>{u'penalty': u'l2', u'C': 3}</td>\n",
       "      <td>1</td>\n",
       "      <td>0.910180</td>\n",
       "      <td>0.938438</td>\n",
       "      <td>0.930931</td>\n",
       "      <td>0.928036</td>\n",
       "      <td>0.948949</td>\n",
       "      <td>0.922039</td>\n",
       "      <td>0.000000</td>\n",
       "      <td>0.000000</td>\n",
       "      <td>0.015845</td>\n",
       "      <td>0.006775</td>\n",
       "    </tr>\n",
       "    <tr>\n",
       "      <th>7</th>\n",
       "      <td>0.000000</td>\n",
       "      <td>0.000000</td>\n",
       "      <td>0.929</td>\n",
       "      <td>0.929005</td>\n",
       "      <td>2</td>\n",
       "      <td>l1</td>\n",
       "      <td>{u'penalty': u'l1', u'C': 2}</td>\n",
       "      <td>4</td>\n",
       "      <td>0.910180</td>\n",
       "      <td>0.939940</td>\n",
       "      <td>0.930931</td>\n",
       "      <td>0.928036</td>\n",
       "      <td>0.945946</td>\n",
       "      <td>0.919040</td>\n",
       "      <td>0.000000</td>\n",
       "      <td>0.000000</td>\n",
       "      <td>0.014669</td>\n",
       "      <td>0.008560</td>\n",
       "    </tr>\n",
       "    <tr>\n",
       "      <th>8</th>\n",
       "      <td>0.000000</td>\n",
       "      <td>0.000000</td>\n",
       "      <td>0.930</td>\n",
       "      <td>0.929504</td>\n",
       "      <td>3</td>\n",
       "      <td>l2</td>\n",
       "      <td>{u'penalty': u'l2', u'C': 3}</td>\n",
       "      <td>1</td>\n",
       "      <td>0.910180</td>\n",
       "      <td>0.938438</td>\n",
       "      <td>0.930931</td>\n",
       "      <td>0.928036</td>\n",
       "      <td>0.948949</td>\n",
       "      <td>0.922039</td>\n",
       "      <td>0.000000</td>\n",
       "      <td>0.000000</td>\n",
       "      <td>0.015845</td>\n",
       "      <td>0.006775</td>\n",
       "    </tr>\n",
       "    <tr>\n",
       "      <th>9</th>\n",
       "      <td>0.000000</td>\n",
       "      <td>0.005333</td>\n",
       "      <td>0.928</td>\n",
       "      <td>0.929005</td>\n",
       "      <td>3</td>\n",
       "      <td>l1</td>\n",
       "      <td>{u'penalty': u'l1', u'C': 3}</td>\n",
       "      <td>9</td>\n",
       "      <td>0.910180</td>\n",
       "      <td>0.939940</td>\n",
       "      <td>0.927928</td>\n",
       "      <td>0.928036</td>\n",
       "      <td>0.945946</td>\n",
       "      <td>0.919040</td>\n",
       "      <td>0.000000</td>\n",
       "      <td>0.007542</td>\n",
       "      <td>0.014605</td>\n",
       "      <td>0.008560</td>\n",
       "    </tr>\n",
       "  </tbody>\n",
       "</table>\n",
       "</div>"
      ],
      "text/plain": [
       "   mean_fit_time  mean_score_time  mean_test_score  mean_train_score param_C  \\\n",
       "0       0.003333         0.001000            0.930          0.930004       1   \n",
       "1       0.002333         0.000333            0.928          0.929005       3   \n",
       "2       0.003333         0.000667            0.929          0.929005       2   \n",
       "3       0.001333         0.000000            0.929          0.929504       1   \n",
       "4       0.003000         0.000333            0.929          0.929005       2   \n",
       "5       0.000667         0.000333            0.929          0.929504       1   \n",
       "6       0.000000         0.000000            0.930          0.929504       3   \n",
       "7       0.000000         0.000000            0.929          0.929005       2   \n",
       "8       0.000000         0.000000            0.930          0.929504       3   \n",
       "9       0.000000         0.005333            0.928          0.929005       3   \n",
       "\n",
       "  param_penalty                        params  rank_test_score  \\\n",
       "0            l1  {u'penalty': u'l1', u'C': 1}                1   \n",
       "1            l1  {u'penalty': u'l1', u'C': 3}                9   \n",
       "2            l1  {u'penalty': u'l1', u'C': 2}                4   \n",
       "3            l2  {u'penalty': u'l2', u'C': 1}                4   \n",
       "4            l1  {u'penalty': u'l1', u'C': 2}                4   \n",
       "5            l2  {u'penalty': u'l2', u'C': 1}                4   \n",
       "6            l2  {u'penalty': u'l2', u'C': 3}                1   \n",
       "7            l1  {u'penalty': u'l1', u'C': 2}                4   \n",
       "8            l2  {u'penalty': u'l2', u'C': 3}                1   \n",
       "9            l1  {u'penalty': u'l1', u'C': 3}                9   \n",
       "\n",
       "   split0_test_score  split0_train_score  split1_test_score  \\\n",
       "0           0.910180            0.938438           0.930931   \n",
       "1           0.910180            0.939940           0.927928   \n",
       "2           0.910180            0.939940           0.930931   \n",
       "3           0.907186            0.938438           0.930931   \n",
       "4           0.910180            0.939940           0.930931   \n",
       "5           0.907186            0.938438           0.930931   \n",
       "6           0.910180            0.938438           0.930931   \n",
       "7           0.910180            0.939940           0.930931   \n",
       "8           0.910180            0.938438           0.930931   \n",
       "9           0.910180            0.939940           0.927928   \n",
       "\n",
       "   split1_train_score  split2_test_score  split2_train_score  std_fit_time  \\\n",
       "0            0.931034           0.948949            0.920540      0.001247   \n",
       "1            0.928036           0.945946            0.919040      0.000471   \n",
       "2            0.928036           0.945946            0.919040      0.000471   \n",
       "3            0.929535           0.948949            0.920540      0.000471   \n",
       "4            0.928036           0.945946            0.919040      0.000000   \n",
       "5            0.929535           0.948949            0.920540      0.000471   \n",
       "6            0.928036           0.948949            0.922039      0.000000   \n",
       "7            0.928036           0.945946            0.919040      0.000000   \n",
       "8            0.928036           0.948949            0.922039      0.000000   \n",
       "9            0.928036           0.945946            0.919040      0.000000   \n",
       "\n",
       "   std_score_time  std_test_score  std_train_score  \n",
       "0        0.000817        0.015845         0.007343  \n",
       "1        0.000471        0.014605         0.008560  \n",
       "2        0.000471        0.014669         0.008560  \n",
       "3        0.000000        0.017109         0.007307  \n",
       "4        0.000471        0.014669         0.008560  \n",
       "5        0.000471        0.017109         0.007307  \n",
       "6        0.000000        0.015845         0.006775  \n",
       "7        0.000000        0.014669         0.008560  \n",
       "8        0.000000        0.015845         0.006775  \n",
       "9        0.007542        0.014605         0.008560  "
      ]
     },
     "execution_count": 53,
     "metadata": {},
     "output_type": "execute_result"
    }
   ],
   "source": [
    "pd.DataFrame(rs.cv_results_)"
   ]
  },
  {
   "cell_type": "code",
   "execution_count": 54,
   "metadata": {
    "collapsed": false
   },
   "outputs": [
    {
     "data": {
      "text/plain": [
       "LogisticRegression(C=1, class_weight='balanced', dual=False,\n",
       "          fit_intercept=True, intercept_scaling=1, max_iter=100,\n",
       "          multi_class='ovr', n_jobs=1, penalty='l1', random_state=None,\n",
       "          solver='liblinear', tol=0.0001, verbose=0, warm_start=False)"
      ]
     },
     "execution_count": 54,
     "metadata": {},
     "output_type": "execute_result"
    }
   ],
   "source": [
    "# 返回最优的模型\n",
    "rs.best_estimator_"
   ]
  },
  {
   "cell_type": "markdown",
   "metadata": {},
   "source": [
    "# 运用虚拟变量比较模型"
   ]
  },
  {
   "cell_type": "code",
   "execution_count": 55,
   "metadata": {
    "collapsed": true
   },
   "outputs": [],
   "source": [
    "from sklearn import dummy"
   ]
  },
  {
   "cell_type": "markdown",
   "metadata": {},
   "source": [
    "#### 回归"
   ]
  },
  {
   "cell_type": "code",
   "execution_count": 56,
   "metadata": {
    "collapsed": true
   },
   "outputs": [],
   "source": [
    "# 创建回归数据集\n",
    "from sklearn.datasets import make_regression\n",
    "X, y = make_regression()"
   ]
  },
  {
   "cell_type": "code",
   "execution_count": 57,
   "metadata": {
    "collapsed": false
   },
   "outputs": [
    {
     "data": {
      "text/plain": [
       "DummyRegressor(constant=None, quantile=None, strategy='mean')"
      ]
     },
     "execution_count": 57,
     "metadata": {},
     "output_type": "execute_result"
    }
   ],
   "source": [
    "dumdum = dummy.DummyRegressor()\n",
    "dumdum.fit(X, y)   "
   ]
  },
  {
   "cell_type": "code",
   "execution_count": 58,
   "metadata": {
    "collapsed": false
   },
   "outputs": [
    {
     "data": {
      "text/plain": [
       "array([ 1.5267656,  1.5267656,  1.5267656,  1.5267656,  1.5267656])"
      ]
     },
     "execution_count": 58,
     "metadata": {},
     "output_type": "execute_result"
    }
   ],
   "source": [
    "dumdum.predict(X)[:5]   # 默认情况下，虚拟模型用均值进行预测"
   ]
  },
  {
   "cell_type": "code",
   "execution_count": 59,
   "metadata": {
    "collapsed": false
   },
   "outputs": [
    {
     "name": "stdout",
     "output_type": "stream",
     "text": [
      "strategy: mean 1.52676559838,1.52676559838,1.52676559838,1.52676559838,1.52676559838\n",
      "strategy: median 10.6247007466,10.6247007466,10.6247007466,10.6247007466,10.6247007466\n",
      "strategy: constant 10.0,10.0,10.0,10.0,10.0\n"
     ]
    }
   ],
   "source": [
    "# 有3种预测方式：均值、中位数、常数，选择常数预测方式时，需要指定用来预测的常数\n",
    "predictors = [(\"mean\", None),(\"median\", None),(\"constant\", 10)]\n",
    "\n",
    "for strategy, constant in predictors:\n",
    "    dumdum = dummy.DummyRegressor(strategy=strategy,constant=constant)\n",
    "    dumdum.fit(X, y)\n",
    "    print \"strategy: {}\".format(strategy), \",\".join(map(str,dumdum.predict(X)[:5]))"
   ]
  },
  {
   "cell_type": "markdown",
   "metadata": {},
   "source": [
    "#### 分类"
   ]
  },
  {
   "cell_type": "code",
   "execution_count": 60,
   "metadata": {
    "collapsed": true
   },
   "outputs": [],
   "source": [
    "# 创建分类数据集\n",
    "from sklearn.datasets import make_regression, make_classification\n",
    "X, y = make_classification()"
   ]
  },
  {
   "cell_type": "code",
   "execution_count": 61,
   "metadata": {
    "collapsed": false
   },
   "outputs": [
    {
     "name": "stdout",
     "output_type": "stream",
     "text": [
      "strategy: constant 0,0,0,0,0\n",
      "strategy: stratified 1,0,0,1,0\n",
      "strategy: uniform 0,0,1,1,0\n",
      "strategy: most_frequent 0,0,0,0,0\n"
     ]
    }
   ],
   "source": [
    "predictors = [(\"constant\", 0),(\"stratified\", None),(\"uniform\", None),(\"most_frequent\", None)]\n",
    "\n",
    "for strategy, constant in predictors:\n",
    "    dumdum = dummy.DummyClassifier(strategy=strategy,constant=constant)\n",
    "    dumdum.fit(X, y)\n",
    "    print \"strategy: {}\".format(strategy), \",\".join(map(str,dumdum.predict(X)[:5]))"
   ]
  },
  {
   "cell_type": "markdown",
   "metadata": {},
   "source": [
    "#### baseline\n",
    "虚拟回归的作用是建立一个baseline，用后续建立的模型与之进行对比"
   ]
  },
  {
   "cell_type": "code",
   "execution_count": 62,
   "metadata": {
    "collapsed": true
   },
   "outputs": [],
   "source": [
    "# 创建不平衡的分类数据集\n",
    "X, y = make_classification(20000, weights=[.95, .05])"
   ]
  },
  {
   "cell_type": "code",
   "execution_count": 63,
   "metadata": {
    "collapsed": false
   },
   "outputs": [
    {
     "data": {
      "text/plain": [
       "DummyClassifier(constant=None, random_state=None, strategy='most_frequent')"
      ]
     },
     "execution_count": 63,
     "metadata": {},
     "output_type": "execute_result"
    }
   ],
   "source": [
    "# 将所有测试集中样本预测为多类，从而得到一个baseline\n",
    "dumdum = dummy.DummyClassifier(strategy='most_frequent')\n",
    "dumdum.fit(X, y)"
   ]
  },
  {
   "cell_type": "code",
   "execution_count": 64,
   "metadata": {
    "collapsed": false
   },
   "outputs": [
    {
     "name": "stdout",
     "output_type": "stream",
     "text": [
      "0.945\n"
     ]
    }
   ],
   "source": [
    "# 后续建立的模型，只有效果比baseline更好，才有意义\n",
    "from sklearn.metrics import accuracy_score\n",
    "print accuracy_score(y, dumdum.predict(X))"
   ]
  },
  {
   "cell_type": "markdown",
   "metadata": {},
   "source": [
    "# 评估回归模型"
   ]
  },
  {
   "cell_type": "code",
   "execution_count": 65,
   "metadata": {
    "collapsed": true
   },
   "outputs": [],
   "source": [
    "import numpy as np\n",
    "import matplotlib.pyplot as plt\n",
    "from sklearn import metrics"
   ]
  },
  {
   "cell_type": "code",
   "execution_count": 66,
   "metadata": {
    "collapsed": false
   },
   "outputs": [],
   "source": [
    "# 定义产生回归数据的函数\n",
    "def data(x, m=2, b=1, e=None, s=10):\n",
    "    \"\"\"\n",
    "    Args:\n",
    "    x: The x value\n",
    "    m: Slope\n",
    "    b: Intercept\n",
    "    e: Error, optional, True will give random error\n",
    "    \"\"\"\n",
    "    if e is None:\n",
    "        e_i = 0\n",
    "    elif e is True:\n",
    "        e_i = np.random.normal(0, s, len(xs))\n",
    "    else:\n",
    "        e_i = e\n",
    "    return x * m + b + e_i"
   ]
  },
  {
   "cell_type": "code",
   "execution_count": 67,
   "metadata": {
    "collapsed": true
   },
   "outputs": [],
   "source": [
    "from functools import partial"
   ]
  },
  {
   "cell_type": "code",
   "execution_count": 68,
   "metadata": {
    "collapsed": true
   },
   "outputs": [],
   "source": [
    "N = 100\n",
    "xs = np.sort(np.random.rand(N)*100)"
   ]
  },
  {
   "cell_type": "code",
   "execution_count": 69,
   "metadata": {
    "collapsed": true
   },
   "outputs": [],
   "source": [
    "# 生成y的预测值和真实值\n",
    "y_pred_gen = partial(data, x=xs, e=True)\n",
    "y_true_gen = partial(data, x=xs)\n",
    "\n",
    "y_pred = y_pred_gen()\n",
    "y_true = y_true_gen()"
   ]
  },
  {
   "cell_type": "code",
   "execution_count": 70,
   "metadata": {
    "collapsed": false
   },
   "outputs": [
    {
     "data": {
      "text/plain": [
       "<matplotlib.legend.Legend at 0xb937748>"
      ]
     },
     "execution_count": 70,
     "metadata": {},
     "output_type": "execute_result"
    },
    {
     "data": {
      "image/png": "[encoded data removed]",
      "text/plain": [
       "<matplotlib.figure.Figure at 0xb7a2470>"
      ]
     },
     "metadata": {},
     "output_type": "display_data"
    }
   ],
   "source": [
    "# 点为预测值，直线是数据生成过程，表示真实值\n",
    "f, ax = plt.subplots(figsize=(7, 5))\n",
    "\n",
    "ax.scatter(xs, y_pred, label=r'$\\hat{y}$')\n",
    "ax.plot(xs, y_true, label=r'$y$')\n",
    "ax.set_title(\"Plotting the fit vs the underlying process.\")\n",
    "ax.legend(loc='best')"
   ]
  },
  {
   "cell_type": "code",
   "execution_count": 71,
   "metadata": {
    "collapsed": true
   },
   "outputs": [],
   "source": [
    "# 残差\n",
    "e_hat = y_pred - y_true"
   ]
  },
  {
   "cell_type": "code",
   "execution_count": 72,
   "metadata": {
    "collapsed": false
   },
   "outputs": [
    {
     "data": {
      "text/plain": [
       "(array([  3.,   2.,   7.,  13.,  11.,  19.,  17.,  18.,   7.,   3.]),\n",
       " array([-29.52662471, -24.22168026, -18.9167358 , -13.61179135,\n",
       "         -8.3068469 ,  -3.00190244,   2.30304201,   7.60798646,\n",
       "         12.91293092,  18.21787537,  23.52281982]),\n",
       " <a list of 1 Patch objects>)"
      ]
     },
     "execution_count": 72,
     "metadata": {},
     "output_type": "execute_result"
    },
    {
     "data": {
      "image/png": "[encoded data removed]",
      "text/plain": [
       "<matplotlib.figure.Figure at 0xb7f3390>"
      ]
     },
     "metadata": {},
     "output_type": "display_data"
    }
   ],
   "source": [
    "f, ax = plt.subplots(figsize=(7, 5))\n",
    "ax.set_title(\"Residuals\")\n",
    "ax.hist(e_hat, color='r', alpha=.5, histtype='stepfilled')"
   ]
  },
  {
   "cell_type": "markdown",
   "metadata": {},
   "source": [
    "#### MSE"
   ]
  },
  {
   "cell_type": "code",
   "execution_count": 73,
   "metadata": {
    "collapsed": false
   },
   "outputs": [
    {
     "data": {
      "text/plain": [
       "121.08208606790322"
      ]
     },
     "execution_count": 73,
     "metadata": {},
     "output_type": "execute_result"
    }
   ],
   "source": [
    "from sklearn import metrics\n",
    "metrics.mean_squared_error(y_true, y_pred)"
   ]
  },
  {
   "cell_type": "markdown",
   "metadata": {},
   "source": [
    "#### MAD"
   ]
  },
  {
   "cell_type": "code",
   "execution_count": 74,
   "metadata": {
    "collapsed": false
   },
   "outputs": [
    {
     "data": {
      "text/plain": [
       "8.7678264924217597"
      ]
     },
     "execution_count": 74,
     "metadata": {},
     "output_type": "execute_result"
    }
   ],
   "source": [
    "metrics.mean_absolute_error(y_true, y_pred)"
   ]
  },
  {
   "cell_type": "markdown",
   "metadata": {},
   "source": [
    "#### R-squre"
   ]
  },
  {
   "cell_type": "code",
   "execution_count": 75,
   "metadata": {
    "collapsed": false
   },
   "outputs": [
    {
     "data": {
      "text/plain": [
       "0.96269628179494304"
      ]
     },
     "execution_count": 75,
     "metadata": {},
     "output_type": "execute_result"
    }
   ],
   "source": [
    "metrics.r2_score(y_true, y_pred)"
   ]
  },
  {
   "cell_type": "markdown",
   "metadata": {},
   "source": [
    "# 特征选择"
   ]
  },
  {
   "cell_type": "code",
   "execution_count": 76,
   "metadata": {
    "collapsed": true
   },
   "outputs": [],
   "source": [
    "from sklearn import feature_selection"
   ]
  },
  {
   "cell_type": "code",
   "execution_count": 77,
   "metadata": {
    "collapsed": true
   },
   "outputs": [],
   "source": [
    "from sklearn import datasets\n",
    "X, y = datasets.make_regression(1000, 10000)"
   ]
  },
  {
   "cell_type": "markdown",
   "metadata": {},
   "source": [
    "#### F值和P值"
   ]
  },
  {
   "cell_type": "code",
   "execution_count": 78,
   "metadata": {
    "collapsed": true
   },
   "outputs": [],
   "source": [
    "f, p = feature_selection.f_regression(X, y)   # f和p是做一元回归时，各个特征的F值和p值"
   ]
  },
  {
   "cell_type": "code",
   "execution_count": 79,
   "metadata": {
    "collapsed": false
   },
   "outputs": [
    {
     "data": {
      "text/plain": [
       "array([ 0.31395866,  3.1032933 ,  0.80640243,  1.45463174,  0.22689219])"
      ]
     },
     "execution_count": 79,
     "metadata": {},
     "output_type": "execute_result"
    }
   ],
   "source": [
    "f[:5]"
   ]
  },
  {
   "cell_type": "code",
   "execution_count": 80,
   "metadata": {
    "collapsed": false
   },
   "outputs": [
    {
     "data": {
      "text/plain": [
       "array([ 0.57538685,  0.07844024,  0.3694026 ,  0.22807204,  0.63394213])"
      ]
     },
     "execution_count": 80,
     "metadata": {},
     "output_type": "execute_result"
    }
   ],
   "source": [
    "p[:5]"
   ]
  },
  {
   "cell_type": "code",
   "execution_count": 81,
   "metadata": {
    "collapsed": false
   },
   "outputs": [
    {
     "data": {
      "text/plain": [
       "485"
      ]
     },
     "execution_count": 81,
     "metadata": {},
     "output_type": "execute_result"
    }
   ],
   "source": [
    "# 只保留p值小于0.05的特征\n",
    "import numpy as np\n",
    "idx = np.arange(0, X.shape[1])\n",
    "features_to_keep = idx[p < .05]\n",
    "\n",
    "len(features_to_keep)"
   ]
  },
  {
   "cell_type": "markdown",
   "metadata": {},
   "source": [
    "#### 数据的变异程度\n",
    "变异程度（方差）大的特征包含更多的信息，且由于这种方法只考虑X而不需要y，因而可用于非监督学习"
   ]
  },
  {
   "cell_type": "code",
   "execution_count": 82,
   "metadata": {
    "collapsed": false
   },
   "outputs": [
    {
     "data": {
      "text/plain": [
       "(1000L, 4795L)"
      ]
     },
     "execution_count": 82,
     "metadata": {},
     "output_type": "execute_result"
    }
   ],
   "source": [
    "var_threshold = feature_selection.VarianceThreshold(np.median(np.var(X, axis=1)))  # 取变异程度大于中位数的特征\n",
    "var_threshold.fit_transform(X).shape"
   ]
  },
  {
   "cell_type": "code",
   "execution_count": null,
   "metadata": {
    "collapsed": true
   },
   "outputs": [],
   "source": []
  },
  {
   "cell_type": "code",
   "execution_count": 83,
   "metadata": {
    "collapsed": true
   },
   "outputs": [],
   "source": [
    "# 只有20个特征，便于可视化\n",
    "X, y = datasets.make_regression(10000, 20)"
   ]
  },
  {
   "cell_type": "code",
   "execution_count": 84,
   "metadata": {
    "collapsed": true
   },
   "outputs": [],
   "source": [
    "f, p = feature_selection.f_regression(X, y)"
   ]
  },
  {
   "cell_type": "code",
   "execution_count": 85,
   "metadata": {
    "collapsed": false
   },
   "outputs": [
    {
     "data": {
      "text/plain": [
       "<matplotlib.text.Text at 0xaa8eac8>"
      ]
     },
     "execution_count": 85,
     "metadata": {},
     "output_type": "execute_result"
    },
    {
     "data": {
      "image/png": "[encoded data removed]",
      "text/plain": [
       "<matplotlib.figure.Figure at 0xb865278>"
      ]
     },
     "metadata": {},
     "output_type": "display_data"
    }
   ],
   "source": [
    "from matplotlib import pyplot as plt\n",
    "f, ax = plt.subplots(figsize=(7, 5))\n",
    "ax.bar(np.arange(20), p, color='k')\n",
    "ax.set_title(\"Feature p values\")"
   ]
  },
  {
   "cell_type": "markdown",
   "metadata": {
    "collapsed": true
   },
   "source": [
    "# L1特征选择"
   ]
  },
  {
   "cell_type": "code",
   "execution_count": 86,
   "metadata": {
    "collapsed": true
   },
   "outputs": [],
   "source": [
    "import sklearn.datasets as ds\n",
    "diabetes = ds.load_diabetes()"
   ]
  },
  {
   "cell_type": "markdown",
   "metadata": {},
   "source": [
    "#### 采用线性回归，随机划分的交叉验证"
   ]
  },
  {
   "cell_type": "code",
   "execution_count": 87,
   "metadata": {
    "collapsed": true
   },
   "outputs": [],
   "source": [
    "from sklearn import linear_model\n",
    "lr = linear_model.LinearRegression()"
   ]
  },
  {
   "cell_type": "code",
   "execution_count": 88,
   "metadata": {
    "collapsed": false
   },
   "outputs": [],
   "source": [
    "from sklearn import metrics\n",
    "from sklearn import model_selection\n",
    "\n",
    "shuff = model_selection.ShuffleSplit(diabetes.target.size)"
   ]
  },
  {
   "cell_type": "code",
   "execution_count": 89,
   "metadata": {
    "collapsed": false
   },
   "outputs": [
    {
     "data": {
      "text/plain": [
       "2868.0646233127432"
      ]
     },
     "execution_count": 89,
     "metadata": {},
     "output_type": "execute_result"
    }
   ],
   "source": [
    "# 运用交叉验证，求解MSE\n",
    "mses = []\n",
    "for train, test in shuff.split(diabetes.data):\n",
    "    train_X = diabetes.data[train]\n",
    "    train_y = diabetes.target[train]\n",
    "    test_X = diabetes.data[~train]\n",
    "    test_y = diabetes.target[~train]\n",
    "    lr.fit(train_X, train_y)\n",
    "    mses.append(metrics.mean_squared_error(test_y,\n",
    "    lr.predict(test_X)))\n",
    "np.mean(mses)"
   ]
  },
  {
   "cell_type": "markdown",
   "metadata": {},
   "source": [
    "#### 运用lasso进行特征选择"
   ]
  },
  {
   "cell_type": "code",
   "execution_count": 90,
   "metadata": {
    "collapsed": true
   },
   "outputs": [],
   "source": [
    "from sklearn import feature_selection\n",
    "from sklearn import model_selection"
   ]
  },
  {
   "cell_type": "code",
   "execution_count": 91,
   "metadata": {
    "collapsed": false
   },
   "outputs": [
    {
     "data": {
      "text/plain": [
       "array([  -0.        , -226.2375274 ,  526.85738059,  314.44026013,\n",
       "       -196.92164002,    1.48742026, -151.78054083,  106.52846989,\n",
       "        530.58541123,   64.50588257])"
      ]
     },
     "execution_count": 91,
     "metadata": {},
     "output_type": "execute_result"
    }
   ],
   "source": [
    "cv = linear_model.LassoCV()\n",
    "cv.fit(diabetes.data, diabetes.target)\n",
    "cv.coef_"
   ]
  },
  {
   "cell_type": "code",
   "execution_count": 92,
   "metadata": {
    "collapsed": false
   },
   "outputs": [
    {
     "data": {
      "text/plain": [
       "array([1, 2, 3, 4, 5, 6, 7, 8, 9], dtype=int64)"
      ]
     },
     "execution_count": 92,
     "metadata": {},
     "output_type": "execute_result"
    }
   ],
   "source": [
    "# 选出系数不为0的特征的索引\n",
    "import numpy as np\n",
    "columns = np.arange(diabetes.data.shape[1])[cv.coef_ != 0]\n",
    "columns"
   ]
  },
  {
   "cell_type": "code",
   "execution_count": 93,
   "metadata": {
    "collapsed": false
   },
   "outputs": [
    {
     "data": {
      "text/plain": [
       "15095.961538461539"
      ]
     },
     "execution_count": 93,
     "metadata": {},
     "output_type": "execute_result"
    }
   ],
   "source": [
    "l1mses = []\n",
    "for train, test in shuff.split(diabetes):\n",
    "    train_X = diabetes.data[train][:, columns]\n",
    "    train_y = diabetes.target[train]\n",
    "    test_X = diabetes.data[~train][:, columns]\n",
    "    test_y = diabetes.target[~train]\n",
    "    lr.fit(train_X, train_y)\n",
    "    l1mses.append(metrics.mean_squared_error(test_y,lr.predict(test_X)))   \n",
    "np.mean(l1mses)"
   ]
  },
  {
   "cell_type": "code",
   "execution_count": 94,
   "metadata": {
    "collapsed": false
   },
   "outputs": [
    {
     "data": {
      "text/plain": [
       "12227.896915148796"
      ]
     },
     "execution_count": 94,
     "metadata": {},
     "output_type": "execute_result"
    }
   ],
   "source": [
    "# 比较两个方法的差距，由于数据集中噪声并不多，所以删去一个特征后，模型的MSE有所上升（或略有下降）\n",
    "np.mean(l1mses) - np.mean(mses)"
   ]
  },
  {
   "cell_type": "markdown",
   "metadata": {},
   "source": [
    "#### 用有噪声的数据集进行试验"
   ]
  },
  {
   "cell_type": "code",
   "execution_count": 95,
   "metadata": {
    "collapsed": true
   },
   "outputs": [],
   "source": [
    "X, y = ds.make_regression(noise=5)"
   ]
  },
  {
   "cell_type": "code",
   "execution_count": 96,
   "metadata": {
    "collapsed": false
   },
   "outputs": [
    {
     "data": {
      "text/plain": [
       "235.93187522140914"
      ]
     },
     "execution_count": 96,
     "metadata": {},
     "output_type": "execute_result"
    }
   ],
   "source": [
    "mses = []\n",
    "shuff = model_selection.ShuffleSplit()\n",
    "for train, test in shuff.split(X):\n",
    "    train_X = X[train]\n",
    "    train_y = y[train]\n",
    "    test_X = X[~train]\n",
    "    test_y = y[~train]\n",
    "    lr.fit(train_X, train_y)\n",
    "    mses.append(metrics.mean_squared_error(test_y,lr.predict(test_X)))\n",
    "np.mean(mses)"
   ]
  },
  {
   "cell_type": "code",
   "execution_count": 97,
   "metadata": {
    "collapsed": false
   },
   "outputs": [
    {
     "data": {
      "text/plain": [
       "LassoCV(alphas=None, copy_X=True, cv=None, eps=0.001, fit_intercept=True,\n",
       "    max_iter=1000, n_alphas=100, n_jobs=1, normalize=False, positive=False,\n",
       "    precompute='auto', random_state=None, selection='cyclic', tol=0.0001,\n",
       "    verbose=False)"
      ]
     },
     "execution_count": 97,
     "metadata": {},
     "output_type": "execute_result"
    }
   ],
   "source": [
    "cv.fit(X, y)"
   ]
  },
  {
   "cell_type": "code",
   "execution_count": 98,
   "metadata": {
    "collapsed": false
   },
   "outputs": [
    {
     "data": {
      "text/plain": [
       "array([ 2,  6,  7,  9, 12], dtype=int64)"
      ]
     },
     "execution_count": 98,
     "metadata": {},
     "output_type": "execute_result"
    }
   ],
   "source": [
    "import numpy as np\n",
    "columns = np.arange(X.shape[1])[cv.coef_ != 0]\n",
    "columns[:5]"
   ]
  },
  {
   "cell_type": "code",
   "execution_count": 99,
   "metadata": {
    "collapsed": false
   },
   "outputs": [
    {
     "data": {
      "text/plain": [
       "13.37873490551903"
      ]
     },
     "execution_count": 99,
     "metadata": {},
     "output_type": "execute_result"
    }
   ],
   "source": [
    "mses = []\n",
    "shuff = model_selection.ShuffleSplit()\n",
    "for train, test in shuff.split(X):\n",
    "    train_X = X[train][:, columns]\n",
    "    train_y = y[train]\n",
    "    test_X = X[~train][:, columns]\n",
    "    test_y = y[~train]\n",
    "    lr.fit(train_X, train_y)\n",
    "    mses.append(metrics.mean_squared_error(test_y,lr.predict(test_X)))\n",
    "np.mean(mses)"
   ]
  },
  {
   "cell_type": "markdown",
   "metadata": {},
   "source": [
    "可以看出，MSE有很大的降低，说明了特征选择的有用性"
   ]
  },
  {
   "cell_type": "markdown",
   "metadata": {},
   "source": [
    "# 用joblib保存模型"
   ]
  },
  {
   "cell_type": "code",
   "execution_count": 100,
   "metadata": {
    "collapsed": true
   },
   "outputs": [],
   "source": [
    "from sklearn.externals import joblib"
   ]
  },
  {
   "cell_type": "code",
   "execution_count": 101,
   "metadata": {
    "collapsed": false
   },
   "outputs": [
    {
     "data": {
      "text/plain": [
       "DecisionTreeClassifier(class_weight=None, criterion='gini', max_depth=None,\n",
       "            max_features=None, max_leaf_nodes=None,\n",
       "            min_impurity_split=1e-07, min_samples_leaf=1,\n",
       "            min_samples_split=2, min_weight_fraction_leaf=0.0,\n",
       "            presort=False, random_state=None, splitter='best')"
      ]
     },
     "execution_count": 101,
     "metadata": {},
     "output_type": "execute_result"
    }
   ],
   "source": [
    "# 准备数据，并生成决策树模型\n",
    "from sklearn import datasets, tree\n",
    "\n",
    "X, y = datasets.make_classification()\n",
    "\n",
    "dt = tree.DecisionTreeClassifier()\n",
    "dt.fit(X, y)"
   ]
  },
  {
   "cell_type": "code",
   "execution_count": 102,
   "metadata": {
    "collapsed": false
   },
   "outputs": [
    {
     "data": {
      "text/plain": [
       "['dtree.clf']"
      ]
     },
     "execution_count": 102,
     "metadata": {},
     "output_type": "execute_result"
    }
   ],
   "source": [
    "# 保存该模型\n",
    "joblib.dump(dt, \"dtree.clf\")"
   ]
  },
  {
   "cell_type": "code",
   "execution_count": 103,
   "metadata": {
    "collapsed": false
   },
   "outputs": [
    {
     "data": {
      "text/plain": [
       "RandomForestClassifier(bootstrap=True, class_weight=None, criterion='gini',\n",
       "            max_depth=None, max_features='auto', max_leaf_nodes=None,\n",
       "            min_impurity_split=1e-07, min_samples_leaf=1,\n",
       "            min_samples_split=2, min_weight_fraction_leaf=0.0,\n",
       "            n_estimators=10, n_jobs=1, oob_score=False, random_state=None,\n",
       "            verbose=0, warm_start=False)"
      ]
     },
     "execution_count": 103,
     "metadata": {},
     "output_type": "execute_result"
    }
   ],
   "source": [
    "# 建立随机森林模型\n",
    "from sklearn import ensemble\n",
    "rf = ensemble.RandomForestClassifier()\n",
    "rf.fit(X, y)"
   ]
  },
  {
   "cell_type": "code",
   "execution_count": 104,
   "metadata": {
    "collapsed": false
   },
   "outputs": [
    {
     "data": {
      "text/plain": [
       "['rf.clf']"
      ]
     },
     "execution_count": 104,
     "metadata": {},
     "output_type": "execute_result"
    }
   ],
   "source": [
    "# 保存该模型\n",
    "joblib.dump(rf, \"rf.clf\")"
   ]
  }
 ],
 "metadata": {
  "kernelspec": {
   "display_name": "Python 2",
   "language": "python",
   "name": "python2"
  },
  "language_info": {
   "codemirror_mode": {
    "name": "ipython",
    "version": 2
   },
   "file_extension": ".py",
   "mimetype": "text/x-python",
   "name": "python",
   "nbconvert_exporter": "python",
   "pygments_lexer": "ipython2",
   "version": "2.7.11"
  }
 },
 "nbformat": 4,
 "nbformat_minor": 0
}
