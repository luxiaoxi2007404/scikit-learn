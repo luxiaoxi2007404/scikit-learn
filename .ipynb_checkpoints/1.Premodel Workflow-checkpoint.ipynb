{
 "cells": [
  {
   "cell_type": "markdown",
   "metadata": {},
   "source": [
    "# 获取数据  \n",
    "- 获取模块自带数据集  \n",
    "1.load方法载入小数据集  \n",
    "2.fetch方法下载大数据集  \n",
    "-  生成模拟数据集  \n",
    "1.生成回归数据集  \n",
    "2.生成分类数据集  \n",
    "3.生成聚类数据集  \n",
    "\n",
    "#  准备数据    \n",
    "- 数据的特征标准化  \n",
    "1.z分数标准化  \n",
    "2.将数据放缩到一定的区间内  \n",
    "3.将【样本】的模转化为1  \n",
    "4.稀疏矩阵的标准化  \n",
    "- 将连续变量转化为分类变量  \n",
    "- 对类别变量进行one hot 编码  \n",
    "- 缺失值填充  \n",
    "- 利用Pipeline进行多步骤的数据处理  \n",
    "\n",
    "#  数据降维  \n",
    "- PCA降维  \n",
    "1.不降维  \n",
    "2.指定主成分个数  \n",
    "3.指定解释的偏差大小  \n",
    "- 因子分析降维  \n",
    "- 核非线性PCA降维  \n",
    "- 截尾SVD降维  \n",
    "- 字典学习  \n",
    "- lasso 做特征选择\n",
    "- 高阶pipeline方法  \n",
    "\n",
    "# 高斯过程回归\n",
    "- 回归\n",
    "- 预测\n",
    "- 模型评估（MSE）\n",
    "\n",
    "# 设定高斯过程\n",
    "#  随机梯度下降\n"
   ]
  },
  {
   "cell_type": "code",
   "execution_count": 1,
   "metadata": {
    "collapsed": false
   },
   "outputs": [],
   "source": [
    "import numpy as np\n",
    "import scipy\n",
    "import pandas as pd\n",
    "from pandas import Series,DataFrame\n",
    "import matplotlib.pyplot as plt\n",
    "import seaborn as sns"
   ]
  },
  {
   "cell_type": "code",
   "execution_count": 2,
   "metadata": {
    "collapsed": true
   },
   "outputs": [],
   "source": [
    "%matplotlib inline"
   ]
  },
  {
   "cell_type": "markdown",
   "metadata": {},
   "source": [
    "##  获取模块自带的数据集\n",
    "- 直接载入的小数据集\n",
    "- 从网上下载大数据集\n",
    "- 被导入的数据集在Python中被存储为bunch数据结构"
   ]
  },
  {
   "cell_type": "code",
   "execution_count": 3,
   "metadata": {
    "collapsed": true
   },
   "outputs": [],
   "source": [
    "from sklearn import datasets  #导入数据集"
   ]
  },
  {
   "cell_type": "raw",
   "metadata": {},
   "source": [
    "datasets.*? #查看所有可用的数据集"
   ]
  },
  {
   "cell_type": "markdown",
   "metadata": {},
   "source": [
    " ####          load方法载入小数据集\n",
    "   - datasets.load_ 函数"
   ]
  },
  {
   "cell_type": "raw",
   "metadata": {},
   "source": [
    "datasets.load_*?   #查看所有小数据集"
   ]
  },
  {
   "cell_type": "code",
   "execution_count": 4,
   "metadata": {
    "collapsed": false
   },
   "outputs": [
    {
     "name": "stdout",
     "output_type": "stream",
     "text": [
      "Boston House Prices dataset\n",
      "===========================\n",
      "\n",
      "Notes\n",
      "------\n",
      "Data Set Characteristics:  \n",
      "\n",
      "    :Number of Instances: 506 \n",
      "\n",
      "    :Number of Attributes: 13 numeric/categorical predictive\n",
      "    \n",
      "    :Median Value (attribute 14) is usually the target\n",
      "\n",
      "    :Attribute Information (in order):\n",
      "        - CRIM     per capita crime rate by town\n",
      "        - ZN       proportion of residential land zoned for lots over 25,000 sq.ft.\n",
      "        - INDUS    proportion of non-retail business acres per town\n",
      "        - CHAS     Charles River dummy variable (= 1 if tract bounds river; 0 otherwise)\n",
      "        - NOX      nitric oxides concentration (parts per 10 million)\n",
      "        - RM       average number of rooms per dwelling\n",
      "        - AGE      proportion of owner-occupied units built prior to 1940\n",
      "        - DIS      weighted distances to five Boston employment centres\n",
      "        - RAD      index of accessibility to radial highways\n",
      "        - TAX      full-value property-tax rate per $10,000\n",
      "        - PTRATIO  pupil-teacher ratio by town\n",
      "        - B        1000(Bk - 0.63)^2 where Bk is the proportion of blacks by town\n",
      "        - LSTAT    % lower status of the population\n",
      "        - MEDV     Median value of owner-occupied homes in $1000's\n",
      "\n",
      "    :Missing Attribute Values: None\n",
      "\n",
      "    :Creator: Harrison, D. and Rubinfeld, D.L.\n",
      "\n",
      "This is a copy of UCI ML housing dataset.\n",
      "http://archive.ics.uci.edu/ml/datasets/Housing\n",
      "\n",
      "\n",
      "This dataset was taken from the StatLib library which is maintained at Carnegie Mellon University.\n",
      "\n",
      "The Boston house-price data of Harrison, D. and Rubinfeld, D.L. 'Hedonic\n",
      "prices and the demand for clean air', J. Environ. Economics & Management,\n",
      "vol.5, 81-102, 1978.   Used in Belsley, Kuh & Welsch, 'Regression diagnostics\n",
      "...', Wiley, 1980.   N.B. Various transformations are used in the table on\n",
      "pages 244-261 of the latter.\n",
      "\n",
      "The Boston house-price data has been used in many machine learning papers that address regression\n",
      "problems.   \n",
      "     \n",
      "**References**\n",
      "\n",
      "   - Belsley, Kuh & Welsch, 'Regression diagnostics: Identifying Influential Data and Sources of Collinearity', Wiley, 1980. 244-261.\n",
      "   - Quinlan,R. (1993). Combining Instance-Based and Model-Based Learning. In Proceedings on the Tenth International Conference of Machine Learning, 236-243, University of Massachusetts, Amherst. Morgan Kaufmann.\n",
      "   - many more! (see http://archive.ics.uci.edu/ml/datasets/Housing)\n",
      "\n"
     ]
    }
   ],
   "source": [
    "boston = datasets.load_boston()\n",
    "print boston.DESCR   #获取该数据的介绍"
   ]
  },
  {
   "cell_type": "markdown",
   "metadata": {},
   "source": [
    "#### fetch方法下载大数据集\n",
    "   - datasets.fetch_ 函数"
   ]
  },
  {
   "cell_type": "raw",
   "metadata": {},
   "source": [
    "datasets.fetch_*?   #查看可以下载的大数据集"
   ]
  },
  {
   "cell_type": "code",
   "execution_count": 5,
   "metadata": {
    "collapsed": false
   },
   "outputs": [
    {
     "name": "stdout",
     "output_type": "stream",
     "text": [
      "California housing dataset.\n",
      "\n",
      "The original database is available from StatLib\n",
      "\n",
      "    http://lib.stat.cmu.edu/\n",
      "\n",
      "The data contains 20,640 observations on 9 variables.\n",
      "\n",
      "This dataset contains the average house value as target variable\n",
      "and the following input variables (features): average income,\n",
      "housing average age, average rooms, average bedrooms, population,\n",
      "average occupation, latitude, and longitude in that order.\n",
      "\n",
      "References\n",
      "----------\n",
      "\n",
      "Pace, R. Kelley and Ronald Barry, Sparse Spatial Autoregressions,\n",
      "Statistics and Probability Letters, 33 (1997) 291-297.\n",
      "\n",
      "\n"
     ]
    }
   ],
   "source": [
    "housing  = datasets.fetch_california_housing()\n",
    "print housing.DESCR"
   ]
  },
  {
   "cell_type": "markdown",
   "metadata": {},
   "source": [
    "#### 处理bunch数据格式，获取解释变量和被解释变量"
   ]
  },
  {
   "cell_type": "code",
   "execution_count": 6,
   "metadata": {
    "collapsed": false
   },
   "outputs": [],
   "source": [
    "X, y = boston.data, boston.target  # 通过data和target属性，获取解释变量和被解释变量"
   ]
  },
  {
   "cell_type": "code",
   "execution_count": 7,
   "metadata": {
    "collapsed": false
   },
   "outputs": [
    {
     "data": {
      "text/plain": [
       "(506L,)"
      ]
     },
     "execution_count": 7,
     "metadata": {},
     "output_type": "execute_result"
    }
   ],
   "source": [
    "X.shape\n",
    "y.shape"
   ]
  },
  {
   "cell_type": "markdown",
   "metadata": {},
   "source": [
    "#### 查看下载的数据的存储位置"
   ]
  },
  {
   "cell_type": "code",
   "execution_count": 8,
   "metadata": {
    "collapsed": false
   },
   "outputs": [
    {
     "data": {
      "text/plain": [
       "'C:\\\\Users\\\\Administrator\\\\scikit_learn_data'"
      ]
     },
     "execution_count": 8,
     "metadata": {},
     "output_type": "execute_result"
    }
   ],
   "source": [
    "datasets.get_data_home()"
   ]
  },
  {
   "cell_type": "markdown",
   "metadata": {},
   "source": [
    "## 生成模拟数据集\n",
    "- 回归数据集\n",
    "- 分类数据集\n",
    "- 聚类数据集"
   ]
  },
  {
   "cell_type": "code",
   "execution_count": 9,
   "metadata": {
    "collapsed": true
   },
   "outputs": [],
   "source": [
    "from sklearn import datasets"
   ]
  },
  {
   "cell_type": "raw",
   "metadata": {
    "collapsed": true
   },
   "source": [
    "datasets.make_*?   #查看所有的模拟数据集"
   ]
  },
  {
   "cell_type": "markdown",
   "metadata": {},
   "source": [
    "####  生成回归数据集\n",
    "datasets.make_regression函数"
   ]
  },
  {
   "cell_type": "code",
   "execution_count": 10,
   "metadata": {
    "collapsed": true
   },
   "outputs": [],
   "source": [
    "reg_data = datasets.make_regression()   #默认生成100*100的数据，样本量为100，特征数为100，其中10个为有用特征，第2个元素为被解释变量"
   ]
  },
  {
   "cell_type": "code",
   "execution_count": 11,
   "metadata": {
    "collapsed": false
   },
   "outputs": [
    {
     "data": {
      "text/plain": [
       "((100L, 100L), (100L,))"
      ]
     },
     "execution_count": 11,
     "metadata": {},
     "output_type": "execute_result"
    }
   ],
   "source": [
    "reg_data[0].shape,reg_data[1].shape"
   ]
  },
  {
   "cell_type": "code",
   "execution_count": 12,
   "metadata": {
    "collapsed": true
   },
   "outputs": [],
   "source": [
    "compex_reg_data = datasets.make_regression(1000,10,5,2,1.0)   #生成1000*10的数据，其中5个有用特征，被解释变量2维，偏差为1.0"
   ]
  },
  {
   "cell_type": "markdown",
   "metadata": {},
   "source": [
    "#### 生成分类数据集\n",
    "datasets.make_classification函数"
   ]
  },
  {
   "cell_type": "code",
   "execution_count": 13,
   "metadata": {
    "collapsed": true
   },
   "outputs": [],
   "source": [
    "classification_set = datasets.make_classification(weights = [0.1])  # 生成100*20的矩阵，2个特征有意义，2个类别，设定正负样本比例为1:9\n",
    "# weights参数，为了模拟现实情况，需要生成不平衡的分类数据集；参数为list形式，当list中元素个数为类别数-1，则自动计算最后一类的比例"
   ]
  },
  {
   "cell_type": "code",
   "execution_count": 14,
   "metadata": {
    "collapsed": false
   },
   "outputs": [
    {
     "data": {
      "text/plain": [
       "array([10, 90], dtype=int64)"
      ]
     },
     "execution_count": 14,
     "metadata": {},
     "output_type": "execute_result"
    }
   ],
   "source": [
    "np.bincount(classification_set[1])   #生成数据的实际正负样本比例"
   ]
  },
  {
   "cell_type": "code",
   "execution_count": 15,
   "metadata": {
    "collapsed": false
   },
   "outputs": [
    {
     "data": {
      "text/plain": [
       "((100L, 20L), (100L,))"
      ]
     },
     "execution_count": 15,
     "metadata": {},
     "output_type": "execute_result"
    }
   ],
   "source": [
    "classification_set[0].shape,classification_set[1].shape"
   ]
  },
  {
   "cell_type": "code",
   "execution_count": 16,
   "metadata": {
    "collapsed": true
   },
   "outputs": [],
   "source": [
    "classification_set = datasets.make_classification(1000,100,weights = [0.1])  # 设置样本数和特征数"
   ]
  },
  {
   "cell_type": "code",
   "execution_count": 17,
   "metadata": {
    "collapsed": false
   },
   "outputs": [
    {
     "data": {
      "text/plain": [
       "((1000L, 100L), (1000L,))"
      ]
     },
     "execution_count": 17,
     "metadata": {},
     "output_type": "execute_result"
    }
   ],
   "source": [
    "classification_set[0].shape,classification_set[1].shape"
   ]
  },
  {
   "cell_type": "markdown",
   "metadata": {},
   "source": [
    "#### 生成聚类数据集\n",
    "datasets.make_blobs函数"
   ]
  },
  {
   "cell_type": "code",
   "execution_count": 18,
   "metadata": {
    "collapsed": true
   },
   "outputs": [],
   "source": [
    "blobs = datasets.make_blobs()  # 生成聚类数据集，默认100*2,3个类"
   ]
  },
  {
   "cell_type": "code",
   "execution_count": 19,
   "metadata": {
    "collapsed": false
   },
   "outputs": [],
   "source": [
    "cluster_0 = blobs[0][blobs[1] ==0]\n",
    "cluster_1 = blobs[0][blobs[1] ==1]\n",
    "cluster_2 = blobs[0][blobs[1] ==2]"
   ]
  },
  {
   "cell_type": "code",
   "execution_count": 20,
   "metadata": {
    "collapsed": false
   },
   "outputs": [
    {
     "data": {
      "image/png": "[encoded data removed]",
      "text/plain": [
       "<matplotlib.figure.Figure at 0x9fb4128>"
      ]
     },
     "metadata": {},
     "output_type": "display_data"
    }
   ],
   "source": [
    "for i in range(0,cluster_0.shape[0]):\n",
    "    plt.scatter(cluster_0[i][0],cluster_0[i][1],color='blue')\n",
    "for i in range(0,cluster_1.shape[0]):\n",
    "    plt.scatter(cluster_1[i][0],cluster_1[i][1],color='green')\n",
    "for i in range(0,cluster_2.shape[0]):\n",
    "    plt.scatter(cluster_2[i][0],cluster_2[i][1],color='red')\n",
    "plt.show() # 画数据的散点图"
   ]
  },
  {
   "cell_type": "code",
   "execution_count": 21,
   "metadata": {
    "collapsed": true
   },
   "outputs": [],
   "source": [
    "blobs,y = datasets.make_blobs(20,6,centers = 4)  # 20个数据，6个特征，4个类"
   ]
  },
  {
   "cell_type": "markdown",
   "metadata": {},
   "source": [
    "#### 源代码示例----模拟回归数据"
   ]
  },
  {
   "cell_type": "code",
   "execution_count": 22,
   "metadata": {
    "collapsed": true
   },
   "outputs": [],
   "source": [
    "def make_regression(n_samples, n_features, n_informative, n_targets, bias):\n",
    "    X = np.random.randn(n_samples, n_features) # 生成解释变量X矩阵\n",
    "    ground_truth = np.zeroes((np_samples, n_target))\n",
    "    ground_truth[:n_informative, :] = 100*np.random.rand(n_informative, n_targets)\n",
    "    y = np.dot(X, ground_truth) + bias # 生成被解释变量y矩阵\n",
    "    return X, y"
   ]
  },
  {
   "cell_type": "markdown",
   "metadata": {},
   "source": [
    "## 数据的特征标准化\n",
    "- z分数标准化\n",
    "- 将数据放缩到一定的区间内\n",
    "- 将【样本】的模转化为1\n",
    "- 稀疏矩阵的标准化"
   ]
  },
  {
   "cell_type": "code",
   "execution_count": 23,
   "metadata": {
    "collapsed": true
   },
   "outputs": [],
   "source": [
    "from sklearn import preprocessing"
   ]
  },
  {
   "cell_type": "markdown",
   "metadata": {},
   "source": [
    "#### 特征的z分数标准化\n",
    "- 函数方法  \n",
    "preprocessing.scale函数"
   ]
  },
  {
   "cell_type": "code",
   "execution_count": 24,
   "metadata": {
    "collapsed": false
   },
   "outputs": [
    {
     "data": {
      "text/plain": [
       "array([  3.59376071,  11.36363636,  11.13677866])"
      ]
     },
     "execution_count": 24,
     "metadata": {},
     "output_type": "execute_result"
    }
   ],
   "source": [
    "X[:, :3].mean(axis=0)   #计算前三个特征的均值"
   ]
  },
  {
   "cell_type": "code",
   "execution_count": 25,
   "metadata": {
    "collapsed": false
   },
   "outputs": [
    {
     "data": {
      "text/plain": [
       "array([  8.58828355,  23.29939569,   6.85357058])"
      ]
     },
     "execution_count": 25,
     "metadata": {},
     "output_type": "execute_result"
    }
   ],
   "source": [
    "X[:, :3].std(axis=0)    #计算前三个特征的标准差"
   ]
  },
  {
   "cell_type": "code",
   "execution_count": 26,
   "metadata": {
    "collapsed": true
   },
   "outputs": [],
   "source": [
    "X_2 = preprocessing.scale(X[:, :3])  #对前三个特征进行标准化"
   ]
  },
  {
   "cell_type": "code",
   "execution_count": 27,
   "metadata": {
    "collapsed": false
   },
   "outputs": [
    {
     "data": {
      "text/plain": [
       "array([  6.34099712e-17,  -6.34319123e-16,  -2.68291099e-15])"
      ]
     },
     "execution_count": 27,
     "metadata": {},
     "output_type": "execute_result"
    }
   ],
   "source": [
    "X_2.mean(axis=0)   #重新计算前三个特征的均值"
   ]
  },
  {
   "cell_type": "code",
   "execution_count": 28,
   "metadata": {
    "collapsed": false
   },
   "outputs": [
    {
     "data": {
      "text/plain": [
       "array([ 1.,  1.,  1.])"
      ]
     },
     "execution_count": 28,
     "metadata": {},
     "output_type": "execute_result"
    }
   ],
   "source": [
    "X_2.std(axis=0)    #重新计算前三个特征的标准差"
   ]
  },
  {
   "cell_type": "markdown",
   "metadata": {},
   "source": [
    "- 类方法  \n",
    "preprocessing.StandardScaler类"
   ]
  },
  {
   "cell_type": "code",
   "execution_count": 29,
   "metadata": {
    "collapsed": false
   },
   "outputs": [
    {
     "data": {
      "text/plain": [
       "array([ 1.,  1.,  1.])"
      ]
     },
     "execution_count": 29,
     "metadata": {},
     "output_type": "execute_result"
    }
   ],
   "source": [
    "my_scaler = preprocessing.StandardScaler()  # 生成StandardScaler的类\n",
    "my_scaler.fit(X[:, :3])  # 分别计算每个特征的均值、方差，并储存在实例中\n",
    "my_scaler.transform(X[:, :3])   #使用存储在实例中的均值、方差，将特征转化为标准正态分布\n",
    "my_scaler.transform(X[:, :3]).mean(axis=0) #重新计算均值\n",
    "my_scaler.transform(X[:, :3]).std(axis=0)  #重新计算标准差"
   ]
  },
  {
   "cell_type": "code",
   "execution_count": 30,
   "metadata": {
    "collapsed": false
   },
   "outputs": [
    {
     "data": {
      "text/plain": [
       "array([  6.34099712e-17,  -6.34319123e-16,  -2.68291099e-15])"
      ]
     },
     "execution_count": 30,
     "metadata": {},
     "output_type": "execute_result"
    }
   ],
   "source": [
    "############################################# 类的另一种表示方法#######################################（下文交叉使用）\n",
    "my_scaler_2 = preprocessing.StandardScaler() # 生成StandardScaler类\n",
    "my_scaler_2.fit_transform(X[:, :3]).mean(axis=0) # fit_transform方法"
   ]
  },
  {
   "cell_type": "code",
   "execution_count": 31,
   "metadata": {
    "collapsed": false
   },
   "outputs": [
    {
     "data": {
      "text/plain": [
       "True"
      ]
     },
     "execution_count": 31,
     "metadata": {},
     "output_type": "execute_result"
    }
   ],
   "source": [
    "######################### 类的参数有2个，分别对均值和方差进行标准化，可以修改类的参数##############################\n",
    "my_useless_scaler = preprocessing.StandardScaler(with_mean=False, with_std=False) # 如果不对数据进行减均值，除方差，则相当于没有变换\n",
    "transformed_sd = my_useless_scaler .fit_transform(X[:, :3]).std(axis=0)\n",
    "original_sd = X[:, :3].std(axis=0)\n",
    "np.array_equal(transformed_sd, original_sd)  # 与原数据结果一样，没有产生任何变化"
   ]
  },
  {
   "cell_type": "markdown",
   "metadata": {},
   "source": [
    "#### 将特征放缩到一定的区间内\n",
    "- 函数方法  \n",
    " preprocessing.minmax_scale函数"
   ]
  },
  {
   "cell_type": "code",
   "execution_count": 32,
   "metadata": {
    "collapsed": false
   },
   "outputs": [
    {
     "data": {
      "text/plain": [
       "(array([ 0.,  0.,  0.]), array([ 1.,  1.,  1.]))"
      ]
     },
     "execution_count": 32,
     "metadata": {},
     "output_type": "execute_result"
    }
   ],
   "source": [
    "X_3 = preprocessing.minmax_scale(X[:, :3])  # 默认放缩到（0,1）区间内\n",
    "X_3.min(axis = 0),X_3.max(axis = 0)"
   ]
  },
  {
   "cell_type": "markdown",
   "metadata": {},
   "source": [
    "- 类方法  \n",
    "preprocessing.MinMaxScaler类"
   ]
  },
  {
   "cell_type": "code",
   "execution_count": 33,
   "metadata": {
    "collapsed": false
   },
   "outputs": [
    {
     "data": {
      "text/plain": [
       "array([ 1.,  1.,  1.])"
      ]
     },
     "execution_count": 33,
     "metadata": {},
     "output_type": "execute_result"
    }
   ],
   "source": [
    "my_minmax_scaler = preprocessing.MinMaxScaler()\n",
    "my_minmax_scaler.fit(X[:, :3])\n",
    "my_minmax_scaler.transform(X[:, :3])\n",
    "my_minmax_scaler.transform(X[:, :3]).min(axis=0)\n",
    "my_minmax_scaler.transform(X[:, :3]).max(axis=0)"
   ]
  },
  {
   "cell_type": "code",
   "execution_count": 34,
   "metadata": {
    "collapsed": true
   },
   "outputs": [],
   "source": [
    "my_odd_scaler = preprocessing.MinMaxScaler(feature_range=(-3.14,3.14))  # 修改放缩范围"
   ]
  },
  {
   "cell_type": "markdown",
   "metadata": {},
   "source": [
    "#### 将样本的模转化为1\n",
    "- 函数方法  \n",
    "preprocessing.normaliz函数"
   ]
  },
  {
   "cell_type": "code",
   "execution_count": 35,
   "metadata": {
    "collapsed": false
   },
   "outputs": [
    {
     "data": {
      "text/plain": [
       "array([ 1.,  1.,  1.,  1.,  1.,  1.,  1.,  1.,  1.,  1.,  1.,  1.,  1.,\n",
       "        1.,  1.,  1.,  1.,  1.,  1.,  1.,  1.,  1.,  1.,  1.,  1.,  1.,\n",
       "        1.,  1.,  1.,  1.,  1.,  1.,  1.,  1.,  1.,  1.,  1.,  1.,  1.,\n",
       "        1.,  1.,  1.,  1.,  1.,  1.,  1.,  1.,  1.,  1.,  1.,  1.,  1.,\n",
       "        1.,  1.,  1.,  1.,  1.,  1.,  1.,  1.,  1.,  1.,  1.,  1.,  1.,\n",
       "        1.,  1.,  1.,  1.,  1.,  1.,  1.,  1.,  1.,  1.,  1.,  1.,  1.,\n",
       "        1.,  1.,  1.,  1.,  1.,  1.,  1.,  1.,  1.,  1.,  1.,  1.,  1.,\n",
       "        1.,  1.,  1.,  1.,  1.,  1.,  1.,  1.,  1.,  1.,  1.,  1.,  1.,\n",
       "        1.,  1.,  1.,  1.,  1.,  1.,  1.,  1.,  1.,  1.,  1.,  1.,  1.,\n",
       "        1.,  1.,  1.,  1.,  1.,  1.,  1.,  1.,  1.,  1.,  1.,  1.,  1.,\n",
       "        1.,  1.,  1.,  1.,  1.,  1.,  1.,  1.,  1.,  1.,  1.,  1.,  1.,\n",
       "        1.,  1.,  1.,  1.,  1.,  1.,  1.,  1.,  1.,  1.,  1.,  1.,  1.,\n",
       "        1.,  1.,  1.,  1.,  1.,  1.,  1.,  1.,  1.,  1.,  1.,  1.,  1.,\n",
       "        1.,  1.,  1.,  1.,  1.,  1.,  1.,  1.,  1.,  1.,  1.,  1.,  1.,\n",
       "        1.,  1.,  1.,  1.,  1.,  1.,  1.,  1.,  1.,  1.,  1.,  1.,  1.,\n",
       "        1.,  1.,  1.,  1.,  1.,  1.,  1.,  1.,  1.,  1.,  1.,  1.,  1.,\n",
       "        1.,  1.,  1.,  1.,  1.,  1.,  1.,  1.,  1.,  1.,  1.,  1.,  1.,\n",
       "        1.,  1.,  1.,  1.,  1.,  1.,  1.,  1.,  1.,  1.,  1.,  1.,  1.,\n",
       "        1.,  1.,  1.,  1.,  1.,  1.,  1.,  1.,  1.,  1.,  1.,  1.,  1.,\n",
       "        1.,  1.,  1.,  1.,  1.,  1.,  1.,  1.,  1.,  1.,  1.,  1.,  1.,\n",
       "        1.,  1.,  1.,  1.,  1.,  1.,  1.,  1.,  1.,  1.,  1.,  1.,  1.,\n",
       "        1.,  1.,  1.,  1.,  1.,  1.,  1.,  1.,  1.,  1.,  1.,  1.,  1.,\n",
       "        1.,  1.,  1.,  1.,  1.,  1.,  1.,  1.,  1.,  1.,  1.,  1.,  1.,\n",
       "        1.,  1.,  1.,  1.,  1.,  1.,  1.,  1.,  1.,  1.,  1.,  1.,  1.,\n",
       "        1.,  1.,  1.,  1.,  1.,  1.,  1.,  1.,  1.,  1.,  1.,  1.,  1.,\n",
       "        1.,  1.,  1.,  1.,  1.,  1.,  1.,  1.,  1.,  1.,  1.,  1.,  1.,\n",
       "        1.,  1.,  1.,  1.,  1.,  1.,  1.,  1.,  1.,  1.,  1.,  1.,  1.,\n",
       "        1.,  1.,  1.,  1.,  1.,  1.,  1.,  1.,  1.,  1.,  1.,  1.,  1.,\n",
       "        1.,  1.,  1.,  1.,  1.,  1.,  1.,  1.,  1.,  1.,  1.,  1.,  1.,\n",
       "        1.,  1.,  1.,  1.,  1.,  1.,  1.,  1.,  1.,  1.,  1.,  1.,  1.,\n",
       "        1.,  1.,  1.,  1.,  1.,  1.,  1.,  1.,  1.,  1.,  1.,  1.,  1.,\n",
       "        1.,  1.,  1.,  1.,  1.,  1.,  1.,  1.,  1.,  1.,  1.,  1.,  1.,\n",
       "        1.,  1.,  1.,  1.,  1.,  1.,  1.,  1.,  1.,  1.,  1.,  1.,  1.,\n",
       "        1.,  1.,  1.,  1.,  1.,  1.,  1.,  1.,  1.,  1.,  1.,  1.,  1.,\n",
       "        1.,  1.,  1.,  1.,  1.,  1.,  1.,  1.,  1.,  1.,  1.,  1.,  1.,\n",
       "        1.,  1.,  1.,  1.,  1.,  1.,  1.,  1.,  1.,  1.,  1.,  1.,  1.,\n",
       "        1.,  1.,  1.,  1.,  1.,  1.,  1.,  1.,  1.,  1.,  1.,  1.,  1.,\n",
       "        1.,  1.,  1.,  1.,  1.,  1.,  1.,  1.,  1.,  1.,  1.,  1.,  1.,\n",
       "        1.,  1.,  1.,  1.,  1.,  1.,  1.,  1.,  1.,  1.,  1.,  1.])"
      ]
     },
     "execution_count": 35,
     "metadata": {},
     "output_type": "execute_result"
    }
   ],
   "source": [
    "normalized_X = preprocessing.normalize(X[:, :3]) # 每个样本由一个模为1的三维向量表示\n",
    "normalized_X  #查看转化后的数据\n",
    "np.power(normalized_X,2).sum(axis = 1)  # 利用power求模"
   ]
  },
  {
   "cell_type": "markdown",
   "metadata": {},
   "source": [
    "- 类方法  \n",
    "preprocessing.Normalizer类"
   ]
  },
  {
   "cell_type": "code",
   "execution_count": 36,
   "metadata": {
    "collapsed": false
   },
   "outputs": [
    {
     "data": {
      "text/plain": [
       "array([ 1.,  1.,  1.,  1.,  1.,  1.,  1.,  1.,  1.,  1.,  1.,  1.,  1.,\n",
       "        1.,  1.,  1.,  1.,  1.,  1.,  1.,  1.,  1.,  1.,  1.,  1.,  1.,\n",
       "        1.,  1.,  1.,  1.,  1.,  1.,  1.,  1.,  1.,  1.,  1.,  1.,  1.,\n",
       "        1.,  1.,  1.,  1.,  1.,  1.,  1.,  1.,  1.,  1.,  1.,  1.,  1.,\n",
       "        1.,  1.,  1.,  1.,  1.,  1.,  1.,  1.,  1.,  1.,  1.,  1.,  1.,\n",
       "        1.,  1.,  1.,  1.,  1.,  1.,  1.,  1.,  1.,  1.,  1.,  1.,  1.,\n",
       "        1.,  1.,  1.,  1.,  1.,  1.,  1.,  1.,  1.,  1.,  1.,  1.,  1.,\n",
       "        1.,  1.,  1.,  1.,  1.,  1.,  1.,  1.,  1.,  1.,  1.,  1.,  1.,\n",
       "        1.,  1.,  1.,  1.,  1.,  1.,  1.,  1.,  1.,  1.,  1.,  1.,  1.,\n",
       "        1.,  1.,  1.,  1.,  1.,  1.,  1.,  1.,  1.,  1.,  1.,  1.,  1.,\n",
       "        1.,  1.,  1.,  1.,  1.,  1.,  1.,  1.,  1.,  1.,  1.,  1.,  1.,\n",
       "        1.,  1.,  1.,  1.,  1.,  1.,  1.,  1.,  1.,  1.,  1.,  1.,  1.,\n",
       "        1.,  1.,  1.,  1.,  1.,  1.,  1.,  1.,  1.,  1.,  1.,  1.,  1.,\n",
       "        1.,  1.,  1.,  1.,  1.,  1.,  1.,  1.,  1.,  1.,  1.,  1.,  1.,\n",
       "        1.,  1.,  1.,  1.,  1.,  1.,  1.,  1.,  1.,  1.,  1.,  1.,  1.,\n",
       "        1.,  1.,  1.,  1.,  1.,  1.,  1.,  1.,  1.,  1.,  1.,  1.,  1.,\n",
       "        1.,  1.,  1.,  1.,  1.,  1.,  1.,  1.,  1.,  1.,  1.,  1.,  1.,\n",
       "        1.,  1.,  1.,  1.,  1.,  1.,  1.,  1.,  1.,  1.,  1.,  1.,  1.,\n",
       "        1.,  1.,  1.,  1.,  1.,  1.,  1.,  1.,  1.,  1.,  1.,  1.,  1.,\n",
       "        1.,  1.,  1.,  1.,  1.,  1.,  1.,  1.,  1.,  1.,  1.,  1.,  1.,\n",
       "        1.,  1.,  1.,  1.,  1.,  1.,  1.,  1.,  1.,  1.,  1.,  1.,  1.,\n",
       "        1.,  1.,  1.,  1.,  1.,  1.,  1.,  1.,  1.,  1.,  1.,  1.,  1.,\n",
       "        1.,  1.,  1.,  1.,  1.,  1.,  1.,  1.,  1.,  1.,  1.,  1.,  1.,\n",
       "        1.,  1.,  1.,  1.,  1.,  1.,  1.,  1.,  1.,  1.,  1.,  1.,  1.,\n",
       "        1.,  1.,  1.,  1.,  1.,  1.,  1.,  1.,  1.,  1.,  1.,  1.,  1.,\n",
       "        1.,  1.,  1.,  1.,  1.,  1.,  1.,  1.,  1.,  1.,  1.,  1.,  1.,\n",
       "        1.,  1.,  1.,  1.,  1.,  1.,  1.,  1.,  1.,  1.,  1.,  1.,  1.,\n",
       "        1.,  1.,  1.,  1.,  1.,  1.,  1.,  1.,  1.,  1.,  1.,  1.,  1.,\n",
       "        1.,  1.,  1.,  1.,  1.,  1.,  1.,  1.,  1.,  1.,  1.,  1.,  1.,\n",
       "        1.,  1.,  1.,  1.,  1.,  1.,  1.,  1.,  1.,  1.,  1.,  1.,  1.,\n",
       "        1.,  1.,  1.,  1.,  1.,  1.,  1.,  1.,  1.,  1.,  1.,  1.,  1.,\n",
       "        1.,  1.,  1.,  1.,  1.,  1.,  1.,  1.,  1.,  1.,  1.,  1.,  1.,\n",
       "        1.,  1.,  1.,  1.,  1.,  1.,  1.,  1.,  1.,  1.,  1.,  1.,  1.,\n",
       "        1.,  1.,  1.,  1.,  1.,  1.,  1.,  1.,  1.,  1.,  1.,  1.,  1.,\n",
       "        1.,  1.,  1.,  1.,  1.,  1.,  1.,  1.,  1.,  1.,  1.,  1.,  1.,\n",
       "        1.,  1.,  1.,  1.,  1.,  1.,  1.,  1.,  1.,  1.,  1.,  1.,  1.,\n",
       "        1.,  1.,  1.,  1.,  1.,  1.,  1.,  1.,  1.,  1.,  1.,  1.,  1.,\n",
       "        1.,  1.,  1.,  1.,  1.,  1.,  1.,  1.,  1.,  1.,  1.,  1.,  1.,\n",
       "        1.,  1.,  1.,  1.,  1.,  1.,  1.,  1.,  1.,  1.,  1.,  1.])"
      ]
     },
     "execution_count": 36,
     "metadata": {},
     "output_type": "execute_result"
    }
   ],
   "source": [
    "my_normalized_scaler = preprocessing.Normalizer()\n",
    "my_normalized_scaler.fit(X[:, :3])\n",
    "my_normalized_scaler.transform(X[:, :3])  # 查看转化后的数据\n",
    "np.power(my_normalized_scaler.transform(X[:, :3]) ,2).sum(axis = 1)   #求模"
   ]
  },
  {
   "cell_type": "markdown",
   "metadata": {},
   "source": [
    "#### 稀疏数据的标准化\n",
    "稀疏矩阵中有大量的0元素，将稀疏矩阵转化为标准正态分布、转化到一定区间等操作，会使0元素不再为0，破坏数据的结构。因而无法对稀疏矩阵进行涉及到中心化、整体移动等让元素0不再为0的操作。"
   ]
  },
  {
   "cell_type": "code",
   "execution_count": 37,
   "metadata": {
    "collapsed": true
   },
   "outputs": [],
   "source": [
    "matrix = scipy.sparse.eye(1000)  # 生成稀疏矩阵"
   ]
  },
  {
   "cell_type": "markdown",
   "metadata": {},
   "source": [
    "- 特征z分数标准化"
   ]
  },
  {
   "cell_type": "raw",
   "metadata": {},
   "source": [
    "preprocessing.scale(matrix)   # 无法转化为标准状态分布，会报错"
   ]
  },
  {
   "cell_type": "raw",
   "metadata": {},
   "source": [
    "联想~~~~~\n",
    "\n",
    "类的参数有2个，分别对均值和方差进行标准化，可以修改类的参数\n",
    "my_useless_scaler = preprocessing.StandardScaler(with_mean=False, with_std=False) # 如果不对数据进行减均值，除方差，则相当于没有变换\n",
    "transformed_sd = my_useless_scaler .fit_transform(X[:, :3]).std(axis=0)\n",
    "original_sd = X[:, :3].std(axis=0)\n",
    "np.array_equal(transformed_sd, original_sd)  # 与原数据结果一样，没有产生任何变化"
   ]
  },
  {
   "cell_type": "code",
   "execution_count": 38,
   "metadata": {
    "collapsed": false
   },
   "outputs": [
    {
     "data": {
      "text/plain": [
       "<1000x1000 sparse matrix of type '<type 'numpy.float64'>'\n",
       "\twith 1000 stored elements in Compressed Sparse Column format>"
      ]
     },
     "execution_count": 38,
     "metadata": {},
     "output_type": "execute_result"
    }
   ],
   "source": [
    "preprocessing.scale(matrix, with_mean=False)  # 无法对稀疏矩阵中心化，因而只将数据的标准差转化为1"
   ]
  },
  {
   "cell_type": "markdown",
   "metadata": {},
   "source": [
    "- 将特征放缩到一定区间之内"
   ]
  },
  {
   "cell_type": "raw",
   "metadata": {},
   "source": [
    "my_odd_scaler = preprocessing.MinMaxScaler(feature_range=(-3.14, 3.14)) # 无法转化到一定区间内，会报错\n",
    "my_odd_scaler.fit(matrix)\n",
    "my_odd_scaler.transform(matrix).max(axis=0)"
   ]
  },
  {
   "cell_type": "code",
   "execution_count": 39,
   "metadata": {
    "collapsed": false
   },
   "outputs": [
    {
     "data": {
      "text/plain": [
       "<1x1000 sparse matrix of type '<type 'numpy.float64'>'\n",
       "\twith 1000 stored elements in COOrdinate format>"
      ]
     },
     "execution_count": 39,
     "metadata": {},
     "output_type": "execute_result"
    }
   ],
   "source": [
    "my_odd_scaler = preprocessing.MaxAbsScaler() # 将数据转化到[-1,1]区间内，不会整体移动数据，0元素依然为0\n",
    "my_odd_scaler.fit(matrix)\n",
    "my_odd_scaler.transform(matrix).max(axis=0)"
   ]
  },
  {
   "cell_type": "markdown",
   "metadata": {},
   "source": [
    "- 将样本的模转化为1"
   ]
  },
  {
   "cell_type": "code",
   "execution_count": 40,
   "metadata": {
    "collapsed": true
   },
   "outputs": [],
   "source": [
    "normalized_matrix = preprocessing.normalize(matrix) # 将样本转化为模为1的向量，仍然可以操作，因为元素0依然为0"
   ]
  },
  {
   "cell_type": "markdown",
   "metadata": {},
   "source": [
    "## 将连续变量转化为二值变量\n",
    "- 函数方法\n",
    "- 类方法1\n",
    "- 类方法2\n",
    "- 稀疏数据的处理办法"
   ]
  },
  {
   "cell_type": "code",
   "execution_count": 41,
   "metadata": {
    "collapsed": true
   },
   "outputs": [],
   "source": [
    "from sklearn import preprocessing\n",
    "from sklearn import datasets\n",
    "boston = datasets.load_boston()"
   ]
  },
  {
   "cell_type": "markdown",
   "metadata": {},
   "source": [
    "####  函数方法\n",
    "-  preprocessing.binarize（data，threshold）函数"
   ]
  },
  {
   "cell_type": "code",
   "execution_count": 42,
   "metadata": {
    "collapsed": false
   },
   "outputs": [
    {
     "data": {
      "text/plain": [
       "array([[ 1.],\n",
       "       [ 0.],\n",
       "       [ 1.],\n",
       "       [ 1.],\n",
       "       [ 1.]])"
      ]
     },
     "execution_count": 42,
     "metadata": {},
     "output_type": "execute_result"
    }
   ],
   "source": [
    "new_target = preprocessing.binarize(boston.target.reshape(-1, 1),threshold=boston.target.mean())  # reshape转化为1列，若干行\n",
    "new_target[:5]"
   ]
  },
  {
   "cell_type": "code",
   "execution_count": 43,
   "metadata": {
    "collapsed": false
   },
   "outputs": [
    {
     "data": {
      "text/plain": [
       "array([1, 0, 1, 1, 1])"
      ]
     },
     "execution_count": 43,
     "metadata": {},
     "output_type": "execute_result"
    }
   ],
   "source": [
    "(boston.target[:5] > boston.target.mean()).astype(int)   # 做检查"
   ]
  },
  {
   "cell_type": "markdown",
   "metadata": {},
   "source": [
    "#### 类方法\n",
    "- preprocessing.Binarizer类"
   ]
  },
  {
   "cell_type": "code",
   "execution_count": 44,
   "metadata": {
    "collapsed": false
   },
   "outputs": [
    {
     "data": {
      "text/plain": [
       "array([[ 1.],\n",
       "       [ 0.],\n",
       "       [ 1.],\n",
       "       [ 1.],\n",
       "       [ 1.]])"
      ]
     },
     "execution_count": 44,
     "metadata": {},
     "output_type": "execute_result"
    }
   ],
   "source": [
    "bin = preprocessing.Binarizer(boston.target.mean())  #  参数在生成类的时候传入\n",
    "new_target = bin.fit_transform(boston.target.reshape(-1, 1))\n",
    "new_target[:5]"
   ]
  },
  {
   "cell_type": "code",
   "execution_count": 45,
   "metadata": {
    "collapsed": false
   },
   "outputs": [
    {
     "data": {
      "text/plain": [
       "array([[ 1.],\n",
       "       [ 0.],\n",
       "       [ 1.],\n",
       "       [ 1.],\n",
       "       [ 1.]])"
      ]
     },
     "execution_count": 45,
     "metadata": {},
     "output_type": "execute_result"
    }
   ],
   "source": [
    "# 类方法的另一种表示\n",
    "bin = preprocessing.Binarizer(boston.target.mean()) # 不同于其他变化方法，这里参数是在生成实例的时候传入，而不是在fit方法中传入\n",
    "new_target = bin.fit(boston.target.reshape(-1, 1)) # fit方法没有任何作用，仅仅返回实例本身；fit存在的意义是与其他方法保存一致，方便在pipelines中使用\n",
    "new_target = bin.transform(boston.target.reshape(-1, 1))\n",
    "new_target[:5]"
   ]
  },
  {
   "cell_type": "markdown",
   "metadata": {},
   "source": [
    "#### 稀疏数据的处理\n",
    "为了节省内存，稀疏矩阵中的0元素没有被存储。所以，在将稀疏矩阵转化为二值类别变量时，阈值不能小于0"
   ]
  },
  {
   "cell_type": "code",
   "execution_count": 46,
   "metadata": {
    "collapsed": true
   },
   "outputs": [],
   "source": [
    "from scipy.sparse import coo\n",
    "spar = coo.coo_matrix(np.random.binomial(1, .25, 100))"
   ]
  },
  {
   "cell_type": "raw",
   "metadata": {},
   "source": [
    "preprocessing.binarize(spar, threshold=-1)  # 阈值不可以小于0，会报错"
   ]
  },
  {
   "cell_type": "raw",
   "metadata": {},
   "source": [
    "---------------------------------------------------------------------------\n",
    "ValueError                                Traceback (most recent call last)\n",
    "<ipython-input-16-f30036dec152> in <module>()\n",
    "----> 1 preprocessing.binarize(spar, threshold=-1)  # 阈值不可以小于0，会报错\n",
    "\n",
    "C:\\Anaconda2\\lib\\site-packages\\sklearn\\preprocessing\\data.pyc in binarize(X, threshold, copy)\n",
    "   1405     if sparse.issparse(X):\n",
    "   1406         if threshold < 0:\n",
    "-> 1407             raise ValueError('Cannot binarize a sparse matrix with threshold '\n",
    "   1408                              '< 0')\n",
    "   1409         cond = X.data > threshold\n",
    "\n",
    "ValueError: Cannot binarize a sparse matrix with threshold < 0"
   ]
  },
  {
   "cell_type": "markdown",
   "metadata": {},
   "source": [
    "## 对类别变量进行one-hot编码\n",
    "- OneHotEncoder类  \n",
    "-- onehot编码只适用于数字格式的分类变量，不识别标签   \n",
    "-- onehot编码只对矩阵实现转换，即多个变量同时转换"
   ]
  },
  {
   "cell_type": "code",
   "execution_count": 47,
   "metadata": {
    "collapsed": true
   },
   "outputs": [],
   "source": [
    "from sklearn import datasets\n",
    "from sklearn import preprocessing\n",
    "iris = datasets.load_iris()\n",
    "X,y = iris.data,iris.target\n",
    "d = np.column_stack((X, y))"
   ]
  },
  {
   "cell_type": "code",
   "execution_count": 48,
   "metadata": {
    "collapsed": false
   },
   "outputs": [
    {
     "data": {
      "text/plain": [
       "array([[ 1.,  0.,  0.],\n",
       "       [ 1.,  0.,  0.],\n",
       "       [ 1.,  0.,  0.],\n",
       "       [ 1.,  0.,  0.],\n",
       "       [ 1.,  0.,  0.]])"
      ]
     },
     "execution_count": 48,
     "metadata": {},
     "output_type": "execute_result"
    }
   ],
   "source": [
    "text_encoder = preprocessing.OneHotEncoder()\n",
    "text_encoder.fit_transform(d[:, -1:]).toarray()[:5]   # toarray 部分实现独热功能"
   ]
  },
  {
   "cell_type": "code",
   "execution_count": 49,
   "metadata": {
    "collapsed": false
   },
   "outputs": [
    {
     "data": {
      "text/plain": [
       "array([[ 0.,  1.,  0.],\n",
       "       [ 0.,  1.,  0.],\n",
       "       [ 0.,  1.,  0.]])"
      ]
     },
     "execution_count": 49,
     "metadata": {},
     "output_type": "execute_result"
    }
   ],
   "source": [
    "# text_encoder实例的transform方法可以重复使用，且转化规则由初次fit时决定\n",
    "text_encoder.transform(np.ones((3, 1))).toarray()"
   ]
  },
  {
   "cell_type": "markdown",
   "metadata": {},
   "source": [
    "-  LabelBinarizer类  \n",
    "-- 该方法可以识别字符等各种标签，不仅仅是数字  \n",
    "-- 该方法只能转换一列变量，即一次转换一个，不能批量处理"
   ]
  },
  {
   "cell_type": "code",
   "execution_count": 50,
   "metadata": {
    "collapsed": true
   },
   "outputs": [],
   "source": [
    "from sklearn import datasets\n",
    "from sklearn.preprocessing import LabelBinarizer\n",
    "iris = datasets.load_iris()\n",
    "y = iris.target"
   ]
  },
  {
   "cell_type": "code",
   "execution_count": 51,
   "metadata": {
    "collapsed": false
   },
   "outputs": [
    {
     "data": {
      "text/plain": [
       "array([[1],\n",
       "       [0],\n",
       "       [0],\n",
       "       [1]])"
      ]
     },
     "execution_count": 51,
     "metadata": {},
     "output_type": "execute_result"
    }
   ],
   "source": [
    "lb = LabelBinarizer()\n",
    "lb.fit_transform(['yes', 'no', 'no', 'yes']) # 因变量为两类别时，转化为0、1向量"
   ]
  },
  {
   "cell_type": "code",
   "execution_count": 52,
   "metadata": {
    "collapsed": false
   },
   "outputs": [
    {
     "data": {
      "text/plain": [
       "array(['no', 'yes'], \n",
       "      dtype='|S3')"
      ]
     },
     "execution_count": 52,
     "metadata": {},
     "output_type": "execute_result"
    }
   ],
   "source": [
    "lb.classes_    # 查看转换之前的类的编码"
   ]
  },
  {
   "cell_type": "code",
   "execution_count": 53,
   "metadata": {
    "collapsed": false
   },
   "outputs": [
    {
     "data": {
      "text/plain": [
       "array([[1, 0, 0],\n",
       "       [1, 0, 0],\n",
       "       [1, 0, 0],\n",
       "       [1, 0, 0],\n",
       "       [1, 0, 0]])"
      ]
     },
     "execution_count": 53,
     "metadata": {},
     "output_type": "execute_result"
    }
   ],
   "source": [
    "label_binarizer = LabelBinarizer()\n",
    "new_target = label_binarizer.fit_transform(y)   # 因变量为多类别时，转化为多维向量\n",
    "new_target[:5]"
   ]
  },
  {
   "cell_type": "code",
   "execution_count": 54,
   "metadata": {
    "collapsed": false
   },
   "outputs": [
    {
     "data": {
      "text/plain": [
       "array([[ 1000, -1000, -1000],\n",
       "       [ 1000, -1000, -1000],\n",
       "       [ 1000, -1000, -1000],\n",
       "       [ 1000, -1000, -1000],\n",
       "       [ 1000, -1000, -1000]])"
      ]
     },
     "execution_count": 54,
     "metadata": {},
     "output_type": "execute_result"
    }
   ],
   "source": [
    "label_binarizer = LabelBinarizer(neg_label=-1000, pos_label=1000) # 默认用0、1编码，可以设置用其他数值编码\n",
    "label_binarizer.fit_transform(y)[:5]"
   ]
  },
  {
   "cell_type": "code",
   "execution_count": 55,
   "metadata": {
    "collapsed": false
   },
   "outputs": [
    {
     "data": {
      "text/plain": [
       "array([0, 1, 2])"
      ]
     },
     "execution_count": 55,
     "metadata": {},
     "output_type": "execute_result"
    }
   ],
   "source": [
    "label_binarizer.classes_   # 查看转换之前的类的编码"
   ]
  },
  {
   "cell_type": "markdown",
   "metadata": {},
   "source": [
    "## 缺失值填充\n",
    "- Imputer类\n",
    "- pandas的fillna方法填充"
   ]
  },
  {
   "cell_type": "code",
   "execution_count": 56,
   "metadata": {
    "collapsed": true
   },
   "outputs": [],
   "source": [
    "from sklearn import preprocessing"
   ]
  },
  {
   "cell_type": "code",
   "execution_count": 57,
   "metadata": {
    "collapsed": false
   },
   "outputs": [
    {
     "data": {
      "text/plain": [
       "array([[ 5.1,  3.5,  1.4,  0.2],\n",
       "       [ 4.9,  3. ,  1.4,  0.2],\n",
       "       [ 4.7,  3.2,  nan,  0.2],\n",
       "       [ 4.6,  3.1,  1.5,  0.2],\n",
       "       [ nan,  3.6,  1.4,  0.2]])"
      ]
     },
     "execution_count": 57,
     "metadata": {},
     "output_type": "execute_result"
    }
   ],
   "source": [
    "# 生成缺失数据集\n",
    "from sklearn import datasets\n",
    "iris = datasets.load_iris()\n",
    "iris_X = iris.data\n",
    "masking_array = np.random.binomial(1, .25,iris_X.shape).astype(bool)   #产生一个与原数据等维度的2值矩阵，有25%的元素为true\n",
    "masking_array[:5]\n",
    "iris_X[masking_array] = np.nan  # 将true的位置设为缺失值\n",
    "iris_X [:5]"
   ]
  },
  {
   "cell_type": "markdown",
   "metadata": {},
   "source": [
    "- 类的方法填充（均值、中位数、众数）"
   ]
  },
  {
   "cell_type": "code",
   "execution_count": 58,
   "metadata": {
    "collapsed": false
   },
   "outputs": [
    {
     "data": {
      "text/plain": [
       "array([[ 5.1       ,  3.5       ,  1.4       ,  0.2       ],\n",
       "       [ 4.9       ,  3.        ,  1.4       ,  0.2       ],\n",
       "       [ 4.7       ,  3.2       ,  3.69339623,  0.2       ],\n",
       "       [ 4.6       ,  3.1       ,  1.5       ,  0.2       ],\n",
       "       [ 5.89459459,  3.6       ,  1.4       ,  0.2       ]])"
      ]
     },
     "execution_count": 58,
     "metadata": {},
     "output_type": "execute_result"
    }
   ],
   "source": [
    "impute = preprocessing.Imputer()   # 默认用均值填充缺失值nan\n",
    "iris_X_prime = impute.fit_transform(iris_X)\n",
    "iris_X_prime[:5]"
   ]
  },
  {
   "cell_type": "code",
   "execution_count": 59,
   "metadata": {
    "collapsed": false
   },
   "outputs": [
    {
     "data": {
      "text/plain": [
       "array([[ 5.1,  3.5,  1.4,  0.2],\n",
       "       [ 4.9,  3. ,  1.4,  0.2],\n",
       "       [ 4.7,  3.2,  4.2,  0.2],\n",
       "       [ 4.6,  3.1,  1.5,  0.2],\n",
       "       [ 5.8,  3.6,  1.4,  0.2]])"
      ]
     },
     "execution_count": 59,
     "metadata": {},
     "output_type": "execute_result"
    }
   ],
   "source": [
    "impute = preprocessing.Imputer(strategy='median')  # 中位数\n",
    "iris_X_prime = impute.fit_transform(iris_X)\n",
    "iris_X_prime[:5]"
   ]
  },
  {
   "cell_type": "code",
   "execution_count": 60,
   "metadata": {
    "collapsed": false
   },
   "outputs": [
    {
     "data": {
      "text/plain": [
       "array([[ 5.1,  3.5,  1.4,  0.2],\n",
       "       [ 4.9,  3. ,  1.4,  0.2],\n",
       "       [ 4.7,  3.2,  1.5,  0.2],\n",
       "       [ 4.6,  3.1,  1.5,  0.2],\n",
       "       [ 5. ,  3.6,  1.4,  0.2]])"
      ]
     },
     "execution_count": 60,
     "metadata": {},
     "output_type": "execute_result"
    }
   ],
   "source": [
    "impute = preprocessing.Imputer(strategy='most_frequent')   # 众数\n",
    "iris_X_prime = impute.fit_transform(iris_X)\n",
    "iris_X_prime[:5]"
   ]
  },
  {
   "cell_type": "code",
   "execution_count": 61,
   "metadata": {
    "collapsed": false
   },
   "outputs": [
    {
     "data": {
      "text/plain": [
       "array([[ 5.1,  3.5,  1.4,  0.2],\n",
       "       [ 4.9,  3. ,  1.4,  0.2],\n",
       "       [ 4.7,  3.2, -1. ,  0.2],\n",
       "       [ 4.6,  3.1,  1.5,  0.2],\n",
       "       [-1. ,  3.6,  1.4,  0.2]])"
      ]
     },
     "execution_count": 61,
     "metadata": {},
     "output_type": "execute_result"
    }
   ],
   "source": [
    "#缺失值用-1表示时，处理办法\n",
    "iris_X[np.isnan(iris_X)] = -1\n",
    "iris_X[:5]"
   ]
  },
  {
   "cell_type": "code",
   "execution_count": 62,
   "metadata": {
    "collapsed": false
   },
   "outputs": [
    {
     "data": {
      "text/plain": [
       "array([[ 5.1,  3.5,  1.4,  0.2],\n",
       "       [ 4.9,  3. ,  1.4,  0.2],\n",
       "       [ 4.7,  3.2,  1.5,  0.2],\n",
       "       [ 4.6,  3.1,  1.5,  0.2],\n",
       "       [ 5. ,  3.6,  1.4,  0.2]])"
      ]
     },
     "execution_count": 62,
     "metadata": {},
     "output_type": "execute_result"
    }
   ],
   "source": [
    "impute = preprocessing.Imputer(missing_values=-1,strategy='most_frequent')  # 指定-1为缺失值\n",
    "iris_X_prime = impute.fit_transform(iris_X)\n",
    "iris_X_prime[:5]"
   ]
  },
  {
   "cell_type": "markdown",
   "metadata": {},
   "source": [
    "- pandas的fillna方法填充（更详细的笔记见pandas笔记）"
   ]
  },
  {
   "cell_type": "code",
   "execution_count": 63,
   "metadata": {
    "collapsed": false
   },
   "outputs": [
    {
     "data": {
      "text/html": [
       "<div>\n",
       "<table border=\"1\" class=\"dataframe\">\n",
       "  <thead>\n",
       "    <tr style=\"text-align: right;\">\n",
       "      <th></th>\n",
       "      <th>sepal length (cm)</th>\n",
       "      <th>sepal width (cm)</th>\n",
       "      <th>petal length (cm)</th>\n",
       "      <th>petal width (cm)</th>\n",
       "    </tr>\n",
       "  </thead>\n",
       "  <tbody>\n",
       "    <tr>\n",
       "      <th>0</th>\n",
       "      <td>5.100000</td>\n",
       "      <td>3.5</td>\n",
       "      <td>1.400000</td>\n",
       "      <td>0.2</td>\n",
       "    </tr>\n",
       "    <tr>\n",
       "      <th>1</th>\n",
       "      <td>4.900000</td>\n",
       "      <td>3.0</td>\n",
       "      <td>1.400000</td>\n",
       "      <td>0.2</td>\n",
       "    </tr>\n",
       "    <tr>\n",
       "      <th>2</th>\n",
       "      <td>4.700000</td>\n",
       "      <td>3.2</td>\n",
       "      <td>3.693396</td>\n",
       "      <td>0.2</td>\n",
       "    </tr>\n",
       "    <tr>\n",
       "      <th>3</th>\n",
       "      <td>4.600000</td>\n",
       "      <td>3.1</td>\n",
       "      <td>1.500000</td>\n",
       "      <td>0.2</td>\n",
       "    </tr>\n",
       "    <tr>\n",
       "      <th>4</th>\n",
       "      <td>5.894595</td>\n",
       "      <td>3.6</td>\n",
       "      <td>1.400000</td>\n",
       "      <td>0.2</td>\n",
       "    </tr>\n",
       "  </tbody>\n",
       "</table>\n",
       "</div>"
      ],
      "text/plain": [
       "   sepal length (cm)  sepal width (cm)  petal length (cm)  petal width (cm)\n",
       "0           5.100000               3.5           1.400000               0.2\n",
       "1           4.900000               3.0           1.400000               0.2\n",
       "2           4.700000               3.2           3.693396               0.2\n",
       "3           4.600000               3.1           1.500000               0.2\n",
       "4           5.894595               3.6           1.400000               0.2"
      ]
     },
     "execution_count": 63,
     "metadata": {},
     "output_type": "execute_result"
    }
   ],
   "source": [
    "import pandas as pd\n",
    "iris_X[masking_array] = np.nan\n",
    "iris_df = pd.DataFrame(iris_X, columns=iris.feature_names)  # bunch格式转换为dataframe格式\n",
    "iris_df.fillna(iris_df.mean()).head(5)   # 均值填充"
   ]
  },
  {
   "cell_type": "code",
   "execution_count": 64,
   "metadata": {
    "collapsed": false
   },
   "outputs": [
    {
     "data": {
      "text/plain": [
       "0    5.1\n",
       "1    4.9\n",
       "2    4.7\n",
       "3    4.6\n",
       "4    7.9\n",
       "Name: sepal length (cm), dtype: float64"
      ]
     },
     "execution_count": 64,
     "metadata": {},
     "output_type": "execute_result"
    }
   ],
   "source": [
    "iris_df.fillna(iris_df.max())['sepal length (cm)'].head(5)   # 最大值填充（仅输出其中1列）"
   ]
  },
  {
   "cell_type": "code",
   "execution_count": null,
   "metadata": {
    "collapsed": true
   },
   "outputs": [],
   "source": []
  },
  {
   "cell_type": "markdown",
   "metadata": {},
   "source": [
    "## 利用Pipeline进行多步骤的数据处理\n",
    "- 填充缺失值\n",
    "- 标准化变换"
   ]
  },
  {
   "cell_type": "code",
   "execution_count": 65,
   "metadata": {
    "collapsed": false
   },
   "outputs": [
    {
     "data": {
      "text/plain": [
       "array([[        nan, -0.09918821,  0.34109282,         nan],\n",
       "       [-0.09918821,  0.55167165,  0.13858116,         nan],\n",
       "       [ 0.34109282,  0.13858116,  0.61030978, -0.26121751],\n",
       "       [-0.68372928, -0.16104628, -0.26121751,         nan]])"
      ]
     },
     "execution_count": 65,
     "metadata": {},
     "output_type": "execute_result"
    }
   ],
   "source": [
    "#生成含缺失值的数据集\n",
    "from sklearn import datasets\n",
    "mat = datasets.make_spd_matrix(10)  #载入原有的模拟数据\n",
    "masking_array = np.random.binomial(1, .1, mat.shape).astype(bool)\n",
    "mat[masking_array] = np.nan\n",
    "mat[:4, :4]"
   ]
  },
  {
   "cell_type": "markdown",
   "metadata": {
    "collapsed": true
   },
   "source": [
    "不用pipeline的方法"
   ]
  },
  {
   "cell_type": "code",
   "execution_count": 66,
   "metadata": {
    "collapsed": true
   },
   "outputs": [],
   "source": [
    "from sklearn import preprocessing\n",
    "\n",
    "impute = preprocessing.Imputer()\n",
    "scaler = preprocessing.StandardScaler()\n",
    "\n",
    "mat_imputed = impute.fit_transform(mat)\n",
    "mat_imputed[:4, :4]\n",
    "\n",
    "mat_imp_and_scaled = scaler.fit_transform(mat_imputed)   \n",
    "\n",
    "#此处理方式最终的结果是缺失值部分被填为0，因为填充缺失值用均值，标准化又减了均值"
   ]
  },
  {
   "cell_type": "markdown",
   "metadata": {
    "collapsed": true
   },
   "source": [
    "使用pipeline的方法"
   ]
  },
  {
   "cell_type": "code",
   "execution_count": 67,
   "metadata": {
    "collapsed": false
   },
   "outputs": [
    {
     "data": {
      "text/plain": [
       "Pipeline(steps=[('impute', Imputer(axis=0, copy=True, missing_values='NaN', strategy='mean', verbose=0)), ('scaler', StandardScaler(copy=True, with_mean=True, with_std=True))])"
      ]
     },
     "execution_count": 67,
     "metadata": {},
     "output_type": "execute_result"
    }
   ],
   "source": [
    "from sklearn import pipeline\n",
    "pipe = pipeline.Pipeline([('impute', impute), ('scaler', scaler)])\n",
    "pipe    # 查看具体的处理流程"
   ]
  },
  {
   "cell_type": "code",
   "execution_count": 68,
   "metadata": {
    "collapsed": false
   },
   "outputs": [
    {
     "data": {
      "text/plain": [
       "array([[ 0.        , -0.70340059,  0.74231172,  0.        ],\n",
       "       [-0.22382483,  2.49914386,  0.17352991,  0.        ],\n",
       "       [ 0.15567885,  0.46653937,  1.49844453, -0.19130622],\n",
       "       [-0.72767457, -1.00777217, -0.94935956,  0.        ]])"
      ]
     },
     "execution_count": 68,
     "metadata": {},
     "output_type": "execute_result"
    }
   ],
   "source": [
    "new_mat = pipe.fit_transform(mat)\n",
    "new_mat [:4, :4]"
   ]
  },
  {
   "cell_type": "code",
   "execution_count": 69,
   "metadata": {
    "collapsed": false
   },
   "outputs": [
    {
     "data": {
      "text/plain": [
       "True"
      ]
     },
     "execution_count": 69,
     "metadata": {},
     "output_type": "execute_result"
    }
   ],
   "source": [
    "np.array_equal(new_mat, mat_imp_and_scaled)   # 验证是否与不用pipeline的结果一致"
   ]
  },
  {
   "cell_type": "markdown",
   "metadata": {},
   "source": [
    "#### Pipelines可能会报错的地方  \n",
    "- 如果Pipelines中有N个步骤，前N-1个步骤必须都有fit和transform方法，第N个步骤必须有fit方法\n",
    "- 如果Pipelines中某个步骤没有inverse_transform方法，则对Pipelines使用inverse_transform方法会报错"
   ]
  },
  {
   "cell_type": "raw",
   "metadata": {
    "collapsed": true
   },
   "source": [
    "pipe.inverse_transform(new_mat)  # input没有inverse_transform方法，scalar有该方法，则运行还是会报错"
   ]
  },
  {
   "cell_type": "raw",
   "metadata": {
    "collapsed": true
   },
   "source": [
    "---------------------------------------------------------------------------\n",
    "AttributeError                            Traceback (most recent call last)\n",
    "<ipython-input-67-62edd2667cae> in <module>()\n",
    "----> 1 pipe.inverse_transform(new_mat)\n",
    "\n",
    "C:\\Anaconda2\\lib\\site-packages\\sklearn\\utils\\metaestimators.py in <lambda>(*args, **kwargs)\n",
    "     35             self.get_attribute(obj)\n",
    "     36         # lambda, but not partial, allows help() to work with update_wrapper\n",
    "---> 37         out = lambda *args, **kwargs: self.fn(obj, *args, **kwargs)\n",
    "     38         # update the docstring of the returned function\n",
    "     39         update_wrapper(out, self.fn)\n",
    "\n",
    "C:\\Anaconda2\\lib\\site-packages\\sklearn\\pipeline.py in inverse_transform(self, X)\n",
    "    311         Xt = X\n",
    "    312         for name, step in self.steps[::-1]:\n",
    "--> 313             Xt = step.inverse_transform(Xt)\n",
    "    314         return Xt\n",
    "    315 \n",
    "\n",
    "AttributeError: 'Imputer' object has no attribute 'inverse_transform'"
   ]
  },
  {
   "cell_type": "code",
   "execution_count": 70,
   "metadata": {
    "collapsed": false
   },
   "outputs": [
    {
     "data": {
      "text/plain": [
       "array([[ 0.16048207, -0.09918821,  0.34109282, -0.17471681],\n",
       "       [-0.09918821,  0.55167165,  0.13858116, -0.17471681],\n",
       "       [ 0.34109282,  0.13858116,  0.61030978, -0.26121751],\n",
       "       [-0.68372928, -0.16104628, -0.26121751, -0.17471681]])"
      ]
     },
     "execution_count": 70,
     "metadata": {},
     "output_type": "execute_result"
    }
   ],
   "source": [
    "scaler.inverse_transform(new_mat) [:4, :4] # 单独的标准化步骤是有inverse_transform方法的"
   ]
  },
  {
   "cell_type": "markdown",
   "metadata": {},
   "source": [
    "#### 使用pipeline的好处\n",
    "- 代码更加整洁，不需要一遍又一遍的使用fit、transform方法\n",
    "- 易于交叉验证    \n",
    "多步骤的数据预处理过程，每个步骤都可能需要用交叉验证进行参数调优，使用Pipelines对数据预处理过程进行参数调优，代码量会小得多"
   ]
  },
  {
   "cell_type": "markdown",
   "metadata": {},
   "source": [
    "## PCA降维  \n",
    "pca类"
   ]
  },
  {
   "cell_type": "code",
   "execution_count": 71,
   "metadata": {
    "collapsed": true
   },
   "outputs": [],
   "source": [
    "from sklearn import decomposition"
   ]
  },
  {
   "cell_type": "code",
   "execution_count": 72,
   "metadata": {
    "collapsed": true
   },
   "outputs": [],
   "source": [
    "# 准备数据\n",
    "from sklearn import datasets\n",
    "iris = datasets.load_iris()\n",
    "iris_X = iris.data"
   ]
  },
  {
   "cell_type": "markdown",
   "metadata": {},
   "source": [
    "#### 默认不降维，仅变换坐标"
   ]
  },
  {
   "cell_type": "code",
   "execution_count": 73,
   "metadata": {
    "collapsed": false
   },
   "outputs": [
    {
     "data": {
      "text/plain": [
       "PCA(copy=True, iterated_power='auto', n_components=None, random_state=None,\n",
       "  svd_solver='auto', tol=0.0, whiten=False)"
      ]
     },
     "execution_count": 73,
     "metadata": {},
     "output_type": "execute_result"
    }
   ],
   "source": [
    "pca = decomposition.PCA()\n",
    "pca   # 查看PCA方法的默认设置 ，该方法可以用在很多时候"
   ]
  },
  {
   "cell_type": "code",
   "execution_count": 74,
   "metadata": {
    "collapsed": false
   },
   "outputs": [
    {
     "data": {
      "text/plain": [
       "array([[ -2.68420713e+00,   3.26607315e-01,  -2.15118370e-02,\n",
       "          1.00615724e-03],\n",
       "       [ -2.71539062e+00,  -1.69556848e-01,  -2.03521425e-01,\n",
       "          9.96024240e-02],\n",
       "       [ -2.88981954e+00,  -1.37345610e-01,   2.47092410e-02,\n",
       "          1.93045428e-02],\n",
       "       [ -2.74643720e+00,  -3.11124316e-01,   3.76719753e-02,\n",
       "         -7.59552741e-02],\n",
       "       [ -2.72859298e+00,   3.33924564e-01,   9.62296998e-02,\n",
       "         -6.31287327e-02]])"
      ]
     },
     "execution_count": 74,
     "metadata": {},
     "output_type": "execute_result"
    }
   ],
   "source": [
    "iris_pca = pca.fit_transform(iris_X)   # 默认不降维，生成的主成分个数与原数据解释变量个数相同\n",
    "iris_pca[:5]"
   ]
  },
  {
   "cell_type": "code",
   "execution_count": 75,
   "metadata": {
    "collapsed": false
   },
   "outputs": [
    {
     "data": {
      "text/plain": [
       "array([ 0.92461621,  0.05301557,  0.01718514,  0.00518309])"
      ]
     },
     "execution_count": 75,
     "metadata": {},
     "output_type": "execute_result"
    }
   ],
   "source": [
    "pca.explained_variance_ratio_   # 输出每一个主成分解释的偏差的比例"
   ]
  },
  {
   "cell_type": "markdown",
   "metadata": {},
   "source": [
    "#### 指定主成分个数"
   ]
  },
  {
   "cell_type": "code",
   "execution_count": 76,
   "metadata": {
    "collapsed": false
   },
   "outputs": [
    {
     "data": {
      "text/plain": [
       "(150L, 2L)"
      ]
     },
     "execution_count": 76,
     "metadata": {},
     "output_type": "execute_result"
    }
   ],
   "source": [
    "pca = decomposition.PCA(n_components=2)  # 修改默认设置，要求输出2个主成分\n",
    "iris_X_prime = pca.fit_transform(iris_X)\n",
    "iris_X_prime.shape  # 真的是两列数据了 "
   ]
  },
  {
   "cell_type": "code",
   "execution_count": 77,
   "metadata": {
    "collapsed": false
   },
   "outputs": [
    {
     "data": {
      "text/plain": [
       "0.97763177502480336"
      ]
     },
     "execution_count": 77,
     "metadata": {},
     "output_type": "execute_result"
    }
   ],
   "source": [
    "pca.explained_variance_ratio_.sum()  # 两个主成分所解释的主成分之和"
   ]
  },
  {
   "cell_type": "code",
   "execution_count": 78,
   "metadata": {
    "collapsed": false
   },
   "outputs": [
    {
     "data": {
      "image/png": "[encoded data removed]",
      "text/plain": [
       "<matplotlib.figure.Figure at 0x9f8eb70>"
      ]
     },
     "metadata": {},
     "output_type": "display_data"
    }
   ],
   "source": [
    "# 提取2主成分的图形【也只有降为2个主成分，才可以画出来啊】\n",
    "iris_y = iris.target\n",
    "cluster1 = iris_X_prime[iris_y ==0]\n",
    "cluster2 = iris_X_prime[iris_y ==1]\n",
    "cluster3 = iris_X_prime[iris_y ==2]\n",
    "for i in range(0,cluster1.shape[0]):\n",
    "    plt.scatter(cluster1[i][0], cluster1[i][1], color='blue')\n",
    "for i in range(0,cluster2.shape[0]):\n",
    "    plt.scatter(cluster2[i][0],cluster2[i][1], color='green')\n",
    "for i in range(0,cluster3.shape[0]):\n",
    "    plt.scatter(cluster3[i][0], cluster3[i][1], color='red')\n",
    "plt.show()"
   ]
  },
  {
   "cell_type": "markdown",
   "metadata": {},
   "source": [
    "#### 指定包含信息比例"
   ]
  },
  {
   "cell_type": "code",
   "execution_count": 79,
   "metadata": {
    "collapsed": false
   },
   "outputs": [
    {
     "data": {
      "text/plain": [
       "0.99481691454981014"
      ]
     },
     "execution_count": 79,
     "metadata": {},
     "output_type": "execute_result"
    }
   ],
   "source": [
    "pca = decomposition.PCA(n_components=.98)   # 要求解释98%的方差\n",
    "iris_X_prime = pca.fit(iris_X)  # 注意此处只用了fit，没有transform\n",
    "pca.explained_variance_ratio_.sum()   "
   ]
  },
  {
   "cell_type": "markdown",
   "metadata": {},
   "source": [
    "## 因子分析降维\n",
    "-  FactorAnalysis类"
   ]
  },
  {
   "cell_type": "code",
   "execution_count": 80,
   "metadata": {
    "collapsed": true
   },
   "outputs": [],
   "source": [
    "from sklearn.decomposition import FactorAnalysis"
   ]
  },
  {
   "cell_type": "code",
   "execution_count": 81,
   "metadata": {
    "collapsed": false
   },
   "outputs": [
    {
     "data": {
      "text/plain": [
       "array([[-1.33125848, -0.55846779],\n",
       "       [-1.33914102,  0.00509715],\n",
       "       [-1.40258715,  0.307983  ],\n",
       "       [-1.29839497,  0.71854288],\n",
       "       [-1.33587575, -0.36533259]])"
      ]
     },
     "execution_count": 81,
     "metadata": {},
     "output_type": "execute_result"
    }
   ],
   "source": [
    "fa = FactorAnalysis(n_components=2)   # 因子分析假设有2个因子\n",
    "iris_two_dim = fa.fit_transform(iris.data)   # 使用方法与主成分基本相同\n",
    "iris_two_dim[:5]"
   ]
  },
  {
   "cell_type": "code",
   "execution_count": 82,
   "metadata": {
    "collapsed": false
   },
   "outputs": [
    {
     "data": {
      "image/png": "[encoded data removed]",
      "text/plain": [
       "<matplotlib.figure.Figure at 0xa920320>"
      ]
     },
     "metadata": {},
     "output_type": "display_data"
    }
   ],
   "source": [
    "# 仅提取2个因子的图形\n",
    "iris_y = iris.target\n",
    "cluster1 = iris_two_dim[iris_y ==0]\n",
    "cluster2 = iris_two_dim[iris_y ==1]\n",
    "cluster3 = iris_two_dim[iris_y ==2]\n",
    "for i in range(0,cluster1.shape[0]):\n",
    "    plt.scatter(cluster1[i][0], cluster1[i][1], color='blue')\n",
    "for i in range(0,cluster2.shape[0]):\n",
    "    plt.scatter(cluster2[i][0],cluster2[i][1], color='green')\n",
    "for i in range(0,cluster3.shape[0]):\n",
    "    plt.scatter(cluster3[i][0], cluster3[i][1], color='red')\n",
    "plt.show()"
   ]
  },
  {
   "cell_type": "markdown",
   "metadata": {},
   "source": [
    "#### 主成分分析和因子分析的区别\n",
    "- 通过主成分分析所得来的新变量是原始变量的线性组合\n",
    "- 通过因子分析得来的新变量是对每一个原始变量进行内部剖析，对原始变量进行分解，分解为公共因子与特殊因子两部分。利用少数几个公共因子去解释较多个要观测变量中存在的复杂关系，它不是对原有变量的取舍\n",
    "- 主成分分析的重点在于解释个变量的总方差，而因子分析则把重点放在解释各变量之间的协方差。\n",
    "- 因子分析需要自己指定因子个数"
   ]
  },
  {
   "cell_type": "code",
   "execution_count": null,
   "metadata": {
    "collapsed": true
   },
   "outputs": [],
   "source": []
  },
  {
   "cell_type": "markdown",
   "metadata": {},
   "source": [
    "## 核PCA非线性降维\n",
    "KernelPCA类  \n",
    "有5种核：poly (polynomial)、rbf (radial basis function)、sigmoid、cosine、precomputed"
   ]
  },
  {
   "cell_type": "code",
   "execution_count": 83,
   "metadata": {
    "collapsed": true
   },
   "outputs": [],
   "source": [
    "from sklearn import decomposition"
   ]
  },
  {
   "cell_type": "code",
   "execution_count": 84,
   "metadata": {
    "collapsed": false
   },
   "outputs": [],
   "source": [
    "# 假设有A和B两个数据生成过程，生成数据集\n",
    "import numpy as np\n",
    "A1_mean = [1, 1]\n",
    "A1_cov = [[2, .99], [1, 1]]\n",
    "A1 = np.random.multivariate_normal(A1_mean, A1_cov, 50)   # 50*2的多元正态分布数据集\n",
    "A2_mean = [5, 5]\n",
    "A2_cov = [[2, .99], [1, 1]]\n",
    "A2 = np.random.multivariate_normal(A2_mean, A2_cov, 50)   # 50*2的多元正态分布数据集\n",
    "A = np.vstack((A1, A2))\n",
    "B_mean = [5, 0]\n",
    "B_cov = [[2, -0.5], [-1,0.9]]\n",
    "B = np.random.multivariate_normal(B_mean, B_cov, 100)    # 100*2的多元正态分布数据集"
   ]
  },
  {
   "cell_type": "code",
   "execution_count": 85,
   "metadata": {
    "collapsed": false
   },
   "outputs": [
    {
     "data": {
      "image/png": "[encoded data removed]",
      "text/plain": [
       "<matplotlib.figure.Figure at 0xb164c88>"
      ]
     },
     "metadata": {},
     "output_type": "display_data"
    }
   ],
   "source": [
    "# AB两个数据线性不可分\n",
    "for i in range(0,100):\n",
    "    plt.scatter(A[i][0], A[i][1], color='red')\n",
    "for i in range(0,100):\n",
    "    plt.scatter(B[i][0], B[i][1], color='blue')\n",
    "plt.show()"
   ]
  },
  {
   "cell_type": "code",
   "execution_count": 86,
   "metadata": {
    "collapsed": true
   },
   "outputs": [],
   "source": [
    "kpca = decomposition.KernelPCA(kernel='cosine', n_components=1)   # 选取cosine核进行PCA降维\n",
    "AB = np.vstack((A, B))\n",
    "AB_transformed = kpca.fit_transform(AB)"
   ]
  },
  {
   "cell_type": "code",
   "execution_count": 87,
   "metadata": {
    "collapsed": false
   },
   "outputs": [
    {
     "data": {
      "image/png": "[encoded data removed]",
      "text/plain": [
       "<matplotlib.figure.Figure at 0xb164128>"
      ]
     },
     "metadata": {},
     "output_type": "display_data"
    }
   ],
   "source": [
    "for i in range(0,100):\n",
    "    plt.scatter(AB_transformed[i], 0, color='red')\n",
    "for i in xrange(100, 200):\n",
    "    plt.scatter(AB_transformed[i], 0, color='blue')\n",
    "plt.show() # 降维后，基本上线性可分【分为2半】"
   ]
  },
  {
   "cell_type": "code",
   "execution_count": 88,
   "metadata": {
    "collapsed": true
   },
   "outputs": [],
   "source": [
    "pca = decomposition.PCA(n_components=1) # 进行普通PCA降维，以比较效果\n",
    "AB = np.vstack((A, B))\n",
    "AB_transformed = pca.fit_transform(AB)"
   ]
  },
  {
   "cell_type": "code",
   "execution_count": 89,
   "metadata": {
    "collapsed": false
   },
   "outputs": [
    {
     "data": {
      "image/png": "[encoded data removed]",
      "text/plain": [
       "<matplotlib.figure.Figure at 0xb164a90>"
      ]
     },
     "metadata": {},
     "output_type": "display_data"
    }
   ],
   "source": [
    "for i in range(0,100):\n",
    "    plt.scatter(AB_transformed[i], 0, color='red')\n",
    "for i in xrange(100, 200):\n",
    "    plt.scatter(AB_transformed[i], 0, color='blue')\n",
    "plt.show()  # 线性不可分，效果比核PCA差【无法分为2半】"
   ]
  },
  {
   "cell_type": "code",
   "execution_count": 90,
   "metadata": {
    "collapsed": false
   },
   "outputs": [
    {
     "data": {
      "text/plain": [
       "KernelPCA(alpha=1.0, coef0=1, copy_X=True, degree=3, eigen_solver='auto',\n",
       "     fit_inverse_transform=False, gamma=None, kernel='linear',\n",
       "     kernel_params=None, max_iter=None, n_components=None, n_jobs=1,\n",
       "     random_state=None, remove_zero_eig=False, tol=0)"
      ]
     },
     "execution_count": 90,
     "metadata": {},
     "output_type": "execute_result"
    }
   ],
   "source": [
    "# 查看KernelPCA的默认属性\n",
    "kpca = decomposition.KernelPCA()\n",
    "kpca"
   ]
  },
  {
   "cell_type": "markdown",
   "metadata": {},
   "source": [
    "# 截尾SVD降维\n",
    "TruncatedSVD类  \n",
    "截尾SVD可以应用于稀疏矩阵，而PCA则不行"
   ]
  },
  {
   "cell_type": "code",
   "execution_count": 91,
   "metadata": {
    "collapsed": true
   },
   "outputs": [],
   "source": [
    "from sklearn.decomposition import TruncatedSVD"
   ]
  },
  {
   "cell_type": "code",
   "execution_count": 92,
   "metadata": {
    "collapsed": true
   },
   "outputs": [],
   "source": [
    "# 准备数据\n",
    "from sklearn import datasets\n",
    "iris = datasets.load_iris()\n",
    "iris_data,iris_target = iris.data,iris.target"
   ]
  },
  {
   "cell_type": "code",
   "execution_count": 93,
   "metadata": {
    "collapsed": false
   },
   "outputs": [
    {
     "data": {
      "text/plain": [
       "array([[ 5.91220352,  2.30344211],\n",
       "       [ 5.57207573,  1.97383104],\n",
       "       [ 5.4464847 ,  2.09653267],\n",
       "       [ 5.43601924,  1.87168085],\n",
       "       [ 5.87506555,  2.32934799]])"
      ]
     },
     "execution_count": 93,
     "metadata": {},
     "output_type": "execute_result"
    }
   ],
   "source": [
    "svd = TruncatedSVD(2)   # 从4维降到2维\n",
    "iris_transformed = svd.fit_transform(iris_data)\n",
    "iris_transformed[:5]"
   ]
  },
  {
   "cell_type": "code",
   "execution_count": 94,
   "metadata": {
    "collapsed": false
   },
   "outputs": [
    {
     "data": {
      "image/png": "[encoded data removed]",
      "text/plain": [
       "<matplotlib.figure.Figure at 0xc9b2668>"
      ]
     },
     "metadata": {},
     "output_type": "display_data"
    }
   ],
   "source": [
    "for i in range(0,50):\n",
    "    plt.scatter(iris_transformed[i,0],iris_transformed[i,1],color = \"red\")\n",
    "for i in range(50,100):\n",
    "    plt.scatter(iris_transformed[i,0],iris_transformed[i,1],color = \"green\")\n",
    "for i in range(100,150):\n",
    "    plt.scatter(iris_transformed[i,0],iris_transformed[i,1],color = \"blue\")\n",
    "plt.show()"
   ]
  },
  {
   "cell_type": "markdown",
   "metadata": {},
   "source": [
    "#### SVD简介"
   ]
  },
  {
   "cell_type": "code",
   "execution_count": 95,
   "metadata": {
    "collapsed": false
   },
   "outputs": [
    {
     "data": {
      "text/plain": [
       "array([[1, 2],\n",
       "       [1, 3],\n",
       "       [1, 4]])"
      ]
     },
     "execution_count": 95,
     "metadata": {},
     "output_type": "execute_result"
    }
   ],
   "source": [
    "from scipy.linalg import svd\n",
    "D = np.array([[1, 2], [1, 3], [1, 4]])\n",
    "D"
   ]
  },
  {
   "cell_type": "code",
   "execution_count": 96,
   "metadata": {
    "collapsed": false
   },
   "outputs": [
    {
     "data": {
      "text/plain": [
       "((3L, 2L), (2L,), (2L, 2L))"
      ]
     },
     "execution_count": 96,
     "metadata": {},
     "output_type": "execute_result"
    }
   ],
   "source": [
    "U, S, V = svd(D, full_matrices=False)   # 进行SVD分解\n",
    "U.shape, S.shape, V.shape"
   ]
  },
  {
   "cell_type": "code",
   "execution_count": 97,
   "metadata": {
    "collapsed": false
   },
   "outputs": [
    {
     "data": {
      "text/plain": [
       "array([[ 1.,  2.],\n",
       "       [ 1.,  3.],\n",
       "       [ 1.,  4.]])"
      ]
     },
     "execution_count": 97,
     "metadata": {},
     "output_type": "execute_result"
    }
   ],
   "source": [
    "np.dot(U.dot(np.diag(S)), V)  # 果然是分解来的，可以还原的"
   ]
  },
  {
   "cell_type": "markdown",
   "metadata": {},
   "source": [
    "#### 截尾SVD"
   ]
  },
  {
   "cell_type": "code",
   "execution_count": 98,
   "metadata": {
    "collapsed": false
   },
   "outputs": [
    {
     "data": {
      "text/plain": [
       "array([-2.20719466, -3.16170819, -4.11622173])"
      ]
     },
     "execution_count": 98,
     "metadata": {},
     "output_type": "execute_result"
    }
   ],
   "source": [
    "new_S = S[0]   \n",
    "new_U = U[:, 0]\n",
    "new_V = V[0,:]\n",
    "new_U.dot(new_S)    # 如果想要进行截尾SVD降维，去掉最小的若干个特征值，并去掉U矩阵的对应列；保留t维，则去掉N-t个特征值"
   ]
  },
  {
   "cell_type": "markdown",
   "metadata": {},
   "source": [
    "#### 符号问题\n",
    "每次进行截尾SVD，可能返回结果的符号不同。所以，为了保持结果的一致性，应当一次性fit TruncatedSVD类，然后使用transform方法进行降维。"
   ]
  },
  {
   "cell_type": "code",
   "execution_count": 99,
   "metadata": {
    "collapsed": false
   },
   "outputs": [
    {
     "data": {
      "text/plain": [
       "array([[  5.91220352e+00,   2.30344211e+00],\n",
       "       [  5.57207573e+00,   1.97383104e+00],\n",
       "       [  5.44648470e+00,   2.09653267e+00],\n",
       "       [  5.43601924e+00,   1.87168085e+00],\n",
       "       [  5.87506555e+00,   2.32934799e+00],\n",
       "       [  6.47699043e+00,   2.32552598e+00],\n",
       "       [  5.51542859e+00,   2.07156181e+00],\n",
       "       [  5.85042297e+00,   2.14948016e+00],\n",
       "       [  5.15851287e+00,   1.77642658e+00],\n",
       "       [  5.64458172e+00,   1.99190598e+00],\n",
       "       [  6.26482670e+00,   2.42727947e+00],\n",
       "       [  5.75150446e+00,   2.02142409e+00],\n",
       "       [  5.48017099e+00,   1.97972378e+00],\n",
       "       [  4.95064168e+00,   2.04947793e+00],\n",
       "       [  6.52528515e+00,   2.91774840e+00],\n",
       "       [  6.78960484e+00,   2.82549990e+00],\n",
       "       [  6.27173006e+00,   2.60908548e+00],\n",
       "       [  5.92899145e+00,   2.26896626e+00],\n",
       "       [  6.64757408e+00,   2.39126214e+00],\n",
       "       [  6.09424306e+00,   2.36154331e+00],\n",
       "       [  6.25352038e+00,   2.12203279e+00],\n",
       "       [  6.07305216e+00,   2.27257849e+00],\n",
       "       [  5.36933796e+00,   2.49857510e+00],\n",
       "       [  6.04055493e+00,   1.87836700e+00],\n",
       "       [  5.90544974e+00,   1.80875447e+00],\n",
       "       [  5.74982272e+00,   1.86063438e+00],\n",
       "       [  5.93531393e+00,   2.00963860e+00],\n",
       "       [  6.03863542e+00,   2.26113533e+00],\n",
       "       [  5.94934149e+00,   2.27753623e+00],\n",
       "       [  5.60042998e+00,   1.88386305e+00],\n",
       "       [  5.63756795e+00,   1.85795717e+00],\n",
       "       [  6.18446606e+00,   2.19486085e+00],\n",
       "       [  6.24972051e+00,   2.62254502e+00],\n",
       "       [  6.47852260e+00,   2.79919732e+00],\n",
       "       [  5.64458172e+00,   1.99190598e+00],\n",
       "       [  5.62052002e+00,   2.25317183e+00],\n",
       "       [  6.16135565e+00,   2.48866436e+00],\n",
       "       [  5.64458172e+00,   1.99190598e+00],\n",
       "       [  5.14517661e+00,   1.90180543e+00],\n",
       "       [  5.92553978e+00,   2.17806326e+00],\n",
       "       [  5.80255956e+00,   2.31127304e+00],\n",
       "       [  4.97122949e+00,   1.51448985e+00],\n",
       "       [  5.22113428e+00,   2.01078338e+00],\n",
       "       [  6.00686864e+00,   1.99517588e+00],\n",
       "       [  6.31629137e+00,   2.04350797e+00],\n",
       "       [  5.51374686e+00,   1.91077210e+00],\n",
       "       [  6.12877022e+00,   2.32512928e+00],\n",
       "       [  5.42268299e+00,   1.99705970e+00],\n",
       "       [  6.18970990e+00,   2.39869637e+00],\n",
       "       [  5.76112904e+00,   2.16588106e+00],\n",
       "       [  9.12033960e+00,  -7.00219921e-02],\n",
       "       [  8.58379652e+00,  -1.34216664e-01],\n",
       "       [  9.12666208e+00,  -3.29349657e-01],\n",
       "       [  7.27578441e+00,  -4.58464245e-01],\n",
       "       [  8.55831307e+00,  -3.94479344e-01],\n",
       "       [  7.87248767e+00,  -4.83302548e-01],\n",
       "       [  8.66607667e+00,  -2.84566378e-01],\n",
       "       [  6.45349296e+00,   2.41828100e-02],\n",
       "       [  8.63783285e+00,  -2.42455583e-01],\n",
       "       [  7.16782218e+00,  -2.89843601e-01],\n",
       "       [  6.47932460e+00,  -3.06969745e-01],\n",
       "       [  7.97830954e+00,  -1.73440471e-01],\n",
       "       [  7.56302580e+00,  -2.66610207e-01],\n",
       "       [  8.33035185e+00,  -4.90736782e-01],\n",
       "       [  7.37351386e+00,   1.80612202e-01],\n",
       "       [  8.70306507e+00,   2.40936792e-03],\n",
       "       [  7.90690441e+00,  -4.71859382e-01],\n",
       "       [  7.65400146e+00,  -1.22221396e-01],\n",
       "       [  8.05377454e+00,  -7.36272611e-01],\n",
       "       [  7.34196793e+00,  -1.81061634e-01],\n",
       "       [  8.41252158e+00,  -5.93229301e-01],\n",
       "       [  7.91637942e+00,  -1.45207918e-02],\n",
       "       [  8.44808823e+00,  -8.27782086e-01],\n",
       "       [  8.25879715e+00,  -4.76274069e-01],\n",
       "       [  8.33365396e+00,  -8.69521519e-02],\n",
       "       [  8.58996943e+00,  -8.06627036e-02],\n",
       "       [  8.86950574e+00,  -4.16033961e-01],\n",
       "       [  9.02334060e+00,  -5.80846389e-01],\n",
       "       [  8.16939279e+00,  -4.12015974e-01],\n",
       "       [  7.23301526e+00,   2.20045780e-01],\n",
       "       [  7.17755719e+00,  -1.93243831e-01],\n",
       "       [  7.10945416e+00,  -8.78781122e-02],\n",
       "       [  7.58494714e+00,  -4.93933360e-02],\n",
       "       [  8.41811361e+00,  -9.80809017e-01],\n",
       "       [  7.75667080e+00,  -5.29025574e-01],\n",
       "       [  8.37607491e+00,  -1.74046941e-01],\n",
       "       [  8.87379829e+00,  -2.44736100e-01],\n",
       "       [  8.08197922e+00,  -5.13358976e-01],\n",
       "       [  7.66806816e+00,  -1.19348195e-01],\n",
       "       [  7.35174208e+00,  -3.49486294e-01],\n",
       "       [  7.57819336e+00,  -5.44080972e-01],\n",
       "       [  8.31701559e+00,  -3.65357932e-01],\n",
       "       [  7.59828340e+00,  -1.74772186e-01],\n",
       "       [  6.49063093e+00,  -1.72306959e-03],\n",
       "       [  7.60544675e+00,  -3.53704996e-01],\n",
       "       [  7.77771213e+00,  -1.27179129e-01],\n",
       "       [  7.75652123e+00,  -2.16143949e-01],\n",
       "       [  8.18342035e+00,  -1.44118344e-01],\n",
       "       [  6.50454806e+00,   3.14031756e-01],\n",
       "       [  7.66722730e+00,  -1.99743050e-01],\n",
       "       [  9.48426430e+00,  -1.51641735e+00],\n",
       "       [  8.31824380e+00,  -1.14140274e+00],\n",
       "       [  9.85279540e+00,  -1.24242625e+00],\n",
       "       [  9.00957304e+00,  -1.20948284e+00],\n",
       "       [  9.36756741e+00,  -1.37751080e+00],\n",
       "       [  1.05875851e+01,  -1.59573990e+00],\n",
       "       [  7.22476846e+00,  -1.01333762e+00],\n",
       "       [  1.01199467e+01,  -1.41988100e+00],\n",
       "       [  9.26075510e+00,  -1.45488611e+00],\n",
       "       [  1.03255671e+01,  -1.16659243e+00],\n",
       "       [  9.05074356e+00,  -7.03352038e-01],\n",
       "       [  8.87157482e+00,  -1.11168392e+00],\n",
       "       [  9.42218461e+00,  -1.04461604e+00],\n",
       "       [  8.13264217e+00,  -1.24254976e+00],\n",
       "       [  8.44016231e+00,  -1.25929299e+00],\n",
       "       [  9.12862074e+00,  -9.77142417e-01],\n",
       "       [  9.14647039e+00,  -1.02693780e+00],\n",
       "       [  1.10346356e+01,  -1.23661071e+00],\n",
       "       [  1.06983077e+01,  -2.06673401e+00],\n",
       "       [  8.16011640e+00,  -1.14788818e+00],\n",
       "       [  9.70946514e+00,  -1.11778643e+00],\n",
       "       [  8.12014678e+00,  -1.03677605e+00],\n",
       "       [  1.06212714e+01,  -1.71254878e+00],\n",
       "       [  8.57440971e+00,  -8.22231669e-01],\n",
       "       [  9.56363450e+00,  -1.05151196e+00],\n",
       "       [  1.00048212e+01,  -1.07232755e+00],\n",
       "       [  8.48595665e+00,  -7.25435915e-01],\n",
       "       [  8.53811261e+00,  -7.15930934e-01],\n",
       "       [  9.09707481e+00,  -1.33881625e+00],\n",
       "       [  9.79265744e+00,  -9.70574060e-01],\n",
       "       [  1.00712425e+01,  -1.33848298e+00],\n",
       "       [  1.09973481e+01,  -8.97823210e-01],\n",
       "       [  9.11386274e+00,  -1.37329210e+00],\n",
       "       [  8.66465493e+00,  -8.06094909e-01],\n",
       "       [  8.67825118e+00,  -1.29221258e+00],\n",
       "       [  1.04397023e+01,  -1.28165912e+00],\n",
       "       [  9.30019482e+00,  -1.14389303e+00],\n",
       "       [  9.10933242e+00,  -1.00103192e+00],\n",
       "       [  8.41168071e+00,  -6.73624156e-01],\n",
       "       [  9.48396516e+00,  -8.90654098e-01],\n",
       "       [  9.48672553e+00,  -1.19302757e+00],\n",
       "       [  9.36359574e+00,  -7.46936164e-01],\n",
       "       [  8.31824380e+00,  -1.14140274e+00],\n",
       "       [  9.73697852e+00,  -1.28814928e+00],\n",
       "       [  9.63078623e+00,  -1.18941534e+00],\n",
       "       [  9.22669839e+00,  -9.29481206e-01],\n",
       "       [  8.56655506e+00,  -1.03657534e+00],\n",
       "       [  9.02610098e+00,  -8.83219863e-01],\n",
       "       [  9.10565990e+00,  -9.96220532e-01],\n",
       "       [  8.49050919e+00,  -9.14876875e-01]])"
      ]
     },
     "execution_count": 99,
     "metadata": {},
     "output_type": "execute_result"
    }
   ],
   "source": [
    "tsvd = TruncatedSVD(2)\n",
    "tsvd.fit(iris_data)  # 一次性fit  TruncatedSVD类\n",
    "tsvd.transform(iris_data)  # 降维"
   ]
  },
  {
   "cell_type": "markdown",
   "metadata": {},
   "source": [
    "## 字典学习\n",
    "- DictionaryLearning类\n",
    "- DictionaryLearning has a background in signal processing and neurology. The idea is\n",
    "that only few features can be active at any given time. Therefore, DictionaryLearning\n",
    "attempts to find a suitable representation for the underlying data, given the constraint that\n",
    "most of the features should be 0.\n",
    "- 从包含n个向量的字典当中寻找一个线性表示可以表示出当前这个k维的向量\n",
    "- 本例中，采用3维向量，用n个3为向量的线性组合表示当前的点"
   ]
  },
  {
   "cell_type": "code",
   "execution_count": 100,
   "metadata": {
    "collapsed": true
   },
   "outputs": [],
   "source": [
    "from sklearn.decomposition import DictionaryLearning"
   ]
  },
  {
   "cell_type": "code",
   "execution_count": 101,
   "metadata": {
    "collapsed": true
   },
   "outputs": [],
   "source": [
    "# 准备数据\n",
    "from sklearn import datasets\n",
    "iris = datasets.load_iris()\n",
    "iris_data,iris_target = iris.data,iris.target"
   ]
  },
  {
   "cell_type": "code",
   "execution_count": 102,
   "metadata": {
    "collapsed": false
   },
   "outputs": [
    {
     "data": {
      "text/plain": [
       "array([[ 0.        ,  6.34476574,  0.        ],\n",
       "       [ 0.        ,  5.83576461,  0.        ],\n",
       "       [ 0.        ,  6.32038375,  0.        ],\n",
       "       [ 0.        ,  5.89318572,  0.        ],\n",
       "       [ 0.        ,  5.45222715,  0.        ]])"
      ]
     },
     "execution_count": 102,
     "metadata": {},
     "output_type": "execute_result"
    }
   ],
   "source": [
    "dl = DictionaryLearning(3)   # 用3个成分表示该数据的三个类   \n",
    "transformed = dl.fit_transform(iris_data[::2])  # 选取一半数据作为训练集\n",
    "transformed[:5]"
   ]
  },
  {
   "cell_type": "code",
   "execution_count": 103,
   "metadata": {
    "collapsed": false
   },
   "outputs": [
    {
     "data": {
      "text/plain": [
       "<matplotlib.text.Text at 0xd0ec780>"
      ]
     },
     "execution_count": 103,
     "metadata": {},
     "output_type": "execute_result"
    },
    {
     "data": {
      "image/png": "[encoded data removed]",
      "text/plain": [
       "<matplotlib.figure.Figure at 0xc90e5c0>"
      ]
     },
     "metadata": {},
     "output_type": "display_data"
    }
   ],
   "source": [
    "a = transformed[transformed[:,0]!=0]\n",
    "b = transformed[transformed[:,1]!=0]\n",
    "c = transformed[transformed[:,2]!=0]\n",
    "\n",
    "from mpl_toolkits.mplot3d import Axes3D\n",
    "colors = np.array(['red', 'green', 'blue'])\n",
    "f = plt.figure()\n",
    "ax = f.add_subplot(111, projection='3d')\n",
    "ax.scatter(a[:, 0], a[:, 1], a[:, 2], color = 'red')\n",
    "ax.scatter(b[:, 0], b[:, 1], b[:, 2], color = 'green')\n",
    "ax.scatter(c[:, 0], c[:, 1], c[:, 2], color = 'blue')\n",
    "\n",
    "ax.set_title(\"Training Set\")\n",
    "\n",
    "# 训练集被分为3类，有少许错分"
   ]
  },
  {
   "cell_type": "code",
   "execution_count": 104,
   "metadata": {
    "collapsed": true
   },
   "outputs": [],
   "source": [
    "transformed = dl.transform(iris_data[1::2]) # 在测试集上测试分类效果"
   ]
  },
  {
   "cell_type": "code",
   "execution_count": 105,
   "metadata": {
    "collapsed": false
   },
   "outputs": [
    {
     "data": {
      "image/png": "[encoded data removed]",
      "text/plain": [
       "<matplotlib.figure.Figure at 0xb4b85f8>"
      ]
     },
     "metadata": {},
     "output_type": "display_data"
    }
   ],
   "source": [
    "from mpl_toolkits.mplot3d import Axes3D\n",
    "colors = np.array(list('rgb'))\n",
    "f = plt.figure()\n",
    "ax = f.add_subplot(111, projection='3d')\n",
    "ax.set_title(\"Testing Set\")\n",
    "ax.scatter(transformed[:, 0], transformed[:, 1], transformed[:, 2], color=colors[iris.target[1::2]]); # 测试集依然被分为3类，有少许错分"
   ]
  },
  {
   "cell_type": "markdown",
   "metadata": {
    "collapsed": true
   },
   "source": [
    "#### lasso做特征选择"
   ]
  },
  {
   "cell_type": "code",
   "execution_count": 106,
   "metadata": {
    "collapsed": true
   },
   "outputs": [],
   "source": [
    "from sklearn.linear_model import LassoCV"
   ]
  },
  {
   "cell_type": "code",
   "execution_count": 107,
   "metadata": {
    "collapsed": true
   },
   "outputs": [],
   "source": [
    "# 准备数据\n",
    "from sklearn import datasets\n",
    "iris = datasets.load_iris()\n",
    "iris_data,iris_target = iris.data,iris.target"
   ]
  },
  {
   "cell_type": "code",
   "execution_count": 108,
   "metadata": {
    "collapsed": false
   },
   "outputs": [
    {
     "data": {
      "text/plain": [
       "LassoCV(alphas=None, copy_X=True, cv=None, eps=0.001, fit_intercept=True,\n",
       "    max_iter=1000, n_alphas=100, n_jobs=1, normalize=False, positive=False,\n",
       "    precompute='auto', random_state=None, selection='cyclic', tol=0.0001,\n",
       "    verbose=False)"
      ]
     },
     "execution_count": 108,
     "metadata": {},
     "output_type": "execute_result"
    }
   ],
   "source": [
    "lassocv = LassoCV()\n",
    "lassocv.fit(iris_data, iris_target)"
   ]
  },
  {
   "cell_type": "code",
   "execution_count": 109,
   "metadata": {
    "collapsed": true
   },
   "outputs": [],
   "source": [
    "mask = lassocv.coef_ != 0\n",
    "new_iris_data = iris_data[:, mask]   # 新的数据集仅包含部分特征"
   ]
  },
  {
   "cell_type": "code",
   "execution_count": 110,
   "metadata": {
    "collapsed": false
   },
   "outputs": [
    {
     "data": {
      "text/plain": [
       "((150L, 4L), (150L, 2L))"
      ]
     },
     "execution_count": 110,
     "metadata": {},
     "output_type": "execute_result"
    }
   ],
   "source": [
    "iris_data.shape,new_iris_data.shape"
   ]
  },
  {
   "cell_type": "markdown",
   "metadata": {},
   "source": [
    "## 高阶pipelines\n",
    "- 填充缺失值\n",
    "- 标准化变换\n",
    "- 降维"
   ]
  },
  {
   "cell_type": "code",
   "execution_count": 111,
   "metadata": {
    "collapsed": true
   },
   "outputs": [],
   "source": [
    "from sklearn import pipeline, preprocessing, decomposition"
   ]
  },
  {
   "cell_type": "code",
   "execution_count": 112,
   "metadata": {
    "collapsed": false
   },
   "outputs": [
    {
     "data": {
      "text/plain": [
       "array([[ 5.1,  3.5,  nan,  0.2],\n",
       "       [ 4.9,  nan,  1.4,  0.2],\n",
       "       [ 4.7,  3.2,  1.3,  nan],\n",
       "       [ 4.6,  nan,  nan,  0.2],\n",
       "       [ nan,  3.6,  1.4,  0.2]])"
      ]
     },
     "execution_count": 112,
     "metadata": {},
     "output_type": "execute_result"
    }
   ],
   "source": [
    "# 准备数据\n",
    "from sklearn import datasets\n",
    "iris = datasets.load_iris()\n",
    "iris_data,iris_target = iris.data,iris.target\n",
    "\n",
    "mask = np.random.binomial(1, .25, iris_data.shape).astype(bool) # 制造缺失值\n",
    "iris_data[mask] = np.nan\n",
    "iris_data[:5]"
   ]
  },
  {
   "cell_type": "code",
   "execution_count": 113,
   "metadata": {
    "collapsed": true
   },
   "outputs": [],
   "source": [
    "# 创建PCA类,scalar类和Imputer类【实际过程很灵活，可以自主选择加哪些类】\n",
    "pca = decomposition.PCA()\n",
    "imputer = preprocessing.Imputer()\n",
    "scaler = preprocessing.StandardScaler()"
   ]
  },
  {
   "cell_type": "code",
   "execution_count": 114,
   "metadata": {
    "collapsed": false
   },
   "outputs": [
    {
     "data": {
      "text/plain": [
       "array([[-1.7129148 ,  0.47610415, -0.33942869, -1.14830122],\n",
       "       [-2.47223807, -0.68479793,  0.28989926,  0.11804799],\n",
       "       [-1.88140777, -0.39153865, -0.7423806 ,  1.11960395],\n",
       "       [-1.75337919, -0.80772061, -0.55685819, -1.13252205],\n",
       "       [-2.19160683,  1.08175678,  0.89831879,  0.13421482]])"
      ]
     },
     "execution_count": 114,
     "metadata": {},
     "output_type": "execute_result"
    }
   ],
   "source": [
    "# 将PCA类和Imputer类载入到Pipeline类中\n",
    "pipe = pipeline.Pipeline([('imputer', imputer),('scaler',scaler),('pca', pca)])  \n",
    "iris_data_transformed = pipe.fit_transform(iris_data)\n",
    "iris_data_transformed[:5]"
   ]
  },
  {
   "cell_type": "markdown",
   "metadata": {},
   "source": [
    "#### make_pipeline方法"
   ]
  },
  {
   "cell_type": "code",
   "execution_count": 115,
   "metadata": {
    "collapsed": false
   },
   "outputs": [
    {
     "data": {
      "text/plain": [
       "[('imputer',\n",
       "  Imputer(axis=0, copy=True, missing_values='NaN', strategy='mean', verbose=0)),\n",
       " ('pca',\n",
       "  PCA(copy=True, iterated_power='auto', n_components=None, random_state=None,\n",
       "    svd_solver='auto', tol=0.0, whiten=False))]"
      ]
     },
     "execution_count": 115,
     "metadata": {},
     "output_type": "execute_result"
    }
   ],
   "source": [
    "pipe2 = pipeline.make_pipeline(imputer, pca)\n",
    "pipe2.steps"
   ]
  },
  {
   "cell_type": "code",
   "execution_count": 116,
   "metadata": {
    "collapsed": false
   },
   "outputs": [
    {
     "data": {
      "text/plain": [
       "array([[-0.55924684, -0.79281266, -0.83951465,  0.1361867 ],\n",
       "       [-2.79727043, -0.15338066,  0.02983958, -0.21274093],\n",
       "       [-2.662193  , -0.03518736,  0.80368878,  0.3967799 ],\n",
       "       [-0.67992766, -1.3174822 , -0.52123552, -0.06251261],\n",
       "       [-2.54862083,  0.77685128, -0.42855134, -0.06690771]])"
      ]
     },
     "execution_count": 116,
     "metadata": {},
     "output_type": "execute_result"
    }
   ],
   "source": [
    "iris_data_transformed2 = pipe2.fit_transform(iris_data)    # 与直接使用pipeline.pipeline的结果是相同的\n",
    "iris_data_transformed2[:5]"
   ]
  },
  {
   "cell_type": "markdown",
   "metadata": {},
   "source": [
    "#### 修改某一步骤的参数"
   ]
  },
  {
   "cell_type": "code",
   "execution_count": 117,
   "metadata": {
    "collapsed": false
   },
   "outputs": [
    {
     "data": {
      "text/plain": [
       "Pipeline(steps=[('imputer', Imputer(axis=0, copy=True, missing_values='NaN', strategy='mean', verbose=0)), ('pca', PCA(copy=True, iterated_power='auto', n_components=2, random_state=None,\n",
       "  svd_solver='auto', tol=0.0, whiten=False))])"
      ]
     },
     "execution_count": 117,
     "metadata": {},
     "output_type": "execute_result"
    }
   ],
   "source": [
    "pipe2.set_params(pca__n_components=2)  # 可以用set_params方法修改某一步骤的参数，参数形式为<parameter's_name>__<parameter's_parameter>（两个下划线！！！）"
   ]
  },
  {
   "cell_type": "code",
   "execution_count": 118,
   "metadata": {
    "collapsed": false
   },
   "outputs": [
    {
     "data": {
      "text/plain": [
       "array([[-0.55924684, -0.79281266],\n",
       "       [-2.79727043, -0.15338066],\n",
       "       [-2.662193  , -0.03518736],\n",
       "       [-0.67992766, -1.3174822 ],\n",
       "       [-2.54862083,  0.77685128]])"
      ]
     },
     "execution_count": 118,
     "metadata": {},
     "output_type": "execute_result"
    }
   ],
   "source": [
    "iris_data_transformed3 = pipe2.fit_transform(iris_data)\n",
    "iris_data_transformed3[:5]  # 起到了降维的作用"
   ]
  },
  {
   "cell_type": "markdown",
   "metadata": {},
   "source": [
    "## 高斯过程回归\n",
    "- GaussianProcess类"
   ]
  },
  {
   "cell_type": "code",
   "execution_count": 119,
   "metadata": {
    "collapsed": true
   },
   "outputs": [],
   "source": [
    "from sklearn.gaussian_process import GaussianProcess"
   ]
  },
  {
   "cell_type": "code",
   "execution_count": 120,
   "metadata": {
    "collapsed": false
   },
   "outputs": [],
   "source": [
    "# 准备数据\n",
    "from sklearn import datasets\n",
    "boston = datasets.load_boston()\n",
    "boston_X,boston_y = boston.data,boston.target\n",
    "train_set = np.random.choice([True, False], len(boston_y),p=[.75, .25])  # 取75%的数据作为训练集"
   ]
  },
  {
   "cell_type": "code",
   "execution_count": 121,
   "metadata": {
    "collapsed": false
   },
   "outputs": [
    {
     "name": "stderr",
     "output_type": "stream",
     "text": [
      "C:\\Anaconda2\\lib\\site-packages\\sklearn\\utils\\deprecation.py:52: DeprecationWarning: Class GaussianProcess is deprecated; GaussianProcess was deprecated in version 0.18 and will be removed in 0.20. Use the GaussianProcessRegressor instead.\n",
      "  warnings.warn(msg, category=DeprecationWarning)\n",
      "C:\\Anaconda2\\lib\\site-packages\\sklearn\\utils\\deprecation.py:70: DeprecationWarning: Function l1_cross_distances is deprecated; l1_cross_distances was deprecated in version 0.18 and will be removed in 0.20.\n",
      "  warnings.warn(msg, category=DeprecationWarning)\n"
     ]
    },
    {
     "data": {
      "text/plain": [
       "GaussianProcess(beta0=None,\n",
       "        corr=<function squared_exponential at 0x000000000AF76898>,\n",
       "        normalize=True, nugget=array(2.220446049250313e-15),\n",
       "        optimizer='fmin_cobyla', random_start=1,\n",
       "        random_state=<mtrand.RandomState object at 0x000000000435C360>,\n",
       "        regr=<function constant at 0x000000000AF76438>,\n",
       "        storage_mode='full', theta0=array([[ 0.1]]), thetaL=None,\n",
       "        thetaU=None, verbose=False)"
      ]
     },
     "execution_count": 121,
     "metadata": {},
     "output_type": "execute_result"
    }
   ],
   "source": [
    "gp = GaussianProcess()\n",
    "gp.fit(boston_X[train_set], boston_y[train_set])  # 训练模型"
   ]
  },
  {
   "cell_type": "code",
   "execution_count": 122,
   "metadata": {
    "collapsed": true
   },
   "outputs": [],
   "source": [
    "test_preds = gp.predict(boston_X[~train_set]) #在测试集上测试模型效果"
   ]
  },
  {
   "cell_type": "code",
   "execution_count": 123,
   "metadata": {
    "collapsed": false
   },
   "outputs": [
    {
     "data": {
      "text/plain": [
       "<matplotlib.text.Text at 0xcc9a320>"
      ]
     },
     "execution_count": 123,
     "metadata": {},
     "output_type": "execute_result"
    },
    {
     "data": {
      "image/png": "[encoded data removed]",
      "text/plain": [
       "<matplotlib.figure.Figure at 0xb27e748>"
      ]
     },
     "metadata": {},
     "output_type": "display_data"
    }
   ],
   "source": [
    "from matplotlib import pyplot as plt\n",
    "f, ax = plt.subplots(figsize=(10, 7), nrows=3)\n",
    "f.tight_layout()\n",
    "\n",
    "ax[0].plot(range(len(test_preds)), test_preds,label='Predicted Values');     # 真实值和预测值作对比\n",
    "ax[0].plot(range(len(test_preds)), boston_y[~train_set],label='Actual Values');\n",
    "ax[0].set_title(\"Predicted vs Actuals\")\n",
    "ax[0].legend(loc='best')\n",
    "\n",
    "ax[1].plot(range(len(test_preds)),test_preds - boston_y[~train_set]);   #残差图\n",
    "ax[1].set_title(\"Plotted Residuals\")\n",
    "\n",
    "ax[2].hist(test_preds - boston_y[~train_set]);   # 残差直方图\n",
    "ax[2].set_title(\"Histogram of Residuals\")"
   ]
  },
  {
   "cell_type": "code",
   "execution_count": 124,
   "metadata": {
    "collapsed": false
   },
   "outputs": [
    {
     "name": "stderr",
     "output_type": "stream",
     "text": [
      "C:\\Anaconda2\\lib\\site-packages\\sklearn\\utils\\deprecation.py:52: DeprecationWarning: Class GaussianProcess is deprecated; GaussianProcess was deprecated in version 0.18 and will be removed in 0.20. Use the GaussianProcessRegressor instead.\n",
      "  warnings.warn(msg, category=DeprecationWarning)\n",
      "C:\\Anaconda2\\lib\\site-packages\\sklearn\\utils\\deprecation.py:70: DeprecationWarning: Function l1_cross_distances is deprecated; l1_cross_distances was deprecated in version 0.18 and will be removed in 0.20.\n",
      "  warnings.warn(msg, category=DeprecationWarning)\n"
     ]
    }
   ],
   "source": [
    "# 不同的corr function\n",
    "    #  absolute_exponential\n",
    "    #  squared_exponential\n",
    "    #  generalized_exponential\n",
    "    #  cubic\n",
    "    #  linear\n",
    "gp = GaussianProcess(regr='linear', theta0=5e-1)   # 尝试不同的regr和theta0参数\n",
    "gp.fit(boston_X[train_set], boston_y[train_set]);\n",
    "linear_preds = gp.predict(boston_X[~train_set])"
   ]
  },
  {
   "cell_type": "code",
   "execution_count": 125,
   "metadata": {
    "collapsed": false
   },
   "outputs": [
    {
     "data": {
      "text/plain": [
       "<matplotlib.legend.Legend at 0xa774f28>"
      ]
     },
     "execution_count": 125,
     "metadata": {},
     "output_type": "execute_result"
    },
    {
     "data": {
      "image/png": "[encoded data removed]",
      "text/plain": [
       "<matplotlib.figure.Figure at 0xb4d2438>"
      ]
     },
     "metadata": {},
     "output_type": "display_data"
    }
   ],
   "source": [
    "f, ax = plt.subplots(figsize=(7, 5))\n",
    "f.tight_layout()\n",
    "\n",
    "ax.hist(test_preds - boston_y[~train_set],label='Residuals Original', color='b', alpha=.5);\n",
    "ax.hist(linear_preds - boston_y[~train_set],label='Residuals Linear', color='r', alpha=.5);\n",
    "ax.set_title(\"Residuals\")\n",
    "ax.legend(loc='best')"
   ]
  },
  {
   "cell_type": "markdown",
   "metadata": {},
   "source": [
    "#### 均方误差"
   ]
  },
  {
   "cell_type": "code",
   "execution_count": 126,
   "metadata": {
    "collapsed": false
   },
   "outputs": [
    {
     "data": {
      "text/plain": [
       "(34.109624942351417, 16.126731317797535)"
      ]
     },
     "execution_count": 126,
     "metadata": {},
     "output_type": "execute_result"
    }
   ],
   "source": [
    "np.power(test_preds - boston_y[~train_set], 2).mean(),np.power(linear_preds - boston_y[~train_set], 2).mean() #计算两个模型的MSE"
   ]
  },
  {
   "cell_type": "code",
   "execution_count": 127,
   "metadata": {
    "collapsed": false
   },
   "outputs": [
    {
     "data": {
      "text/plain": [
       "array([  5.91680386,   2.48613031,   0.80071654,   1.86293045,  32.03474761])"
      ]
     },
     "execution_count": 127,
     "metadata": {},
     "output_type": "execute_result"
    }
   ],
   "source": [
    "test_preds, MSE = gp.predict(boston_X[~train_set], eval_MSE=True)   # 如果在predict方法中设置eval_MSE参数为True，可以同时返回测试值、测试集上的MSE\n",
    "MSE[:5]"
   ]
  },
  {
   "cell_type": "code",
   "execution_count": 128,
   "metadata": {
    "collapsed": false
   },
   "outputs": [
    {
     "data": {
      "text/plain": [
       "<matplotlib.text.Text at 0xc753668>"
      ]
     },
     "execution_count": 128,
     "metadata": {},
     "output_type": "execute_result"
    },
    {
     "data": {
      "image/png": "[encoded data removed]",
      "text/plain": [
       "<matplotlib.figure.Figure at 0xb4c6588>"
      ]
     },
     "metadata": {},
     "output_type": "display_data"
    }
   ],
   "source": [
    "# # 绘制预测值及置信区间（误差条）\n",
    "f, ax = plt.subplots(figsize=(7, 5))\n",
    "rng = range(len(MSE))\n",
    "ax.scatter(rng, test_preds)\n",
    "ax.errorbar(rng, test_preds, yerr=1.96*MSE)\n",
    "ax.set_title(\"Predictions with Error Bars\")"
   ]
  },
  {
   "cell_type": "markdown",
   "metadata": {},
   "source": [
    "## 直接设置高斯过程\n",
    "- regression_models方法"
   ]
  },
  {
   "cell_type": "code",
   "execution_count": 129,
   "metadata": {
    "collapsed": true
   },
   "outputs": [],
   "source": [
    "from sklearn.gaussian_process import regression_models"
   ]
  },
  {
   "cell_type": "code",
   "execution_count": 130,
   "metadata": {
    "collapsed": true
   },
   "outputs": [],
   "source": [
    "# 准备数据集\n",
    "from sklearn import datasets\n",
    "X, y = datasets.make_regression(1000, 1, 1)"
   ]
  },
  {
   "cell_type": "code",
   "execution_count": 131,
   "metadata": {
    "collapsed": false
   },
   "outputs": [
    {
     "data": {
      "text/plain": [
       "array([[ 1.],\n",
       "       [ 1.],\n",
       "       [ 1.],\n",
       "       [ 1.],\n",
       "       [ 1.]])"
      ]
     },
     "execution_count": 131,
     "metadata": {},
     "output_type": "execute_result"
    }
   ],
   "source": [
    "regression_models.constant(X)[:5]   # First up is the constant correlation function. This will comprise a constant and more for completeness"
   ]
  },
  {
   "cell_type": "code",
   "execution_count": 132,
   "metadata": {
    "collapsed": false
   },
   "outputs": [
    {
     "data": {
      "text/plain": [
       "array([[ 1.        , -0.96270418]])"
      ]
     },
     "execution_count": 132,
     "metadata": {},
     "output_type": "execute_result"
    }
   ],
   "source": [
    "regression_models.linear(X)[:1]   # Another option is the squared exponential correlation function. This is also the default for the GaussianProcess class"
   ]
  },
  {
   "cell_type": "code",
   "execution_count": 133,
   "metadata": {
    "collapsed": false
   },
   "outputs": [
    {
     "data": {
      "text/plain": [
       "array([[ 1.        , -0.96270418,  0.92679934]])"
      ]
     },
     "execution_count": 133,
     "metadata": {},
     "output_type": "execute_result"
    }
   ],
   "source": [
    "regression_models.quadratic(X)[:1]"
   ]
  },
  {
   "cell_type": "markdown",
   "metadata": {},
   "source": [
    "Now that we have the regression function, we can feed it directly into the GaussianProcess object. The default is the constant regression function, but we can just as easily pass it in a linear model or a quadratic model."
   ]
  },
  {
   "cell_type": "markdown",
   "metadata": {},
   "source": [
    "## 随机梯度下降\n",
    "SGDRegressor类"
   ]
  },
  {
   "cell_type": "code",
   "execution_count": 134,
   "metadata": {
    "collapsed": true
   },
   "outputs": [],
   "source": [
    "from sklearn import linear_model"
   ]
  },
  {
   "cell_type": "code",
   "execution_count": 135,
   "metadata": {
    "collapsed": false
   },
   "outputs": [
    {
     "data": {
      "text/plain": [
       "((1000000L, 100L), (1000000L,))"
      ]
     },
     "execution_count": 135,
     "metadata": {},
     "output_type": "execute_result"
    }
   ],
   "source": [
    "# 创建一个大数据集\n",
    "from sklearn import datasets\n",
    "X, y = datasets.make_regression(int(1e6))  # 默认100*100的矩阵，此处修改参数，输出1000000*100的矩阵\n",
    "X.shape, y.shape # 100万个样本，100个特征"
   ]
  },
  {
   "cell_type": "code",
   "execution_count": 136,
   "metadata": {
    "collapsed": false
   },
   "outputs": [
    {
     "name": "stdout",
     "output_type": "stream",
     "text": [
      "800,000,000\n"
     ]
    }
   ],
   "source": [
    "print \"{:,}\".format(X.nbytes) # X数据集占用了8亿字节内存"
   ]
  },
  {
   "cell_type": "code",
   "execution_count": 137,
   "metadata": {
    "collapsed": false
   },
   "outputs": [
    {
     "data": {
      "text/plain": [
       "800.0"
      ]
     },
     "execution_count": 137,
     "metadata": {},
     "output_type": "execute_result"
    }
   ],
   "source": [
    "X.nbytes / 1e6 # X数据集占用了800MB内存"
   ]
  },
  {
   "cell_type": "code",
   "execution_count": 138,
   "metadata": {
    "collapsed": false
   },
   "outputs": [
    {
     "data": {
      "text/plain": [
       "8L"
      ]
     },
     "execution_count": 138,
     "metadata": {},
     "output_type": "execute_result"
    }
   ],
   "source": [
    "X.nbytes / (X.shape[0]*X.shape[1]) # 每个数据点占用了8字节内存（有100个特征，每个样本包含100个数据点）"
   ]
  },
  {
   "cell_type": "code",
   "execution_count": 139,
   "metadata": {
    "collapsed": false
   },
   "outputs": [
    {
     "data": {
      "text/plain": [
       "SGDRegressor(alpha=0.0001, average=False, epsilon=0.1, eta0=0.01,\n",
       "       fit_intercept=True, l1_ratio=0.15, learning_rate='invscaling',\n",
       "       loss='squared_loss', n_iter=5, penalty='l2', power_t=0.25,\n",
       "       random_state=None, shuffle=True, verbose=0, warm_start=False)"
      ]
     },
     "execution_count": 139,
     "metadata": {},
     "output_type": "execute_result"
    }
   ],
   "source": [
    "sgd = linear_model.SGDRegressor()\n",
    "train = np.random.choice([True, False], size=len(y), p=[.75, .25]) # 选取75%数据为训练集\n",
    "sgd.fit(X[train], y[train])"
   ]
  },
  {
   "cell_type": "code",
   "execution_count": 140,
   "metadata": {
    "collapsed": true
   },
   "outputs": [],
   "source": [
    "test_preds = sgd.predict(X[~train]) # 在测试集上测试模型效果"
   ]
  },
  {
   "cell_type": "code",
   "execution_count": 141,
   "metadata": {
    "collapsed": false
   },
   "outputs": [
    {
     "data": {
      "image/png": "[encoded data removed]",
      "text/plain": [
       "<matplotlib.figure.Figure at 0xc6ed7b8>"
      ]
     },
     "metadata": {},
     "output_type": "display_data"
    }
   ],
   "source": [
    "from matplotlib import pyplot as plt\n",
    "f, ax = plt.subplots(figsize=(10, 7), nrows=1)\n",
    "f.tight_layout()\n",
    "\n",
    "ax.hist(test_preds - y[~train]); # 残差的分布直方图\n",
    "ax.set_title(\"Histogram of Residuals\"); # 拟合效果不错\n",
    "plt.show()"
   ]
  },
  {
   "cell_type": "code",
   "execution_count": null,
   "metadata": {
    "collapsed": true
   },
   "outputs": [],
   "source": []
  }
 ],
 "metadata": {
  "kernelspec": {
   "display_name": "Python 2",
   "language": "python",
   "name": "python2"
  },
  "language_info": {
   "codemirror_mode": {
    "name": "ipython",
    "version": 2
   },
   "file_extension": ".py",
   "mimetype": "text/x-python",
   "name": "python",
   "nbconvert_exporter": "python",
   "pygments_lexer": "ipython2",
   "version": "2.7.11"
  }
 },
 "nbformat": 4,
 "nbformat_minor": 0
}
